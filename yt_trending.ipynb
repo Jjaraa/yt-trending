{
  "nbformat": 4,
  "nbformat_minor": 0,
  "metadata": {
    "colab": {
      "name": "yt-trending.ipynb",
      "provenance": [],
      "authorship_tag": "ABX9TyMKoV7Oxljt8FxgyAXWeo7Y",
      "include_colab_link": true
    },
    "kernelspec": {
      "name": "python3",
      "display_name": "Python 3"
    },
    "language_info": {
      "name": "python"
    }
  },
  "cells": [
    {
      "cell_type": "markdown",
      "metadata": {
        "id": "view-in-github",
        "colab_type": "text"
      },
      "source": [
        "<a href=\"https://colab.research.google.com/github/Jjaraa/yt-trending/blob/main/yt_trending.ipynb\" target=\"_parent\"><img src=\"https://colab.research.google.com/assets/colab-badge.svg\" alt=\"Open In Colab\"/></a>"
      ]
    },
    {
      "cell_type": "code",
      "execution_count": null,
      "metadata": {
        "id": "gXIV9Adh0-gr"
      },
      "outputs": [],
      "source": [
        ""
      ]
    }
  ]
}