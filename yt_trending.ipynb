{
  "cells": [
    {
      "cell_type": "markdown",
      "metadata": {
        "id": "view-in-github",
        "colab_type": "text"
      },
      "source": [
        "<a href=\"https://colab.research.google.com/github/Jjaraa/yt-trending/blob/main/yt_trending.ipynb\" target=\"_parent\"><img src=\"https://colab.research.google.com/assets/colab-badge.svg\" alt=\"Open In Colab\"/></a>"
      ]
    },
    {
      "cell_type": "markdown",
      "metadata": {
        "id": "cGzbhW4D4_NQ"
      },
      "source": [
        "# Análisis de dataset: Youtube Trending Video Dataset\n",
        "\n",
        "Autores: Mauricio Cammpos, Jonathan Jara y Sebastián Pardo\n",
        "Fecha: 30 de Mayo de 2022\n",
        "\n"
      ]
    },
    {
      "cell_type": "markdown",
      "source": [
        "# Introducción"
      ],
      "metadata": {
        "id": "gTu_3PUIZnhP"
      }
    },
    {
      "cell_type": "markdown",
      "metadata": {
        "id": "CuiKbRIS7k3N"
      },
      "source": [
        "YouTube es una aplicación web que ofrece servicios para compartir y hacer streaming de videos bajo demanda o en directo. Es una filial de Google LLC, y sin duda una de las aplicaciones más reconocidas y utilizadas a nivel mundial, de acuerdo con Statista, YouTube es la 2da red social más popular a enero de 2022 [1], con cerca de 2,6 mil millones de usuarios activos mensualmente y una proyección de 2,8 mil millones de usuarios para el año 2025 [2].\n",
        "Cada minuto se suben a esta plataforma más de 500 horas de contenido de videos [3], y en este mismo tiempo se consumen alrededor de 700 horas de contenido multimedia [4].\n",
        "\n",
        "De acuerdo con Google, \"la pestaña de tendencias de YouTube permite que los usuarios descubran las novedades de YouTube\" [5]. Esta es una lista común compuesta de videos actuales que se muestra a todos los usuarios de un mismo país. YouTube mantiene listas de tendencias diferentes para cada país, las cuales actualiza con una frecuencia de 15 minutos. Si bien Google no ha hecho público el método para calcular las listas de tendencias, ha comunicado que buscan seleccionar videos que representen la actualidad de YouTube y sean relevantes para los usuarios del país correspondiente. Algunos de los factores que tienen en cuenta son:\n",
        "\n",
        "-   La cantidad de tiempo que lleva el video en la plataforma.\n",
        "-   Las visitas del video.\n",
        "-   El lugar o página web del que provienen las visitas.\n",
        "-   La rapidez con la que el video acumula visitas.\n",
        "-   El rendimiento del video en comparación a videos anteriores del mismo canal.\n",
        "\n",
        "Basándonos en estos criterios, es posible que se encuentren videos con bajas visitas en posiciones altas de la lista, si estas se comparan con otros videos de la misma lista.\n",
        "\n",
        "El conjunto de datos seleccionado, [**YouTube Trending Video Dataset (updated daily)**](https://www.kaggle.com/datasets/rsrishav/youtube-trending-video-dataset/versions/610) contiene la información de estas listas de tendencias de 11 países: Brasil, Canadá, Alemania, Francia, Gran Bretaña, India, Japón, Corea del sur, México, Rusia y Estados Unidos. Algunos de los datos que incluye son el título del video, la fecha de subida del video, la cantidad de likes y de visitas, etc. El conjunto de datos es actualizado con una frecuencia diaria y se agregan hasta 200 videos nuevos en las listas de tendencias por día. Se utilizará la versión 610 del conjunto de datos, la cual contiene datos actualizados hasta el día 7 de Abril de 2022.\n",
        "\n",
        "El estudio de este conjunto de datos resulta interesante, ya que al ser datos de una aplicación tan grande se tienen datos que incluyen la interacción de miles de millones de personas a escala global. Para esto, el creador del conjunto de datos propone algunos usos:\n",
        "\n",
        "-   Análisis de sentimientos.\n",
        "-   Categorizar los videos basados en sus comentarios o estadísticas.\n",
        "-   Entrenar algoritmos de Machine Learning para generar comentarios.\n",
        "-   Analizar que factores afectan a la popularidad de un video.\n",
        "-   Análisis estadísticos a lo largo del tiempo.\n",
        "\n",
        "Añadiendo a estas propuestas, puede resultar interesante el estudio de estos datos para encontrar todo tipo de relaciones entre los datos de cada video y el entorno de YouTube, por ejemplo:\n",
        "\n",
        "-   Determinar factores diferenciadores y comunes en las portadas de los videos en tendencia.\n",
        "-   Identificar los tópicos que mejor funcionan para un tema específico (salud, deporte, juegos, etc.).\n",
        "-   Encontrar nichos de contenido que estén en crecimiento.\n",
        "-   Estudiar las mejores formas de estructurar el título de un video para aumentar las visualizaciones.\n",
        "-   Identificar las preferencias de cada país respecto del contenido consumido.\n",
        "\n",
        "Otra área que resulta interesante explorar es automatizar la generación de alguno de los atributos del conjunto de datos, como la miniatura, el título o la descripción. Finalmente, la predicción del rendimiento de un video (visualizaciones, likes, dislikes) es otra razón que hace interesante el estudio de este conjunto de datos."
      ]
    },
    {
      "cell_type": "markdown",
      "metadata": {
        "id": "THZLKFb973Re"
      },
      "source": [
        "# Análisis exploratorio del conjunto de datos"
      ]
    },
    {
      "cell_type": "markdown",
      "metadata": {
        "id": "R_gduCpY-1Ud"
      },
      "source": [
        "## Carga del conjunto de datos"
      ]
    },
    {
      "cell_type": "code",
      "execution_count": null,
      "metadata": {
        "colab": {
          "base_uri": "https://localhost:8080/"
        },
        "id": "KjugwuR6_Vyd",
        "outputId": "e2291ef7-5b93-4900-cd6e-f2243148b238"
      },
      "outputs": [
        {
          "output_type": "stream",
          "name": "stdout",
          "text": [
            "Drive already mounted at /content/drive; to attempt to forcibly remount, call drive.mount(\"/content/drive\", force_remount=True).\n"
          ]
        }
      ],
      "source": [
        "from google.colab import drive\n",
        "drive.mount('/content/drive')"
      ]
    },
    {
      "cell_type": "markdown",
      "metadata": {
        "id": "iaXn2AnI774v"
      },
      "source": [
        "Los datos a analizar corresponden a los trendings de YouTube para el país de México, separado en dos dataset, uno que corresponde al principal, y un segundo dataset con información de las categorías disponibles para cada video.\n",
        "\n",
        "Se comenzará cargando el dataset principal a un dataframe:"
      ]
    },
    {
      "cell_type": "code",
      "execution_count": null,
      "metadata": {
        "id": "gXIV9Adh0-gr"
      },
      "outputs": [],
      "source": [
        "import pandas as pd\n",
        "from datetime import datetime\n",
        "\n",
        "dateparse = lambda x: datetime.strptime(x, '%Y-%m-%dT%H:%M:%SZ')\n",
        "\n",
        "mx_dataset = pd.read_csv(\"/content/drive/MyDrive/dataset/MX_youtube_trending_data.csv\",\n",
        "                         parse_dates=['publishedAt', 'trending_date'],\n",
        "                         date_parser=dateparse)"
      ]
    },
    {
      "cell_type": "code",
      "execution_count": null,
      "metadata": {
        "id": "-efcoOaOJsto",
        "colab": {
          "base_uri": "https://localhost:8080/",
          "height": 634
        },
        "outputId": "350e28aa-4939-474c-b223-b90bd0ba7dc9"
      },
      "outputs": [
        {
          "output_type": "execute_result",
          "data": {
            "text/plain": [
              "      video_id                                              title  \\\n",
              "0  SsWHMAhshPQ  Ovi x Natanael Cano x Aleman x Big Soto - Veng...   \n",
              "1  JOaeND0xUNk  Belinda y Christian Nodal cantan De los besos ...   \n",
              "2  SV91jnGs--s        ¿QUIÉN HACE LOS MEJORES NUGGETS? | EL GUZII   \n",
              "3  QgX0zn5nMyk  Martha Figueroa se disculpa públicamente con N...   \n",
              "4  cKaM19oAwBM  MAQUILLAJE PARA KIMBERLY LOAIZA✨ RESISTENTE AL...   \n",
              "\n",
              "          publishedAt                 channelId       channelTitle  \\\n",
              "0 2020-08-11 23:00:10  UC648rgJOboZlgcDbW00vTSA     Rancho Humilde   \n",
              "1 2020-08-11 18:03:06  UCNVrBkfp4_TG9x4h5kvLeAQ          TV Azteca   \n",
              "2 2020-08-11 19:57:02  UCuGn3ioftOo6jvHE1YK4Bfw           El Guzii   \n",
              "3 2020-08-11 15:57:47  UCJPd6seu4JK4PZjVVTWb0QA                Hoy   \n",
              "4 2020-08-11 21:55:08  UCs5w0QCxsEWz83vuQyOCnuA  Victor Guadarrama   \n",
              "\n",
              "   categoryId trending_date  \\\n",
              "0          10    2020-08-12   \n",
              "1          24    2020-08-12   \n",
              "2          26    2020-08-12   \n",
              "3          24    2020-08-12   \n",
              "4          26    2020-08-12   \n",
              "\n",
              "                                                tags  view_count   likes  \\\n",
              "0  Vengo De Nada|Aleman|Ovi|Big Soto|Trap|Ovi Nat...      741028  113999   \n",
              "1  tv azteca|videos de tv azteca|azteca uno|en su...      402507    8102   \n",
              "2  El Guzii|Guzzi|Guzy|Guzii Style|Recetas Divert...      735044   62188   \n",
              "3  Televisa|Televisa espectaculos|programa hoy te...      521751    4680   \n",
              "4  MAQUILLAJE|CELEBS|ARTE|MAKEUP|PESTAÑAS|KIMBERL...      168118   24551   \n",
              "\n",
              "   dislikes  comment_count                                  thumbnail_link  \\\n",
              "0      4380           5620  https://i.ytimg.com/vi/SsWHMAhshPQ/default.jpg   \n",
              "1       831            803  https://i.ytimg.com/vi/JOaeND0xUNk/default.jpg   \n",
              "2      1053           4100  https://i.ytimg.com/vi/SV91jnGs--s/default.jpg   \n",
              "3      3129           2285  https://i.ytimg.com/vi/QgX0zn5nMyk/default.jpg   \n",
              "4       537            782  https://i.ytimg.com/vi/cKaM19oAwBM/default.jpg   \n",
              "\n",
              "   comments_disabled  ratings_disabled  \\\n",
              "0              False             False   \n",
              "1              False             False   \n",
              "2              False             False   \n",
              "3              False             False   \n",
              "4              False             False   \n",
              "\n",
              "                                         description  \n",
              "0  Vengo De Nada - Ovi x Natanael Cano x Aleman x...  \n",
              "1  Encendieron el escenario de La Voz. TV AztecaT...  \n",
              "2  Si tienes 10 kg de sobre peso tal vez te haz p...  \n",
              "3  Mira aquí el contenido exclusivo que tenemos p...  \n",
              "4  No olvides suscribirte y activar la campanita ...  "
            ],
            "text/html": [
              "\n",
              "  <div id=\"df-485ad9ec-517e-4339-876d-96148ff1fa65\">\n",
              "    <div class=\"colab-df-container\">\n",
              "      <div>\n",
              "<style scoped>\n",
              "    .dataframe tbody tr th:only-of-type {\n",
              "        vertical-align: middle;\n",
              "    }\n",
              "\n",
              "    .dataframe tbody tr th {\n",
              "        vertical-align: top;\n",
              "    }\n",
              "\n",
              "    .dataframe thead th {\n",
              "        text-align: right;\n",
              "    }\n",
              "</style>\n",
              "<table border=\"1\" class=\"dataframe\">\n",
              "  <thead>\n",
              "    <tr style=\"text-align: right;\">\n",
              "      <th></th>\n",
              "      <th>video_id</th>\n",
              "      <th>title</th>\n",
              "      <th>publishedAt</th>\n",
              "      <th>channelId</th>\n",
              "      <th>channelTitle</th>\n",
              "      <th>categoryId</th>\n",
              "      <th>trending_date</th>\n",
              "      <th>tags</th>\n",
              "      <th>view_count</th>\n",
              "      <th>likes</th>\n",
              "      <th>dislikes</th>\n",
              "      <th>comment_count</th>\n",
              "      <th>thumbnail_link</th>\n",
              "      <th>comments_disabled</th>\n",
              "      <th>ratings_disabled</th>\n",
              "      <th>description</th>\n",
              "    </tr>\n",
              "  </thead>\n",
              "  <tbody>\n",
              "    <tr>\n",
              "      <th>0</th>\n",
              "      <td>SsWHMAhshPQ</td>\n",
              "      <td>Ovi x Natanael Cano x Aleman x Big Soto - Veng...</td>\n",
              "      <td>2020-08-11 23:00:10</td>\n",
              "      <td>UC648rgJOboZlgcDbW00vTSA</td>\n",
              "      <td>Rancho Humilde</td>\n",
              "      <td>10</td>\n",
              "      <td>2020-08-12</td>\n",
              "      <td>Vengo De Nada|Aleman|Ovi|Big Soto|Trap|Ovi Nat...</td>\n",
              "      <td>741028</td>\n",
              "      <td>113999</td>\n",
              "      <td>4380</td>\n",
              "      <td>5620</td>\n",
              "      <td>https://i.ytimg.com/vi/SsWHMAhshPQ/default.jpg</td>\n",
              "      <td>False</td>\n",
              "      <td>False</td>\n",
              "      <td>Vengo De Nada - Ovi x Natanael Cano x Aleman x...</td>\n",
              "    </tr>\n",
              "    <tr>\n",
              "      <th>1</th>\n",
              "      <td>JOaeND0xUNk</td>\n",
              "      <td>Belinda y Christian Nodal cantan De los besos ...</td>\n",
              "      <td>2020-08-11 18:03:06</td>\n",
              "      <td>UCNVrBkfp4_TG9x4h5kvLeAQ</td>\n",
              "      <td>TV Azteca</td>\n",
              "      <td>24</td>\n",
              "      <td>2020-08-12</td>\n",
              "      <td>tv azteca|videos de tv azteca|azteca uno|en su...</td>\n",
              "      <td>402507</td>\n",
              "      <td>8102</td>\n",
              "      <td>831</td>\n",
              "      <td>803</td>\n",
              "      <td>https://i.ytimg.com/vi/JOaeND0xUNk/default.jpg</td>\n",
              "      <td>False</td>\n",
              "      <td>False</td>\n",
              "      <td>Encendieron el escenario de La Voz. TV AztecaT...</td>\n",
              "    </tr>\n",
              "    <tr>\n",
              "      <th>2</th>\n",
              "      <td>SV91jnGs--s</td>\n",
              "      <td>¿QUIÉN HACE LOS MEJORES NUGGETS? | EL GUZII</td>\n",
              "      <td>2020-08-11 19:57:02</td>\n",
              "      <td>UCuGn3ioftOo6jvHE1YK4Bfw</td>\n",
              "      <td>El Guzii</td>\n",
              "      <td>26</td>\n",
              "      <td>2020-08-12</td>\n",
              "      <td>El Guzii|Guzzi|Guzy|Guzii Style|Recetas Divert...</td>\n",
              "      <td>735044</td>\n",
              "      <td>62188</td>\n",
              "      <td>1053</td>\n",
              "      <td>4100</td>\n",
              "      <td>https://i.ytimg.com/vi/SV91jnGs--s/default.jpg</td>\n",
              "      <td>False</td>\n",
              "      <td>False</td>\n",
              "      <td>Si tienes 10 kg de sobre peso tal vez te haz p...</td>\n",
              "    </tr>\n",
              "    <tr>\n",
              "      <th>3</th>\n",
              "      <td>QgX0zn5nMyk</td>\n",
              "      <td>Martha Figueroa se disculpa públicamente con N...</td>\n",
              "      <td>2020-08-11 15:57:47</td>\n",
              "      <td>UCJPd6seu4JK4PZjVVTWb0QA</td>\n",
              "      <td>Hoy</td>\n",
              "      <td>24</td>\n",
              "      <td>2020-08-12</td>\n",
              "      <td>Televisa|Televisa espectaculos|programa hoy te...</td>\n",
              "      <td>521751</td>\n",
              "      <td>4680</td>\n",
              "      <td>3129</td>\n",
              "      <td>2285</td>\n",
              "      <td>https://i.ytimg.com/vi/QgX0zn5nMyk/default.jpg</td>\n",
              "      <td>False</td>\n",
              "      <td>False</td>\n",
              "      <td>Mira aquí el contenido exclusivo que tenemos p...</td>\n",
              "    </tr>\n",
              "    <tr>\n",
              "      <th>4</th>\n",
              "      <td>cKaM19oAwBM</td>\n",
              "      <td>MAQUILLAJE PARA KIMBERLY LOAIZA✨ RESISTENTE AL...</td>\n",
              "      <td>2020-08-11 21:55:08</td>\n",
              "      <td>UCs5w0QCxsEWz83vuQyOCnuA</td>\n",
              "      <td>Victor Guadarrama</td>\n",
              "      <td>26</td>\n",
              "      <td>2020-08-12</td>\n",
              "      <td>MAQUILLAJE|CELEBS|ARTE|MAKEUP|PESTAÑAS|KIMBERL...</td>\n",
              "      <td>168118</td>\n",
              "      <td>24551</td>\n",
              "      <td>537</td>\n",
              "      <td>782</td>\n",
              "      <td>https://i.ytimg.com/vi/cKaM19oAwBM/default.jpg</td>\n",
              "      <td>False</td>\n",
              "      <td>False</td>\n",
              "      <td>No olvides suscribirte y activar la campanita ...</td>\n",
              "    </tr>\n",
              "  </tbody>\n",
              "</table>\n",
              "</div>\n",
              "      <button class=\"colab-df-convert\" onclick=\"convertToInteractive('df-485ad9ec-517e-4339-876d-96148ff1fa65')\"\n",
              "              title=\"Convert this dataframe to an interactive table.\"\n",
              "              style=\"display:none;\">\n",
              "        \n",
              "  <svg xmlns=\"http://www.w3.org/2000/svg\" height=\"24px\"viewBox=\"0 0 24 24\"\n",
              "       width=\"24px\">\n",
              "    <path d=\"M0 0h24v24H0V0z\" fill=\"none\"/>\n",
              "    <path d=\"M18.56 5.44l.94 2.06.94-2.06 2.06-.94-2.06-.94-.94-2.06-.94 2.06-2.06.94zm-11 1L8.5 8.5l.94-2.06 2.06-.94-2.06-.94L8.5 2.5l-.94 2.06-2.06.94zm10 10l.94 2.06.94-2.06 2.06-.94-2.06-.94-.94-2.06-.94 2.06-2.06.94z\"/><path d=\"M17.41 7.96l-1.37-1.37c-.4-.4-.92-.59-1.43-.59-.52 0-1.04.2-1.43.59L10.3 9.45l-7.72 7.72c-.78.78-.78 2.05 0 2.83L4 21.41c.39.39.9.59 1.41.59.51 0 1.02-.2 1.41-.59l7.78-7.78 2.81-2.81c.8-.78.8-2.07 0-2.86zM5.41 20L4 18.59l7.72-7.72 1.47 1.35L5.41 20z\"/>\n",
              "  </svg>\n",
              "      </button>\n",
              "      \n",
              "  <style>\n",
              "    .colab-df-container {\n",
              "      display:flex;\n",
              "      flex-wrap:wrap;\n",
              "      gap: 12px;\n",
              "    }\n",
              "\n",
              "    .colab-df-convert {\n",
              "      background-color: #E8F0FE;\n",
              "      border: none;\n",
              "      border-radius: 50%;\n",
              "      cursor: pointer;\n",
              "      display: none;\n",
              "      fill: #1967D2;\n",
              "      height: 32px;\n",
              "      padding: 0 0 0 0;\n",
              "      width: 32px;\n",
              "    }\n",
              "\n",
              "    .colab-df-convert:hover {\n",
              "      background-color: #E2EBFA;\n",
              "      box-shadow: 0px 1px 2px rgba(60, 64, 67, 0.3), 0px 1px 3px 1px rgba(60, 64, 67, 0.15);\n",
              "      fill: #174EA6;\n",
              "    }\n",
              "\n",
              "    [theme=dark] .colab-df-convert {\n",
              "      background-color: #3B4455;\n",
              "      fill: #D2E3FC;\n",
              "    }\n",
              "\n",
              "    [theme=dark] .colab-df-convert:hover {\n",
              "      background-color: #434B5C;\n",
              "      box-shadow: 0px 1px 3px 1px rgba(0, 0, 0, 0.15);\n",
              "      filter: drop-shadow(0px 1px 2px rgba(0, 0, 0, 0.3));\n",
              "      fill: #FFFFFF;\n",
              "    }\n",
              "  </style>\n",
              "\n",
              "      <script>\n",
              "        const buttonEl =\n",
              "          document.querySelector('#df-485ad9ec-517e-4339-876d-96148ff1fa65 button.colab-df-convert');\n",
              "        buttonEl.style.display =\n",
              "          google.colab.kernel.accessAllowed ? 'block' : 'none';\n",
              "\n",
              "        async function convertToInteractive(key) {\n",
              "          const element = document.querySelector('#df-485ad9ec-517e-4339-876d-96148ff1fa65');\n",
              "          const dataTable =\n",
              "            await google.colab.kernel.invokeFunction('convertToInteractive',\n",
              "                                                     [key], {});\n",
              "          if (!dataTable) return;\n",
              "\n",
              "          const docLinkHtml = 'Like what you see? Visit the ' +\n",
              "            '<a target=\"_blank\" href=https://colab.research.google.com/notebooks/data_table.ipynb>data table notebook</a>'\n",
              "            + ' to learn more about interactive tables.';\n",
              "          element.innerHTML = '';\n",
              "          dataTable['output_type'] = 'display_data';\n",
              "          await google.colab.output.renderOutput(dataTable, element);\n",
              "          const docLink = document.createElement('div');\n",
              "          docLink.innerHTML = docLinkHtml;\n",
              "          element.appendChild(docLink);\n",
              "        }\n",
              "      </script>\n",
              "    </div>\n",
              "  </div>\n",
              "  "
            ]
          },
          "metadata": {},
          "execution_count": 22
        }
      ],
      "source": [
        "mx_dataset.head()"
      ]
    },
    {
      "cell_type": "markdown",
      "metadata": {
        "id": "LXK-ntrpKJba"
      },
      "source": [
        "Las dimensiones del dataset son, 121.399 filas y 16 columnas."
      ]
    },
    {
      "cell_type": "code",
      "execution_count": null,
      "metadata": {
        "id": "M_SwbxVzKIsZ",
        "colab": {
          "base_uri": "https://localhost:8080/"
        },
        "outputId": "59b51a0e-0eb0-428f-d1be-5a18bb6faf0e"
      },
      "outputs": [
        {
          "output_type": "execute_result",
          "data": {
            "text/plain": [
              "(121399, 16)"
            ]
          },
          "metadata": {},
          "execution_count": 23
        }
      ],
      "source": [
        "mx_dataset.shape"
      ]
    },
    {
      "cell_type": "markdown",
      "metadata": {
        "id": "iM4f_iQQofU5"
      },
      "source": [
        "Una versión resumida del dataset se encuentra a continuación, en este resumen se indican:\n",
        "\n",
        "- Las columnas del conjunto de datos\n",
        "- La cantidad de datos no nulos existentes en cada columna.\n",
        "- El tipo de dato de los valores de la columna."
      ]
    },
    {
      "cell_type": "code",
      "execution_count": null,
      "metadata": {
        "id": "5XTuMe8IooAE",
        "colab": {
          "base_uri": "https://localhost:8080/"
        },
        "outputId": "a3b4b377-22b6-498a-a18e-7a8bef97adcd"
      },
      "outputs": [
        {
          "output_type": "stream",
          "name": "stdout",
          "text": [
            "<class 'pandas.core.frame.DataFrame'>\n",
            "RangeIndex: 121399 entries, 0 to 121398\n",
            "Data columns (total 16 columns):\n",
            " #   Column             Non-Null Count   Dtype         \n",
            "---  ------             --------------   -----         \n",
            " 0   video_id           121399 non-null  object        \n",
            " 1   title              121399 non-null  object        \n",
            " 2   publishedAt        121399 non-null  datetime64[ns]\n",
            " 3   channelId          121399 non-null  object        \n",
            " 4   channelTitle       121399 non-null  object        \n",
            " 5   categoryId         121399 non-null  int64         \n",
            " 6   trending_date      121399 non-null  datetime64[ns]\n",
            " 7   tags               121399 non-null  object        \n",
            " 8   view_count         121399 non-null  int64         \n",
            " 9   likes              121399 non-null  int64         \n",
            " 10  dislikes           121399 non-null  int64         \n",
            " 11  comment_count      121399 non-null  int64         \n",
            " 12  thumbnail_link     121399 non-null  object        \n",
            " 13  comments_disabled  121399 non-null  bool          \n",
            " 14  ratings_disabled   121399 non-null  bool          \n",
            " 15  description        114580 non-null  object        \n",
            "dtypes: bool(2), datetime64[ns](2), int64(5), object(7)\n",
            "memory usage: 13.2+ MB\n"
          ]
        }
      ],
      "source": [
        "mx_dataset.info(verbose=True)"
      ]
    },
    {
      "cell_type": "markdown",
      "metadata": {
        "id": "Q2sd91jsrGzg"
      },
      "source": [
        "A continuación se muestran los siguientes valores estadísticos de las columnas con valores numéricos:\n",
        "\n",
        "- Cantidad de valores en la columna.\n",
        "- Media de los valores.\n",
        "- Mediana de los valores.\n",
        "- Desviación estándar de los valores.\n",
        "- Valor mínimo.\n",
        "- Percentiles 25%, 50% y 75%.\n",
        "- Valor máximo"
      ]
    },
    {
      "cell_type": "code",
      "execution_count": null,
      "metadata": {
        "id": "D2me1JJzrCaI",
        "colab": {
          "base_uri": "https://localhost:8080/",
          "height": 300
        },
        "outputId": "8490b033-ad59-4abd-d8fb-b5d3dba2b1ef"
      },
      "outputs": [
        {
          "output_type": "execute_result",
          "data": {
            "text/plain": [
              "          categoryId    view_count         likes       dislikes  comment_count\n",
              "count  121399.000000  1.213990e+05  1.213990e+05  121399.000000   1.213990e+05\n",
              "mean       18.686554  2.249624e+06  1.605302e+05    2322.689338   1.198766e+04\n",
              "std         6.478103  5.955026e+06  4.332508e+05   11321.270280   1.010188e+05\n",
              "min         1.000000  0.000000e+00  0.000000e+00       0.000000   0.000000e+00\n",
              "25%        10.000000  3.787540e+05  1.904850e+04     123.000000   8.980000e+02\n",
              "50%        22.000000  8.502010e+05  5.316100e+04     546.000000   2.289000e+03\n",
              "75%        24.000000  2.089202e+06  1.460470e+05    1712.500000   6.136000e+03\n",
              "max        29.000000  2.780806e+08  1.621376e+07  879359.000000   6.817451e+06"
            ],
            "text/html": [
              "\n",
              "  <div id=\"df-f7b467e4-892c-4737-b10a-b3d8fcb656cd\">\n",
              "    <div class=\"colab-df-container\">\n",
              "      <div>\n",
              "<style scoped>\n",
              "    .dataframe tbody tr th:only-of-type {\n",
              "        vertical-align: middle;\n",
              "    }\n",
              "\n",
              "    .dataframe tbody tr th {\n",
              "        vertical-align: top;\n",
              "    }\n",
              "\n",
              "    .dataframe thead th {\n",
              "        text-align: right;\n",
              "    }\n",
              "</style>\n",
              "<table border=\"1\" class=\"dataframe\">\n",
              "  <thead>\n",
              "    <tr style=\"text-align: right;\">\n",
              "      <th></th>\n",
              "      <th>categoryId</th>\n",
              "      <th>view_count</th>\n",
              "      <th>likes</th>\n",
              "      <th>dislikes</th>\n",
              "      <th>comment_count</th>\n",
              "    </tr>\n",
              "  </thead>\n",
              "  <tbody>\n",
              "    <tr>\n",
              "      <th>count</th>\n",
              "      <td>121399.000000</td>\n",
              "      <td>1.213990e+05</td>\n",
              "      <td>1.213990e+05</td>\n",
              "      <td>121399.000000</td>\n",
              "      <td>1.213990e+05</td>\n",
              "    </tr>\n",
              "    <tr>\n",
              "      <th>mean</th>\n",
              "      <td>18.686554</td>\n",
              "      <td>2.249624e+06</td>\n",
              "      <td>1.605302e+05</td>\n",
              "      <td>2322.689338</td>\n",
              "      <td>1.198766e+04</td>\n",
              "    </tr>\n",
              "    <tr>\n",
              "      <th>std</th>\n",
              "      <td>6.478103</td>\n",
              "      <td>5.955026e+06</td>\n",
              "      <td>4.332508e+05</td>\n",
              "      <td>11321.270280</td>\n",
              "      <td>1.010188e+05</td>\n",
              "    </tr>\n",
              "    <tr>\n",
              "      <th>min</th>\n",
              "      <td>1.000000</td>\n",
              "      <td>0.000000e+00</td>\n",
              "      <td>0.000000e+00</td>\n",
              "      <td>0.000000</td>\n",
              "      <td>0.000000e+00</td>\n",
              "    </tr>\n",
              "    <tr>\n",
              "      <th>25%</th>\n",
              "      <td>10.000000</td>\n",
              "      <td>3.787540e+05</td>\n",
              "      <td>1.904850e+04</td>\n",
              "      <td>123.000000</td>\n",
              "      <td>8.980000e+02</td>\n",
              "    </tr>\n",
              "    <tr>\n",
              "      <th>50%</th>\n",
              "      <td>22.000000</td>\n",
              "      <td>8.502010e+05</td>\n",
              "      <td>5.316100e+04</td>\n",
              "      <td>546.000000</td>\n",
              "      <td>2.289000e+03</td>\n",
              "    </tr>\n",
              "    <tr>\n",
              "      <th>75%</th>\n",
              "      <td>24.000000</td>\n",
              "      <td>2.089202e+06</td>\n",
              "      <td>1.460470e+05</td>\n",
              "      <td>1712.500000</td>\n",
              "      <td>6.136000e+03</td>\n",
              "    </tr>\n",
              "    <tr>\n",
              "      <th>max</th>\n",
              "      <td>29.000000</td>\n",
              "      <td>2.780806e+08</td>\n",
              "      <td>1.621376e+07</td>\n",
              "      <td>879359.000000</td>\n",
              "      <td>6.817451e+06</td>\n",
              "    </tr>\n",
              "  </tbody>\n",
              "</table>\n",
              "</div>\n",
              "      <button class=\"colab-df-convert\" onclick=\"convertToInteractive('df-f7b467e4-892c-4737-b10a-b3d8fcb656cd')\"\n",
              "              title=\"Convert this dataframe to an interactive table.\"\n",
              "              style=\"display:none;\">\n",
              "        \n",
              "  <svg xmlns=\"http://www.w3.org/2000/svg\" height=\"24px\"viewBox=\"0 0 24 24\"\n",
              "       width=\"24px\">\n",
              "    <path d=\"M0 0h24v24H0V0z\" fill=\"none\"/>\n",
              "    <path d=\"M18.56 5.44l.94 2.06.94-2.06 2.06-.94-2.06-.94-.94-2.06-.94 2.06-2.06.94zm-11 1L8.5 8.5l.94-2.06 2.06-.94-2.06-.94L8.5 2.5l-.94 2.06-2.06.94zm10 10l.94 2.06.94-2.06 2.06-.94-2.06-.94-.94-2.06-.94 2.06-2.06.94z\"/><path d=\"M17.41 7.96l-1.37-1.37c-.4-.4-.92-.59-1.43-.59-.52 0-1.04.2-1.43.59L10.3 9.45l-7.72 7.72c-.78.78-.78 2.05 0 2.83L4 21.41c.39.39.9.59 1.41.59.51 0 1.02-.2 1.41-.59l7.78-7.78 2.81-2.81c.8-.78.8-2.07 0-2.86zM5.41 20L4 18.59l7.72-7.72 1.47 1.35L5.41 20z\"/>\n",
              "  </svg>\n",
              "      </button>\n",
              "      \n",
              "  <style>\n",
              "    .colab-df-container {\n",
              "      display:flex;\n",
              "      flex-wrap:wrap;\n",
              "      gap: 12px;\n",
              "    }\n",
              "\n",
              "    .colab-df-convert {\n",
              "      background-color: #E8F0FE;\n",
              "      border: none;\n",
              "      border-radius: 50%;\n",
              "      cursor: pointer;\n",
              "      display: none;\n",
              "      fill: #1967D2;\n",
              "      height: 32px;\n",
              "      padding: 0 0 0 0;\n",
              "      width: 32px;\n",
              "    }\n",
              "\n",
              "    .colab-df-convert:hover {\n",
              "      background-color: #E2EBFA;\n",
              "      box-shadow: 0px 1px 2px rgba(60, 64, 67, 0.3), 0px 1px 3px 1px rgba(60, 64, 67, 0.15);\n",
              "      fill: #174EA6;\n",
              "    }\n",
              "\n",
              "    [theme=dark] .colab-df-convert {\n",
              "      background-color: #3B4455;\n",
              "      fill: #D2E3FC;\n",
              "    }\n",
              "\n",
              "    [theme=dark] .colab-df-convert:hover {\n",
              "      background-color: #434B5C;\n",
              "      box-shadow: 0px 1px 3px 1px rgba(0, 0, 0, 0.15);\n",
              "      filter: drop-shadow(0px 1px 2px rgba(0, 0, 0, 0.3));\n",
              "      fill: #FFFFFF;\n",
              "    }\n",
              "  </style>\n",
              "\n",
              "      <script>\n",
              "        const buttonEl =\n",
              "          document.querySelector('#df-f7b467e4-892c-4737-b10a-b3d8fcb656cd button.colab-df-convert');\n",
              "        buttonEl.style.display =\n",
              "          google.colab.kernel.accessAllowed ? 'block' : 'none';\n",
              "\n",
              "        async function convertToInteractive(key) {\n",
              "          const element = document.querySelector('#df-f7b467e4-892c-4737-b10a-b3d8fcb656cd');\n",
              "          const dataTable =\n",
              "            await google.colab.kernel.invokeFunction('convertToInteractive',\n",
              "                                                     [key], {});\n",
              "          if (!dataTable) return;\n",
              "\n",
              "          const docLinkHtml = 'Like what you see? Visit the ' +\n",
              "            '<a target=\"_blank\" href=https://colab.research.google.com/notebooks/data_table.ipynb>data table notebook</a>'\n",
              "            + ' to learn more about interactive tables.';\n",
              "          element.innerHTML = '';\n",
              "          dataTable['output_type'] = 'display_data';\n",
              "          await google.colab.output.renderOutput(dataTable, element);\n",
              "          const docLink = document.createElement('div');\n",
              "          docLink.innerHTML = docLinkHtml;\n",
              "          element.appendChild(docLink);\n",
              "        }\n",
              "      </script>\n",
              "    </div>\n",
              "  </div>\n",
              "  "
            ]
          },
          "metadata": {},
          "execution_count": 25
        }
      ],
      "source": [
        "mx_dataset.describe()"
      ]
    },
    {
      "cell_type": "markdown",
      "source": [
        "Para los atributos `publishedAt` y `trending_date` son de tipo `datetime64` que representa a una fecha. A continuación se muestran las fechas más antiguas y más nuevas de cada atributo:"
      ],
      "metadata": {
        "id": "EtLu0lVr35ab"
      }
    },
    {
      "cell_type": "code",
      "source": [
        "print(\"----- publishedAt -----\")\n",
        "print(mx_dataset.publishedAt.min())\n",
        "print(mx_dataset.publishedAt.max())\n",
        "\n",
        "print(\"----- trending_date -----\")\n",
        "print(mx_dataset.trending_date.min())\n",
        "print(mx_dataset.trending_date.max())"
      ],
      "metadata": {
        "colab": {
          "base_uri": "https://localhost:8080/"
        },
        "id": "570_3xUQ3aa3",
        "outputId": "a5fe6ce4-dcfe-40b9-9aa2-1657f618e579"
      },
      "execution_count": null,
      "outputs": [
        {
          "output_type": "stream",
          "name": "stdout",
          "text": [
            "----- publishedAt -----\n",
            "2020-07-14 22:24:57\n",
            "2022-04-06 20:00:04\n",
            "----- trending_date -----\n",
            "2020-08-12 00:00:00\n",
            "2022-04-07 00:00:00\n"
          ]
        }
      ]
    },
    {
      "cell_type": "markdown",
      "metadata": {
        "id": "hu0KgOffsOVM"
      },
      "source": [
        "El dataset usado, en ocasión del primer hito, corresponde a mx_dataset, el cual encapsula los videos más tendenciosos de YouTube en la región de México. Este dataset contiene, 121399 filas de información, dónde cada fila corresponde a los datos de un video que fue considerado para su captura debido a que estuvo en tendencia en algún momento de su existencia. Las columnas del dataset corresponde a:"
      ]
    },
    {
      "cell_type": "code",
      "execution_count": null,
      "metadata": {
        "id": "mzl3qs9gsTv1",
        "colab": {
          "base_uri": "https://localhost:8080/"
        },
        "outputId": "08e541b6-f99c-4383-ccea-26608445a1d6"
      },
      "outputs": [
        {
          "output_type": "execute_result",
          "data": {
            "text/plain": [
              "['video_id',\n",
              " 'title',\n",
              " 'publishedAt',\n",
              " 'channelId',\n",
              " 'channelTitle',\n",
              " 'categoryId',\n",
              " 'trending_date',\n",
              " 'tags',\n",
              " 'view_count',\n",
              " 'likes',\n",
              " 'dislikes',\n",
              " 'comment_count',\n",
              " 'thumbnail_link',\n",
              " 'comments_disabled',\n",
              " 'ratings_disabled',\n",
              " 'description']"
            ]
          },
          "metadata": {},
          "execution_count": 27
        }
      ],
      "source": [
        "list(mx_dataset.columns)"
      ]
    },
    {
      "cell_type": "markdown",
      "metadata": {
        "id": "EWqRu8BFtMaI"
      },
      "source": [
        "-   video_id (la id única de cada video en YouTube que se encuentra después de www.youtube.com/watch?)\n",
        "-   title (el título del video)\n",
        "-   publishedAt (la marca de tiempo cuando fue subido el video a la plataforma)\n",
        "-   chanelId (identificador único del canal por el cual fue subido el video)\n",
        "-   channelTitle (el nombre del canal dónde fue subido el video)\n",
        "-   categoryId (identificador de la categoría a la cual pertenece el video)\n",
        "-   trending_date (fecha en la cual el video estuvo en tendencia en YouTube)\n",
        "-   tags (etiquetas ingresadas por el usuario que subió el video para identificarlo)\n",
        "-   view_count (cantidad de vistas acumuladas el video)\n",
        "-   likes (cantidad de \"me gusta\" del video)\n",
        "-   dislikes (cantidad de no me gustas del video)\n",
        "-   comment_count (cantidad de comentarios acumulados por el video)\n",
        "-   thumbnail_link (link de la imagen de miniatura del video)\n",
        "-   comments_disabled (booleano que identifica si la posibilidad de escribir comentarios en el video se encuentra disponible)\n",
        "-   ratings_disabled (booleano que muestra si la habilidad de darle me gusta o no me gusta al video se encuentra disponible)\n",
        "-   description (descripción del video escrita por el usuario que lo subió)."
      ]
    },
    {
      "cell_type": "markdown",
      "metadata": {
        "id": "oNqHAWxutQW8"
      },
      "source": [
        "El siguiente gráfico es una matriz de correlación entre columnas numéricas del dataset de México."
      ]
    },
    {
      "cell_type": "code",
      "execution_count": null,
      "metadata": {
        "id": "b-AzzBBztRH7",
        "colab": {
          "base_uri": "https://localhost:8080/",
          "height": 721
        },
        "outputId": "cbf2f895-4d14-4493-e4d8-3b9e7e1dba5e"
      },
      "outputs": [
        {
          "output_type": "execute_result",
          "data": {
            "text/plain": [
              "(array([0.5, 1.5, 2.5, 3.5, 4.5, 5.5, 6.5]),\n",
              " <a list of 7 Text major ticklabel objects>)"
            ]
          },
          "metadata": {},
          "execution_count": 5
        },
        {
          "output_type": "display_data",
          "data": {
            "text/plain": [
              "<Figure size 900x600 with 2 Axes>"
            ],
            "image/png": "[encoded data removed]"
          },
          "metadata": {
            "needs_background": "light"
          }
        }
      ],
      "source": [
        "import matplotlib.pyplot as plt\n",
        "import seaborn as sns\n",
        "\n",
        "plt.rcParams['figure.dpi'] = 150\n",
        "\n",
        "corr = mx_dataset.corr()\n",
        "plot = sns.heatmap(corr, annot=True, cmap=\"Blues\")\n",
        "plt.xticks(rotation=45)\n"
      ]
    },
    {
      "cell_type": "markdown",
      "metadata": {
        "id": "IjdnvQrtwXuT"
      },
      "source": [
        "No se identifica ninguna correlación negativa importante entre las columnas, pero si se identifican al menos 2 correlaciones positivas importantes: la presente entre la cantidad de visitas y likes, y la presente entre la cantidad de likes y de comentarios del video.\n",
        "\n",
        "A continuación, se cargará un segundo dataset asociado al anterior que contiene la información de las categorías de los videos:\n"
      ]
    },
    {
      "cell_type": "code",
      "execution_count": null,
      "metadata": {
        "id": "OOLoXscmwZ0q",
        "colab": {
          "base_uri": "https://localhost:8080/",
          "height": 250
        },
        "outputId": "2abd3517-7ade-4d98-e5c5-b85c6f53c206"
      },
      "outputs": [
        {
          "output_type": "execute_result",
          "data": {
            "text/plain": [
              "                    kind                         etag  id     snippet.title  \\\n",
              "0  youtube#videoCategory  IfWa37JGcqZs-jZeAyFGkbeh6bc   1  Film & Animation   \n",
              "1  youtube#videoCategory  5XGylIs7zkjHh5940dsT5862m1Y   2  Autos & Vehicles   \n",
              "2  youtube#videoCategory  HCjFMARbBeWjpm6PDfReCOMOZGA  10             Music   \n",
              "3  youtube#videoCategory  ra8H7xyAfmE2FewsDabE3TUSq10  15    Pets & Animals   \n",
              "4  youtube#videoCategory  7mqChSJogdF3hSIL-88BfDE-W8M  17            Sports   \n",
              "\n",
              "   snippet.assignable         snippet.channelId  \n",
              "0                True  UCBR8-60-B28hp2BmDPdntcQ  \n",
              "1                True  UCBR8-60-B28hp2BmDPdntcQ  \n",
              "2                True  UCBR8-60-B28hp2BmDPdntcQ  \n",
              "3                True  UCBR8-60-B28hp2BmDPdntcQ  \n",
              "4                True  UCBR8-60-B28hp2BmDPdntcQ  "
            ],
            "text/html": [
              "\n",
              "  <div id=\"df-743a3df3-09ac-4c09-8090-4c1a0a2b62a0\">\n",
              "    <div class=\"colab-df-container\">\n",
              "      <div>\n",
              "<style scoped>\n",
              "    .dataframe tbody tr th:only-of-type {\n",
              "        vertical-align: middle;\n",
              "    }\n",
              "\n",
              "    .dataframe tbody tr th {\n",
              "        vertical-align: top;\n",
              "    }\n",
              "\n",
              "    .dataframe thead th {\n",
              "        text-align: right;\n",
              "    }\n",
              "</style>\n",
              "<table border=\"1\" class=\"dataframe\">\n",
              "  <thead>\n",
              "    <tr style=\"text-align: right;\">\n",
              "      <th></th>\n",
              "      <th>kind</th>\n",
              "      <th>etag</th>\n",
              "      <th>id</th>\n",
              "      <th>snippet.title</th>\n",
              "      <th>snippet.assignable</th>\n",
              "      <th>snippet.channelId</th>\n",
              "    </tr>\n",
              "  </thead>\n",
              "  <tbody>\n",
              "    <tr>\n",
              "      <th>0</th>\n",
              "      <td>youtube#videoCategory</td>\n",
              "      <td>IfWa37JGcqZs-jZeAyFGkbeh6bc</td>\n",
              "      <td>1</td>\n",
              "      <td>Film &amp; Animation</td>\n",
              "      <td>True</td>\n",
              "      <td>UCBR8-60-B28hp2BmDPdntcQ</td>\n",
              "    </tr>\n",
              "    <tr>\n",
              "      <th>1</th>\n",
              "      <td>youtube#videoCategory</td>\n",
              "      <td>5XGylIs7zkjHh5940dsT5862m1Y</td>\n",
              "      <td>2</td>\n",
              "      <td>Autos &amp; Vehicles</td>\n",
              "      <td>True</td>\n",
              "      <td>UCBR8-60-B28hp2BmDPdntcQ</td>\n",
              "    </tr>\n",
              "    <tr>\n",
              "      <th>2</th>\n",
              "      <td>youtube#videoCategory</td>\n",
              "      <td>HCjFMARbBeWjpm6PDfReCOMOZGA</td>\n",
              "      <td>10</td>\n",
              "      <td>Music</td>\n",
              "      <td>True</td>\n",
              "      <td>UCBR8-60-B28hp2BmDPdntcQ</td>\n",
              "    </tr>\n",
              "    <tr>\n",
              "      <th>3</th>\n",
              "      <td>youtube#videoCategory</td>\n",
              "      <td>ra8H7xyAfmE2FewsDabE3TUSq10</td>\n",
              "      <td>15</td>\n",
              "      <td>Pets &amp; Animals</td>\n",
              "      <td>True</td>\n",
              "      <td>UCBR8-60-B28hp2BmDPdntcQ</td>\n",
              "    </tr>\n",
              "    <tr>\n",
              "      <th>4</th>\n",
              "      <td>youtube#videoCategory</td>\n",
              "      <td>7mqChSJogdF3hSIL-88BfDE-W8M</td>\n",
              "      <td>17</td>\n",
              "      <td>Sports</td>\n",
              "      <td>True</td>\n",
              "      <td>UCBR8-60-B28hp2BmDPdntcQ</td>\n",
              "    </tr>\n",
              "  </tbody>\n",
              "</table>\n",
              "</div>\n",
              "      <button class=\"colab-df-convert\" onclick=\"convertToInteractive('df-743a3df3-09ac-4c09-8090-4c1a0a2b62a0')\"\n",
              "              title=\"Convert this dataframe to an interactive table.\"\n",
              "              style=\"display:none;\">\n",
              "        \n",
              "  <svg xmlns=\"http://www.w3.org/2000/svg\" height=\"24px\"viewBox=\"0 0 24 24\"\n",
              "       width=\"24px\">\n",
              "    <path d=\"M0 0h24v24H0V0z\" fill=\"none\"/>\n",
              "    <path d=\"M18.56 5.44l.94 2.06.94-2.06 2.06-.94-2.06-.94-.94-2.06-.94 2.06-2.06.94zm-11 1L8.5 8.5l.94-2.06 2.06-.94-2.06-.94L8.5 2.5l-.94 2.06-2.06.94zm10 10l.94 2.06.94-2.06 2.06-.94-2.06-.94-.94-2.06-.94 2.06-2.06.94z\"/><path d=\"M17.41 7.96l-1.37-1.37c-.4-.4-.92-.59-1.43-.59-.52 0-1.04.2-1.43.59L10.3 9.45l-7.72 7.72c-.78.78-.78 2.05 0 2.83L4 21.41c.39.39.9.59 1.41.59.51 0 1.02-.2 1.41-.59l7.78-7.78 2.81-2.81c.8-.78.8-2.07 0-2.86zM5.41 20L4 18.59l7.72-7.72 1.47 1.35L5.41 20z\"/>\n",
              "  </svg>\n",
              "      </button>\n",
              "      \n",
              "  <style>\n",
              "    .colab-df-container {\n",
              "      display:flex;\n",
              "      flex-wrap:wrap;\n",
              "      gap: 12px;\n",
              "    }\n",
              "\n",
              "    .colab-df-convert {\n",
              "      background-color: #E8F0FE;\n",
              "      border: none;\n",
              "      border-radius: 50%;\n",
              "      cursor: pointer;\n",
              "      display: none;\n",
              "      fill: #1967D2;\n",
              "      height: 32px;\n",
              "      padding: 0 0 0 0;\n",
              "      width: 32px;\n",
              "    }\n",
              "\n",
              "    .colab-df-convert:hover {\n",
              "      background-color: #E2EBFA;\n",
              "      box-shadow: 0px 1px 2px rgba(60, 64, 67, 0.3), 0px 1px 3px 1px rgba(60, 64, 67, 0.15);\n",
              "      fill: #174EA6;\n",
              "    }\n",
              "\n",
              "    [theme=dark] .colab-df-convert {\n",
              "      background-color: #3B4455;\n",
              "      fill: #D2E3FC;\n",
              "    }\n",
              "\n",
              "    [theme=dark] .colab-df-convert:hover {\n",
              "      background-color: #434B5C;\n",
              "      box-shadow: 0px 1px 3px 1px rgba(0, 0, 0, 0.15);\n",
              "      filter: drop-shadow(0px 1px 2px rgba(0, 0, 0, 0.3));\n",
              "      fill: #FFFFFF;\n",
              "    }\n",
              "  </style>\n",
              "\n",
              "      <script>\n",
              "        const buttonEl =\n",
              "          document.querySelector('#df-743a3df3-09ac-4c09-8090-4c1a0a2b62a0 button.colab-df-convert');\n",
              "        buttonEl.style.display =\n",
              "          google.colab.kernel.accessAllowed ? 'block' : 'none';\n",
              "\n",
              "        async function convertToInteractive(key) {\n",
              "          const element = document.querySelector('#df-743a3df3-09ac-4c09-8090-4c1a0a2b62a0');\n",
              "          const dataTable =\n",
              "            await google.colab.kernel.invokeFunction('convertToInteractive',\n",
              "                                                     [key], {});\n",
              "          if (!dataTable) return;\n",
              "\n",
              "          const docLinkHtml = 'Like what you see? Visit the ' +\n",
              "            '<a target=\"_blank\" href=https://colab.research.google.com/notebooks/data_table.ipynb>data table notebook</a>'\n",
              "            + ' to learn more about interactive tables.';\n",
              "          element.innerHTML = '';\n",
              "          dataTable['output_type'] = 'display_data';\n",
              "          await google.colab.output.renderOutput(dataTable, element);\n",
              "          const docLink = document.createElement('div');\n",
              "          docLink.innerHTML = docLinkHtml;\n",
              "          element.appendChild(docLink);\n",
              "        }\n",
              "      </script>\n",
              "    </div>\n",
              "  </div>\n",
              "  "
            ]
          },
          "metadata": {},
          "execution_count": 29
        }
      ],
      "source": [
        "import json\n",
        "\n",
        "with open('/content/drive/MyDrive/dataset/MX_category_id.json') as f:\n",
        "    json_data = json.load(f)\n",
        "\n",
        "\n",
        "mx_categories = pd.json_normalize(json_data, record_path=\"items\")\n",
        "mx_categories.head()"
      ]
    },
    {
      "cell_type": "markdown",
      "metadata": {
        "id": "pN_Ntahkw74f"
      },
      "source": [
        "El archivo **MX_category_id.json** contiene las categorías (*categoryId*) a la que puede pertenecer cada uno de los videos. Las columnas de este archivo son las siguientes:\n",
        "\n",
        "-   kind (La clase correspondiente al dato, en este caso fijada a \"youtube#videoCategory\")\n",
        "-   etag (Texto que corresponde al http etag de este recurso)\n",
        "-   id (Texto, la identificación única que YouTube usa para identificar la categoría)\n",
        "-   snippet (Detalles básicos de la categoría en cuestión)\n",
        "-   title (Descripción de la categoría)\n",
        "-   assignable (Valor booleano que denota si la categoría puede asignarse)\n",
        "-   channelId (Identificador del canal único que YouTube otorga a esta categoría)"
      ]
    },
    {
      "cell_type": "markdown",
      "metadata": {
        "id": "itZ_1B8nw86c"
      },
      "source": [
        "Las dimensiones de este dataset son, 31 filas y 6 columnas."
      ]
    },
    {
      "cell_type": "code",
      "execution_count": null,
      "metadata": {
        "id": "3dmyQKTgw_Qg",
        "colab": {
          "base_uri": "https://localhost:8080/"
        },
        "outputId": "3bc23ab8-bc13-4f2d-aec3-01877e3b950b"
      },
      "outputs": [
        {
          "output_type": "execute_result",
          "data": {
            "text/plain": [
              "(31, 6)"
            ]
          },
          "metadata": {},
          "execution_count": 30
        }
      ],
      "source": [
        "mx_categories.shape"
      ]
    },
    {
      "cell_type": "markdown",
      "metadata": {
        "id": "opA569kz3MdL"
      },
      "source": [
        "En total este dataset contiene 30 categorías, a continuación se listan todas las categorías:"
      ]
    },
    {
      "cell_type": "code",
      "execution_count": null,
      "metadata": {
        "id": "Wzrec26q3NXs",
        "colab": {
          "base_uri": "https://localhost:8080/"
        },
        "outputId": "7bba6b08-fd9b-4282-d9b6-1080c6092418"
      },
      "outputs": [
        {
          "output_type": "execute_result",
          "data": {
            "text/plain": [
              "['Film & Animation',\n",
              " 'Autos & Vehicles',\n",
              " 'Music',\n",
              " 'Pets & Animals',\n",
              " 'Sports',\n",
              " 'Short Movies',\n",
              " 'Travel & Events',\n",
              " 'Gaming',\n",
              " 'Videoblogging',\n",
              " 'People & Blogs',\n",
              " 'Comedy',\n",
              " 'Entertainment',\n",
              " 'News & Politics',\n",
              " 'Howto & Style',\n",
              " 'Education',\n",
              " 'Science & Technology',\n",
              " 'Movies',\n",
              " 'Anime/Animation',\n",
              " 'Action/Adventure',\n",
              " 'Classics',\n",
              " 'Documentary',\n",
              " 'Drama',\n",
              " 'Family',\n",
              " 'Foreign',\n",
              " 'Horror',\n",
              " 'Sci-Fi/Fantasy',\n",
              " 'Thriller',\n",
              " 'Shorts',\n",
              " 'Shows',\n",
              " 'Trailers']"
            ]
          },
          "metadata": {},
          "execution_count": 31
        }
      ],
      "source": [
        "list(mx_categories['snippet.title'].unique())"
      ]
    },
    {
      "cell_type": "markdown",
      "metadata": {
        "id": "jmV_LQJs5H_7"
      },
      "source": [
        "El dataset mx_dataset contiene, 6819 valores en blanco en la columna `description`.\n",
        "Para contarlos se reemplazaron las celdas que tuviese un `string` vacío por valores `NaN` para facilitar el conteo de estos. "
      ]
    },
    {
      "cell_type": "code",
      "execution_count": null,
      "metadata": {
        "id": "CugwC0Kk5iwz",
        "colab": {
          "base_uri": "https://localhost:8080/"
        },
        "outputId": "b93bc551-2a07-432e-8d91-f8d7577723f2"
      },
      "outputs": [
        {
          "output_type": "execute_result",
          "data": {
            "text/plain": [
              "video_id                0\n",
              "title                   0\n",
              "publishedAt             0\n",
              "channelId               0\n",
              "channelTitle            0\n",
              "categoryId              0\n",
              "trending_date           0\n",
              "tags                    0\n",
              "view_count              0\n",
              "likes                   0\n",
              "dislikes                0\n",
              "comment_count           0\n",
              "thumbnail_link          0\n",
              "comments_disabled       0\n",
              "ratings_disabled        0\n",
              "description          6819\n",
              "dtype: int64"
            ]
          },
          "metadata": {},
          "execution_count": 32
        }
      ],
      "source": [
        "import numpy as np\n",
        "mx_dataset = mx_dataset.replace(r'^\\s*$', np.nan, regex=True)\n",
        "mx_dataset.isnull().sum()"
      ]
    },
    {
      "cell_type": "markdown",
      "metadata": {
        "id": "BlUi9ER082JW"
      },
      "source": [
        "El dataset mx_categories no contiene valores nulos o en blanco en ninguna de sus columnas."
      ]
    },
    {
      "cell_type": "code",
      "execution_count": null,
      "metadata": {
        "id": "psFupUDl87g3",
        "colab": {
          "base_uri": "https://localhost:8080/"
        },
        "outputId": "60f384cf-734f-4486-faa5-477db86dcfcf"
      },
      "outputs": [
        {
          "output_type": "execute_result",
          "data": {
            "text/plain": [
              "kind                  0\n",
              "etag                  0\n",
              "id                    0\n",
              "snippet.title         0\n",
              "snippet.assignable    0\n",
              "snippet.channelId     0\n",
              "dtype: int64"
            ]
          },
          "metadata": {},
          "execution_count": 33
        }
      ],
      "source": [
        "mx_categories = mx_categories.replace(r'^\\s*$', np.nan, regex=True)\n",
        "mx_categories.isnull().sum()"
      ]
    },
    {
      "cell_type": "markdown",
      "metadata": {
        "id": "psEAZR8o9I3x"
      },
      "source": [
        "## Cantidad de videos por categoría\n",
        "La cantidad de videos que tiene cada categoría para el dataset de México se presenta en el siguiente gráfico:"
      ]
    },
    {
      "cell_type": "code",
      "execution_count": null,
      "metadata": {
        "id": "gP2amh1z9OMK",
        "colab": {
          "base_uri": "https://localhost:8080/",
          "height": 664
        },
        "outputId": "571d7525-7b4d-4dfa-8c92-21e250610cd9"
      },
      "outputs": [
        {
          "output_type": "execute_result",
          "data": {
            "text/plain": [
              "      video_id                                              title  \\\n",
              "0  SsWHMAhshPQ  Ovi x Natanael Cano x Aleman x Big Soto - Veng...   \n",
              "1  jbGRowa5tIk                          ITZY “Not Shy” M/V TEASER   \n",
              "2  vX5v6umIWXU  JD Pantoja 12•19 Letra Oficial Y Significado |...   \n",
              "3  zrsBjYukE8s   박진영 (J.Y. Park) When We Disco (Duet with 선미) M/V   \n",
              "4  9fPQAHV1p78                       WONHO 원호 'LOSING YOU' Teaser   \n",
              "\n",
              "          publishedAt                 channelId            channelTitle  \\\n",
              "0 2020-08-11 23:00:10  UC648rgJOboZlgcDbW00vTSA          Rancho Humilde   \n",
              "1 2020-08-11 15:00:13  UCaO6TYtlC8U5ttz62hTrZgg       JYP Entertainment   \n",
              "2 2020-08-10 16:59:41  UCyFZMEnm1il5Wv3a6tPscbA                  Genius   \n",
              "3 2020-08-11 09:00:13  UCaO6TYtlC8U5ttz62hTrZgg       JYP Entertainment   \n",
              "4 2020-08-11 11:00:02  UCQTziMRyGV5vmzdo6pNvQWg  HIGHLINE ENTERTAINMENT   \n",
              "\n",
              "   categoryId trending_date  \\\n",
              "0          10    2020-08-12   \n",
              "1          10    2020-08-12   \n",
              "2          10    2020-08-12   \n",
              "3          10    2020-08-12   \n",
              "4          10    2020-08-12   \n",
              "\n",
              "                                                tags  view_count   likes  ...  \\\n",
              "0  Vengo De Nada|Aleman|Ovi|Big Soto|Trap|Ovi Nat...      741028  113999  ...   \n",
              "1  JYP Entertainment|JYP|ITZY|있지|ITZY Video|ITZY ...     6000070  714314  ...   \n",
              "2  genius|rap genius|verified|official lyrics|lyr...      403952   37242  ...   \n",
              "3  JYP Entertainment|JYP|J.Y.Park|JYPark|박진영|선미|S...     3433885  353352  ...   \n",
              "4  하이라인|highline|하이라인엔터테인먼트|mv|teaser|원호|wonho|we...      291524   72421  ...   \n",
              "\n",
              "                                   thumbnail_link  comments_disabled  \\\n",
              "0  https://i.ytimg.com/vi/SsWHMAhshPQ/default.jpg              False   \n",
              "1  https://i.ytimg.com/vi/jbGRowa5tIk/default.jpg              False   \n",
              "2  https://i.ytimg.com/vi/vX5v6umIWXU/default.jpg              False   \n",
              "3  https://i.ytimg.com/vi/zrsBjYukE8s/default.jpg              False   \n",
              "4  https://i.ytimg.com/vi/9fPQAHV1p78/default.jpg              False   \n",
              "\n",
              "  ratings_disabled                                        description  \\\n",
              "0            False  Vengo De Nada - Ovi x Natanael Cano x Aleman x...   \n",
              "1            False  ITZY Not Shy M/V[ITZY Official] https://www.yo...   \n",
              "2            False  JD Pantoja’s “12•19” has found a strong audien...   \n",
              "3            False  MelOn http://kko.to/TWyXd7zYjSpotify https://s...   \n",
              "4            False  ▶More informationWONHO Official Fan cafe : htt...   \n",
              "\n",
              "                    kind                         etag  id snippet.title  \\\n",
              "0  youtube#videoCategory  HCjFMARbBeWjpm6PDfReCOMOZGA  10         Music   \n",
              "1  youtube#videoCategory  HCjFMARbBeWjpm6PDfReCOMOZGA  10         Music   \n",
              "2  youtube#videoCategory  HCjFMARbBeWjpm6PDfReCOMOZGA  10         Music   \n",
              "3  youtube#videoCategory  HCjFMARbBeWjpm6PDfReCOMOZGA  10         Music   \n",
              "4  youtube#videoCategory  HCjFMARbBeWjpm6PDfReCOMOZGA  10         Music   \n",
              "\n",
              "   snippet.assignable         snippet.channelId  \n",
              "0                True  UCBR8-60-B28hp2BmDPdntcQ  \n",
              "1                True  UCBR8-60-B28hp2BmDPdntcQ  \n",
              "2                True  UCBR8-60-B28hp2BmDPdntcQ  \n",
              "3                True  UCBR8-60-B28hp2BmDPdntcQ  \n",
              "4                True  UCBR8-60-B28hp2BmDPdntcQ  \n",
              "\n",
              "[5 rows x 22 columns]"
            ],
            "text/html": [
              "\n",
              "  <div id=\"df-7dbe6974-d0f8-4101-a6de-96be9ac14506\">\n",
              "    <div class=\"colab-df-container\">\n",
              "      <div>\n",
              "<style scoped>\n",
              "    .dataframe tbody tr th:only-of-type {\n",
              "        vertical-align: middle;\n",
              "    }\n",
              "\n",
              "    .dataframe tbody tr th {\n",
              "        vertical-align: top;\n",
              "    }\n",
              "\n",
              "    .dataframe thead th {\n",
              "        text-align: right;\n",
              "    }\n",
              "</style>\n",
              "<table border=\"1\" class=\"dataframe\">\n",
              "  <thead>\n",
              "    <tr style=\"text-align: right;\">\n",
              "      <th></th>\n",
              "      <th>video_id</th>\n",
              "      <th>title</th>\n",
              "      <th>publishedAt</th>\n",
              "      <th>channelId</th>\n",
              "      <th>channelTitle</th>\n",
              "      <th>categoryId</th>\n",
              "      <th>trending_date</th>\n",
              "      <th>tags</th>\n",
              "      <th>view_count</th>\n",
              "      <th>likes</th>\n",
              "      <th>...</th>\n",
              "      <th>thumbnail_link</th>\n",
              "      <th>comments_disabled</th>\n",
              "      <th>ratings_disabled</th>\n",
              "      <th>description</th>\n",
              "      <th>kind</th>\n",
              "      <th>etag</th>\n",
              "      <th>id</th>\n",
              "      <th>snippet.title</th>\n",
              "      <th>snippet.assignable</th>\n",
              "      <th>snippet.channelId</th>\n",
              "    </tr>\n",
              "  </thead>\n",
              "  <tbody>\n",
              "    <tr>\n",
              "      <th>0</th>\n",
              "      <td>SsWHMAhshPQ</td>\n",
              "      <td>Ovi x Natanael Cano x Aleman x Big Soto - Veng...</td>\n",
              "      <td>2020-08-11 23:00:10</td>\n",
              "      <td>UC648rgJOboZlgcDbW00vTSA</td>\n",
              "      <td>Rancho Humilde</td>\n",
              "      <td>10</td>\n",
              "      <td>2020-08-12</td>\n",
              "      <td>Vengo De Nada|Aleman|Ovi|Big Soto|Trap|Ovi Nat...</td>\n",
              "      <td>741028</td>\n",
              "      <td>113999</td>\n",
              "      <td>...</td>\n",
              "      <td>https://i.ytimg.com/vi/SsWHMAhshPQ/default.jpg</td>\n",
              "      <td>False</td>\n",
              "      <td>False</td>\n",
              "      <td>Vengo De Nada - Ovi x Natanael Cano x Aleman x...</td>\n",
              "      <td>youtube#videoCategory</td>\n",
              "      <td>HCjFMARbBeWjpm6PDfReCOMOZGA</td>\n",
              "      <td>10</td>\n",
              "      <td>Music</td>\n",
              "      <td>True</td>\n",
              "      <td>UCBR8-60-B28hp2BmDPdntcQ</td>\n",
              "    </tr>\n",
              "    <tr>\n",
              "      <th>1</th>\n",
              "      <td>jbGRowa5tIk</td>\n",
              "      <td>ITZY “Not Shy” M/V TEASER</td>\n",
              "      <td>2020-08-11 15:00:13</td>\n",
              "      <td>UCaO6TYtlC8U5ttz62hTrZgg</td>\n",
              "      <td>JYP Entertainment</td>\n",
              "      <td>10</td>\n",
              "      <td>2020-08-12</td>\n",
              "      <td>JYP Entertainment|JYP|ITZY|있지|ITZY Video|ITZY ...</td>\n",
              "      <td>6000070</td>\n",
              "      <td>714314</td>\n",
              "      <td>...</td>\n",
              "      <td>https://i.ytimg.com/vi/jbGRowa5tIk/default.jpg</td>\n",
              "      <td>False</td>\n",
              "      <td>False</td>\n",
              "      <td>ITZY Not Shy M/V[ITZY Official] https://www.yo...</td>\n",
              "      <td>youtube#videoCategory</td>\n",
              "      <td>HCjFMARbBeWjpm6PDfReCOMOZGA</td>\n",
              "      <td>10</td>\n",
              "      <td>Music</td>\n",
              "      <td>True</td>\n",
              "      <td>UCBR8-60-B28hp2BmDPdntcQ</td>\n",
              "    </tr>\n",
              "    <tr>\n",
              "      <th>2</th>\n",
              "      <td>vX5v6umIWXU</td>\n",
              "      <td>JD Pantoja 12•19 Letra Oficial Y Significado |...</td>\n",
              "      <td>2020-08-10 16:59:41</td>\n",
              "      <td>UCyFZMEnm1il5Wv3a6tPscbA</td>\n",
              "      <td>Genius</td>\n",
              "      <td>10</td>\n",
              "      <td>2020-08-12</td>\n",
              "      <td>genius|rap genius|verified|official lyrics|lyr...</td>\n",
              "      <td>403952</td>\n",
              "      <td>37242</td>\n",
              "      <td>...</td>\n",
              "      <td>https://i.ytimg.com/vi/vX5v6umIWXU/default.jpg</td>\n",
              "      <td>False</td>\n",
              "      <td>False</td>\n",
              "      <td>JD Pantoja’s “12•19” has found a strong audien...</td>\n",
              "      <td>youtube#videoCategory</td>\n",
              "      <td>HCjFMARbBeWjpm6PDfReCOMOZGA</td>\n",
              "      <td>10</td>\n",
              "      <td>Music</td>\n",
              "      <td>True</td>\n",
              "      <td>UCBR8-60-B28hp2BmDPdntcQ</td>\n",
              "    </tr>\n",
              "    <tr>\n",
              "      <th>3</th>\n",
              "      <td>zrsBjYukE8s</td>\n",
              "      <td>박진영 (J.Y. Park) When We Disco (Duet with 선미) M/V</td>\n",
              "      <td>2020-08-11 09:00:13</td>\n",
              "      <td>UCaO6TYtlC8U5ttz62hTrZgg</td>\n",
              "      <td>JYP Entertainment</td>\n",
              "      <td>10</td>\n",
              "      <td>2020-08-12</td>\n",
              "      <td>JYP Entertainment|JYP|J.Y.Park|JYPark|박진영|선미|S...</td>\n",
              "      <td>3433885</td>\n",
              "      <td>353352</td>\n",
              "      <td>...</td>\n",
              "      <td>https://i.ytimg.com/vi/zrsBjYukE8s/default.jpg</td>\n",
              "      <td>False</td>\n",
              "      <td>False</td>\n",
              "      <td>MelOn http://kko.to/TWyXd7zYjSpotify https://s...</td>\n",
              "      <td>youtube#videoCategory</td>\n",
              "      <td>HCjFMARbBeWjpm6PDfReCOMOZGA</td>\n",
              "      <td>10</td>\n",
              "      <td>Music</td>\n",
              "      <td>True</td>\n",
              "      <td>UCBR8-60-B28hp2BmDPdntcQ</td>\n",
              "    </tr>\n",
              "    <tr>\n",
              "      <th>4</th>\n",
              "      <td>9fPQAHV1p78</td>\n",
              "      <td>WONHO 원호 'LOSING YOU' Teaser</td>\n",
              "      <td>2020-08-11 11:00:02</td>\n",
              "      <td>UCQTziMRyGV5vmzdo6pNvQWg</td>\n",
              "      <td>HIGHLINE ENTERTAINMENT</td>\n",
              "      <td>10</td>\n",
              "      <td>2020-08-12</td>\n",
              "      <td>하이라인|highline|하이라인엔터테인먼트|mv|teaser|원호|wonho|we...</td>\n",
              "      <td>291524</td>\n",
              "      <td>72421</td>\n",
              "      <td>...</td>\n",
              "      <td>https://i.ytimg.com/vi/9fPQAHV1p78/default.jpg</td>\n",
              "      <td>False</td>\n",
              "      <td>False</td>\n",
              "      <td>▶More informationWONHO Official Fan cafe : htt...</td>\n",
              "      <td>youtube#videoCategory</td>\n",
              "      <td>HCjFMARbBeWjpm6PDfReCOMOZGA</td>\n",
              "      <td>10</td>\n",
              "      <td>Music</td>\n",
              "      <td>True</td>\n",
              "      <td>UCBR8-60-B28hp2BmDPdntcQ</td>\n",
              "    </tr>\n",
              "  </tbody>\n",
              "</table>\n",
              "<p>5 rows × 22 columns</p>\n",
              "</div>\n",
              "      <button class=\"colab-df-convert\" onclick=\"convertToInteractive('df-7dbe6974-d0f8-4101-a6de-96be9ac14506')\"\n",
              "              title=\"Convert this dataframe to an interactive table.\"\n",
              "              style=\"display:none;\">\n",
              "        \n",
              "  <svg xmlns=\"http://www.w3.org/2000/svg\" height=\"24px\"viewBox=\"0 0 24 24\"\n",
              "       width=\"24px\">\n",
              "    <path d=\"M0 0h24v24H0V0z\" fill=\"none\"/>\n",
              "    <path d=\"M18.56 5.44l.94 2.06.94-2.06 2.06-.94-2.06-.94-.94-2.06-.94 2.06-2.06.94zm-11 1L8.5 8.5l.94-2.06 2.06-.94-2.06-.94L8.5 2.5l-.94 2.06-2.06.94zm10 10l.94 2.06.94-2.06 2.06-.94-2.06-.94-.94-2.06-.94 2.06-2.06.94z\"/><path d=\"M17.41 7.96l-1.37-1.37c-.4-.4-.92-.59-1.43-.59-.52 0-1.04.2-1.43.59L10.3 9.45l-7.72 7.72c-.78.78-.78 2.05 0 2.83L4 21.41c.39.39.9.59 1.41.59.51 0 1.02-.2 1.41-.59l7.78-7.78 2.81-2.81c.8-.78.8-2.07 0-2.86zM5.41 20L4 18.59l7.72-7.72 1.47 1.35L5.41 20z\"/>\n",
              "  </svg>\n",
              "      </button>\n",
              "      \n",
              "  <style>\n",
              "    .colab-df-container {\n",
              "      display:flex;\n",
              "      flex-wrap:wrap;\n",
              "      gap: 12px;\n",
              "    }\n",
              "\n",
              "    .colab-df-convert {\n",
              "      background-color: #E8F0FE;\n",
              "      border: none;\n",
              "      border-radius: 50%;\n",
              "      cursor: pointer;\n",
              "      display: none;\n",
              "      fill: #1967D2;\n",
              "      height: 32px;\n",
              "      padding: 0 0 0 0;\n",
              "      width: 32px;\n",
              "    }\n",
              "\n",
              "    .colab-df-convert:hover {\n",
              "      background-color: #E2EBFA;\n",
              "      box-shadow: 0px 1px 2px rgba(60, 64, 67, 0.3), 0px 1px 3px 1px rgba(60, 64, 67, 0.15);\n",
              "      fill: #174EA6;\n",
              "    }\n",
              "\n",
              "    [theme=dark] .colab-df-convert {\n",
              "      background-color: #3B4455;\n",
              "      fill: #D2E3FC;\n",
              "    }\n",
              "\n",
              "    [theme=dark] .colab-df-convert:hover {\n",
              "      background-color: #434B5C;\n",
              "      box-shadow: 0px 1px 3px 1px rgba(0, 0, 0, 0.15);\n",
              "      filter: drop-shadow(0px 1px 2px rgba(0, 0, 0, 0.3));\n",
              "      fill: #FFFFFF;\n",
              "    }\n",
              "  </style>\n",
              "\n",
              "      <script>\n",
              "        const buttonEl =\n",
              "          document.querySelector('#df-7dbe6974-d0f8-4101-a6de-96be9ac14506 button.colab-df-convert');\n",
              "        buttonEl.style.display =\n",
              "          google.colab.kernel.accessAllowed ? 'block' : 'none';\n",
              "\n",
              "        async function convertToInteractive(key) {\n",
              "          const element = document.querySelector('#df-7dbe6974-d0f8-4101-a6de-96be9ac14506');\n",
              "          const dataTable =\n",
              "            await google.colab.kernel.invokeFunction('convertToInteractive',\n",
              "                                                     [key], {});\n",
              "          if (!dataTable) return;\n",
              "\n",
              "          const docLinkHtml = 'Like what you see? Visit the ' +\n",
              "            '<a target=\"_blank\" href=https://colab.research.google.com/notebooks/data_table.ipynb>data table notebook</a>'\n",
              "            + ' to learn more about interactive tables.';\n",
              "          element.innerHTML = '';\n",
              "          dataTable['output_type'] = 'display_data';\n",
              "          await google.colab.output.renderOutput(dataTable, element);\n",
              "          const docLink = document.createElement('div');\n",
              "          docLink.innerHTML = docLinkHtml;\n",
              "          element.appendChild(docLink);\n",
              "        }\n",
              "      </script>\n",
              "    </div>\n",
              "  </div>\n",
              "  "
            ]
          },
          "metadata": {},
          "execution_count": 34
        }
      ],
      "source": [
        "mx_categories = mx_categories.astype({'id': 'int64'})\n",
        "mx_complete = mx_dataset.merge(mx_categories, left_on='categoryId', right_on='id')\n",
        "mx_complete.head()"
      ]
    },
    {
      "cell_type": "code",
      "execution_count": null,
      "metadata": {
        "id": "3IieSCB2-7le",
        "colab": {
          "base_uri": "https://localhost:8080/",
          "height": 553
        },
        "outputId": "a2c400b7-f788-4a4d-944b-b7295ef4f50c"
      },
      "outputs": [
        {
          "output_type": "execute_result",
          "data": {
            "text/plain": [
              "<matplotlib.axes._subplots.AxesSubplot at 0x7f22616aded0>"
            ]
          },
          "metadata": {},
          "execution_count": 35
        },
        {
          "output_type": "display_data",
          "data": {
            "text/plain": [
              "<Figure size 900x600 with 1 Axes>"
            ],
            "image/png": "[encoded data removed]"
          },
          "metadata": {
            "needs_background": "light"
          }
        }
      ],
      "source": [
        "sns.countplot(y='snippet.title', data=mx_complete, order=mx_complete['snippet.title'].value_counts().index)"
      ]
    },
    {
      "cell_type": "markdown",
      "metadata": {
        "id": "dmR7XNtlBWs1"
      },
      "source": [
        "Un análisis a simple vista del gráfico denota que existen dos categorías que acumulan la mayor cantidad de videos: Music y Entertainment. Podemos obtener el promedio de la cantidad de videos por categoría:"
      ]
    },
    {
      "cell_type": "code",
      "execution_count": null,
      "metadata": {
        "id": "Uj_uQZQRBXnR",
        "colab": {
          "base_uri": "https://localhost:8080/"
        },
        "outputId": "bf20f9c4-b028-4e6e-f86f-6b8cd7dc7769"
      },
      "outputs": [
        {
          "output_type": "execute_result",
          "data": {
            "text/plain": [
              "8661.142857142857"
            ]
          },
          "metadata": {},
          "execution_count": 36
        }
      ],
      "source": [
        "mx_complete.groupby(by='snippet.title')['snippet.title'].count().mean()"
      ]
    },
    {
      "cell_type": "code",
      "execution_count": null,
      "metadata": {
        "id": "ViBa56RqG5Ia",
        "colab": {
          "base_uri": "https://localhost:8080/"
        },
        "outputId": "9a8e3d6e-7511-444a-a5f9-f3447882eb47"
      },
      "outputs": [
        {
          "output_type": "execute_result",
          "data": {
            "text/plain": [
              "4352.5"
            ]
          },
          "metadata": {},
          "execution_count": 37
        }
      ],
      "source": [
        "mx_complete.groupby(by='snippet.title')['snippet.title'].count().median()"
      ]
    },
    {
      "cell_type": "markdown",
      "metadata": {
        "id": "NgFcfS7wG-hh"
      },
      "source": [
        "Se obtiene un valor de 8661 videos por categoría en promedio. Pero debido a que estas dos categorías contienen la mayor cantidad de videos, este valor es deceptivo. También al considerar la media se obtiene el valor de 4352. Dónde se considera que la mitad de las categorías están bajo ese valor (en cantidad de videos) y la otra mitad sobre ese mismo valor."
      ]
    },
    {
      "cell_type": "markdown",
      "metadata": {
        "id": "3s6nlLvsG_9k"
      },
      "source": [
        "## Cantidad de likes, dislikes y comentarios\n",
        "\n",
        "Dentro del análisis exploratorio de los datos se contempla un análisis sobre los likes, dislikes y comentarios para el dataset de trendings de México.\n",
        "\n",
        "Es importante mencionar que los análisis siguientes se realizaran en comparación a la cantidad de visitas de los videos, que cuentan con una media de 2.249.624 visitas."
      ]
    },
    {
      "cell_type": "code",
      "execution_count": null,
      "metadata": {
        "id": "KyrYzwqJHFTs",
        "colab": {
          "base_uri": "https://localhost:8080/"
        },
        "outputId": "6a2557ca-dc03-4851-f1cf-fab4169ad7dc"
      },
      "outputs": [
        {
          "output_type": "execute_result",
          "data": {
            "text/plain": [
              "2251100.8428531373"
            ]
          },
          "metadata": {},
          "execution_count": 38
        }
      ],
      "source": [
        "mx_complete['view_count'].mean()"
      ]
    },
    {
      "cell_type": "markdown",
      "metadata": {
        "id": "-8Yl23VdHbEJ"
      },
      "source": [
        "### Visitas vs likes\n",
        "\n",
        "La cantidad de las visitas vs likes se presenta en el siguiente gráfico de dispersión:"
      ]
    },
    {
      "cell_type": "code",
      "execution_count": null,
      "metadata": {
        "id": "QdGtjLkcHdQP",
        "colab": {
          "base_uri": "https://localhost:8080/",
          "height": 603
        },
        "outputId": "32c8155e-50fd-44c3-df7f-29eec70bef0b"
      },
      "outputs": [
        {
          "output_type": "execute_result",
          "data": {
            "text/plain": [
              "Text(0.5, 0, 'View count')"
            ]
          },
          "metadata": {},
          "execution_count": 39
        },
        {
          "output_type": "display_data",
          "data": {
            "text/plain": [
              "<Figure size 900x600 with 1 Axes>"
            ],
            "image/png": "[encoded data removed]"
          },
          "metadata": {
            "needs_background": "light"
          }
        }
      ],
      "source": [
        "plot = sns.scatterplot(x='view_count', y='likes', data=mx_complete)\n",
        "plt.xlabel('View count')"
      ]
    },
    {
      "cell_type": "markdown",
      "metadata": {
        "id": "CqGf8N2OLaFB"
      },
      "source": [
        "Donde se aprecia que a medida que las visitas aumentan, la cantidad de likes también aumenta, y se percibe al observar el gráfico que su comportamiento podría ser lineal."
      ]
    },
    {
      "cell_type": "code",
      "execution_count": null,
      "metadata": {
        "id": "bEO3A7zNLdPi",
        "colab": {
          "base_uri": "https://localhost:8080/"
        },
        "outputId": "b9b71005-e762-476d-fcd4-cf7efb0eb685"
      },
      "outputs": [
        {
          "output_type": "execute_result",
          "data": {
            "text/plain": [
              "160573.0422659497"
            ]
          },
          "metadata": {},
          "execution_count": 40
        }
      ],
      "source": [
        "mx_complete['likes'].mean()"
      ]
    },
    {
      "cell_type": "markdown",
      "metadata": {
        "id": "MXA1i6FrLijS"
      },
      "source": [
        "Es interesante mencionar además, que la cantidad de likes promedio para el caso de México es de 160.530 likes."
      ]
    },
    {
      "cell_type": "markdown",
      "metadata": {
        "id": "lvKteXmRLlLY"
      },
      "source": [
        "### Visitas vs dislikes\n",
        "\n",
        "La cantidad de las visitas vs dislikes se presenta en el siguiente gráfico de dispersión:"
      ]
    },
    {
      "cell_type": "code",
      "execution_count": null,
      "metadata": {
        "id": "8JaWKcRMLmHA",
        "colab": {
          "base_uri": "https://localhost:8080/",
          "height": 580
        },
        "outputId": "92f549bc-e22a-4898-992a-ec764f9a3241"
      },
      "outputs": [
        {
          "output_type": "execute_result",
          "data": {
            "text/plain": [
              "Text(0.5, 0, 'View count')"
            ]
          },
          "metadata": {},
          "execution_count": 41
        },
        {
          "output_type": "display_data",
          "data": {
            "text/plain": [
              "<Figure size 900x600 with 1 Axes>"
            ],
            "image/png": "[encoded data removed]"
          },
          "metadata": {
            "needs_background": "light"
          }
        }
      ],
      "source": [
        "plot = sns.scatterplot(x='view_count', y='dislikes', data=mx_complete)\n",
        "plt.xlabel('View count')"
      ]
    },
    {
      "cell_type": "markdown",
      "metadata": {
        "id": "T708FG9hLuYW"
      },
      "source": [
        "En este gráfico ocurre una situación interesante. Si bien a medida que los videos obtienen mayor vista también lo hacen los dislikes, se puede apreciar que la cantidad de dislikes oscila en la mitad de la muestra, y posteriormente se observa una baja de estos dislikes en los videos más vistos."
      ]
    },
    {
      "cell_type": "code",
      "execution_count": null,
      "metadata": {
        "id": "bwY-8rR7LwLv",
        "colab": {
          "base_uri": "https://localhost:8080/"
        },
        "outputId": "3c34e8a8-d249-4590-bd33-4d28d82bbf74"
      },
      "outputs": [
        {
          "output_type": "execute_result",
          "data": {
            "text/plain": [
              "2324.4584103054694"
            ]
          },
          "metadata": {},
          "execution_count": 42
        }
      ],
      "source": [
        "mx_complete['dislikes'].mean()"
      ]
    },
    {
      "cell_type": "markdown",
      "metadata": {
        "id": "Y0R2oXF4Ly_v"
      },
      "source": [
        "Es interesante mencionar además, que la cantidad de dislikes promedio para el caso de México es de 2.322 likes, muy inferior a la cantidad de likes promedio."
      ]
    },
    {
      "cell_type": "markdown",
      "metadata": {
        "id": "JkSWAHFwL1ml"
      },
      "source": [
        "### Visitas vs comentarios\n",
        "\n",
        "La cantidad de visitas vs cantidad de comentarios se presenta de la siguiente manera:"
      ]
    },
    {
      "cell_type": "code",
      "execution_count": null,
      "metadata": {
        "id": "aVVWsG8DMGY6",
        "colab": {
          "base_uri": "https://localhost:8080/",
          "height": 603
        },
        "outputId": "c6cae2ed-59ee-40f1-863d-646e1a836e5d"
      },
      "outputs": [
        {
          "output_type": "execute_result",
          "data": {
            "text/plain": [
              "Text(0.5, 0, 'View count')"
            ]
          },
          "metadata": {},
          "execution_count": 43
        },
        {
          "output_type": "display_data",
          "data": {
            "text/plain": [
              "<Figure size 900x600 with 1 Axes>"
            ],
            "image/png": "[encoded data removed]"
          },
          "metadata": {
            "needs_background": "light"
          }
        }
      ],
      "source": [
        "plot = sns.scatterplot(x='view_count', y='comment_count', data=mx_complete)\n",
        "plt.xlabel('View count')"
      ]
    },
    {
      "cell_type": "markdown",
      "metadata": {
        "id": "X27W_EVHMNp0"
      },
      "source": [
        "Para este caso, la cantidad de comentarios oscila en mayor medida que en los casos anteriores en la mitad de la muestra, no obteniendo un patrón claro, pero a medida que la cantidad de vistas aumenta, la cantidad de comentarios también lo hacen, observablemente en el gráfico, de manera lineal."
      ]
    },
    {
      "cell_type": "code",
      "execution_count": null,
      "metadata": {
        "id": "q3gJe2H4MOfN",
        "colab": {
          "base_uri": "https://localhost:8080/"
        },
        "outputId": "cabc9e4c-094c-49b5-ff71-70172130748b"
      },
      "outputs": [
        {
          "output_type": "execute_result",
          "data": {
            "text/plain": [
              "11995.632636735501"
            ]
          },
          "metadata": {},
          "execution_count": 44
        }
      ],
      "source": [
        "mx_complete['comment_count'].mean()"
      ]
    },
    {
      "cell_type": "markdown",
      "metadata": {
        "id": "MyD4jBKUMS9E"
      },
      "source": [
        "Para el caso de los comentarios, el promedio de estos es de 11,987 comentarios. Una cantidad superior a la de dislikes promedios, pero inferior a la de likes promedios."
      ]
    },
    {
      "cell_type": "markdown",
      "metadata": {
        "id": "bwPxSgcJMTsM"
      },
      "source": [
        "### Resumen final de visitas"
      ]
    },
    {
      "cell_type": "code",
      "execution_count": null,
      "metadata": {
        "id": "tl68MmWfMYXo",
        "colab": {
          "base_uri": "https://localhost:8080/"
        },
        "outputId": "7d9e7e00-e887-4b31-fcdd-2e6a128edef7"
      },
      "outputs": [
        {
          "output_type": "execute_result",
          "data": {
            "text/plain": [
              "likes            160573.042266\n",
              "dislikes           2324.458410\n",
              "comment_count     11995.632637\n",
              "dtype: float64"
            ]
          },
          "metadata": {},
          "execution_count": 45
        }
      ],
      "source": [
        "mx_complete[['likes', 'dislikes', 'comment_count']].mean()"
      ]
    },
    {
      "cell_type": "markdown",
      "metadata": {
        "id": "Ro0A3mkCMYu_"
      },
      "source": [
        "Como resultado, para el caso de México se aprecia que la cantidad de likes corresponde a casi 70 veces más que la cantidad de dislikes, además de que la cantidad de comentarios es muy superior a la cantidad de dislikes. Lo anterior corresponde a un indicativo de la participación de los usuarios en México sobre los videos tanto positivos como negativos, donde los usuarios mexicanos interactúan de forma mayormente positiva a los videos más vistos."
      ]
    },
    {
      "cell_type": "markdown",
      "metadata": {
        "id": "Z0hovVybMw3s"
      },
      "source": [
        "## Comparativa de canales\n",
        "\n",
        "A continuación se realizará un análisis a los 10 canales con mayor cantidad de videos en la lista de trendings para el dataset de trendings de México."
      ]
    },
    {
      "cell_type": "markdown",
      "metadata": {
        "id": "Xuzm3yjHMz6V"
      },
      "source": [
        "### Videos en la lista de trendings\n",
        "\n",
        "Gráfico de top 10 canales con mas videos en la lista de trendings:"
      ]
    },
    {
      "cell_type": "code",
      "execution_count": null,
      "metadata": {
        "id": "sTk0OK8VM2Kc"
      },
      "outputs": [],
      "source": [
        "top_10 = mx_complete['channelTitle'].value_counts()[0:10].rename_axis(\"channelTitle\").to_frame(\"Freq\").reset_index()"
      ]
    },
    {
      "cell_type": "code",
      "execution_count": null,
      "metadata": {
        "id": "hSD2Q89bOYFD",
        "colab": {
          "base_uri": "https://localhost:8080/",
          "height": 520
        },
        "outputId": "9796d44b-0ec2-47bd-b67a-ccea16beb873"
      },
      "outputs": [
        {
          "output_type": "execute_result",
          "data": {
            "text/plain": [
              "<matplotlib.axes._subplots.AxesSubplot at 0x7f225f7176d0>"
            ]
          },
          "metadata": {},
          "execution_count": 47
        },
        {
          "output_type": "display_data",
          "data": {
            "text/plain": [
              "<Figure size 900x600 with 1 Axes>"
            ],
            "image/png": "[encoded data removed]"
          },
          "metadata": {
            "needs_background": "light"
          }
        }
      ],
      "source": [
        "sns.barplot(x='Freq', y='channelTitle', data=top_10)"
      ]
    },
    {
      "cell_type": "markdown",
      "metadata": {
        "id": "TY90MjrYP71T"
      },
      "source": [
        "### Likes y dislikes de videos en trendings\n",
        "\n",
        "Gráfico de acumulación de cantidad de likes y dislikes del top 10 canales con más videos en trendings:"
      ]
    },
    {
      "cell_type": "code",
      "execution_count": null,
      "metadata": {
        "id": "eQu0ocbtP80N"
      },
      "outputs": [],
      "source": [
        "top_10 = mx_complete.groupby(by=\"channelTitle\").agg(\n",
        "    freq = pd.NamedAgg(column='channelTitle', aggfunc='count'),\n",
        "    likes = ('likes', sum),\n",
        "    dislikes = ('dislikes', sum)\n",
        ").sort_values(by=\"freq\", ascending=False).reset_index()[0:10]"
      ]
    },
    {
      "cell_type": "code",
      "execution_count": null,
      "metadata": {
        "id": "uXWZyQJUX8cV",
        "colab": {
          "base_uri": "https://localhost:8080/",
          "height": 520
        },
        "outputId": "bf3927fb-f6f9-4eff-bcb6-ebd6612540f7"
      },
      "outputs": [
        {
          "output_type": "execute_result",
          "data": {
            "text/plain": [
              "<matplotlib.axes._subplots.AxesSubplot at 0x7f225f666750>"
            ]
          },
          "metadata": {},
          "execution_count": 49
        },
        {
          "output_type": "display_data",
          "data": {
            "text/plain": [
              "<Figure size 900x600 with 1 Axes>"
            ],
            "image/png": "[encoded data removed]"
          },
          "metadata": {
            "needs_background": "light"
          }
        }
      ],
      "source": [
        "sns.barplot(x=\"likes\", y=\"channelTitle\", data=top_10, order=top_10.sort_values(by=\"likes\", ascending=False).channelTitle)"
      ]
    },
    {
      "cell_type": "code",
      "execution_count": null,
      "metadata": {
        "id": "iibOF6gXYQjP",
        "colab": {
          "base_uri": "https://localhost:8080/",
          "height": 520
        },
        "outputId": "90aba235-2d61-4c3d-ec58-3de61f8a6fea"
      },
      "outputs": [
        {
          "output_type": "execute_result",
          "data": {
            "text/plain": [
              "<matplotlib.axes._subplots.AxesSubplot at 0x7f225f608950>"
            ]
          },
          "metadata": {},
          "execution_count": 50
        },
        {
          "output_type": "display_data",
          "data": {
            "text/plain": [
              "<Figure size 900x600 with 1 Axes>"
            ],
            "image/png": "[encoded data removed]"
          },
          "metadata": {
            "needs_background": "light"
          }
        }
      ],
      "source": [
        "sns.barplot(x=\"dislikes\", y=\"channelTitle\", data=top_10, order=top_10.sort_values(by=\"dislikes\", ascending=False).channelTitle)"
      ]
    },
    {
      "cell_type": "markdown",
      "metadata": {
        "id": "0lAqRlYwZod1"
      },
      "source": [
        "### Mayor cantidad de likes\n",
        "\n",
        "Gráfico de top 10 canales con mayor acumulación de likes:"
      ]
    },
    {
      "cell_type": "code",
      "execution_count": null,
      "metadata": {
        "id": "u-dzRctIZpcn"
      },
      "outputs": [],
      "source": [
        "top_10_likes = mx_complete.groupby(by=\"channelTitle\").agg(\n",
        "    likes = ('likes', sum),\n",
        ").sort_values(by=\"likes\", ascending=False).reset_index()[0:10]"
      ]
    },
    {
      "cell_type": "code",
      "execution_count": null,
      "metadata": {
        "id": "9sRhehs6Z16l",
        "colab": {
          "base_uri": "https://localhost:8080/",
          "height": 500
        },
        "outputId": "0e70deff-71d5-409d-a41e-e39ad9dacd7f"
      },
      "outputs": [
        {
          "output_type": "execute_result",
          "data": {
            "text/plain": [
              "<matplotlib.axes._subplots.AxesSubplot at 0x7f225f53eb10>"
            ]
          },
          "metadata": {},
          "execution_count": 52
        },
        {
          "output_type": "display_data",
          "data": {
            "text/plain": [
              "<Figure size 900x600 with 1 Axes>"
            ],
            "image/png": "[encoded data removed]"
          },
          "metadata": {
            "needs_background": "light"
          }
        }
      ],
      "source": [
        "sns.barplot(x=\"likes\", y=\"channelTitle\", data=top_10_likes)"
      ]
    },
    {
      "cell_type": "markdown",
      "metadata": {
        "id": "26_qxiLKZ_Fq"
      },
      "source": [
        "## Análisis comparativo de todos los países\n",
        "\n",
        "Si bien el análisis exploratorio inicial se realizó tomando el dataset correspondiente a México, existen muchos otros países dentro del dataset de trendings de YouTube, por lo cual se realizan algunos análisis generales a continuación.\n",
        "\n",
        "Primero se cargan cada uno de los dataset de los países leyendo el archivo correspondiente."
      ]
    },
    {
      "cell_type": "code",
      "execution_count": null,
      "metadata": {
        "id": "sG83H0kcJm_w"
      },
      "outputs": [],
      "source": [
        "mx_dataset = pd.read_csv(\"/content/drive/MyDrive/dataset/MX_youtube_trending_data.csv\",\n",
        "                         parse_dates=['publishedAt', 'trending_date'],\n",
        "                         date_parser=dateparse)\n",
        "us_dataset = pd.read_csv(\"/content/drive/MyDrive/dataset/US_youtube_trending_data.csv\",\n",
        "                         parse_dates=['publishedAt', 'trending_date'],\n",
        "                         date_parser=dateparse)\n",
        "br_dataset = pd.read_csv(\"/content/drive/MyDrive/dataset/BR_youtube_trending_data.csv\",\n",
        "                         parse_dates=['publishedAt', 'trending_date'],\n",
        "                         date_parser=dateparse)\n",
        "ca_dataset = pd.read_csv(\"/content/drive/MyDrive/dataset/CA_youtube_trending_data.csv\",\n",
        "                         parse_dates=['publishedAt', 'trending_date'],\n",
        "                         date_parser=dateparse)\n",
        "de_dataset = pd.read_csv(\"/content/drive/MyDrive/dataset/DE_youtube_trending_data.csv\",\n",
        "                         parse_dates=['publishedAt', 'trending_date'],\n",
        "                         date_parser=dateparse)\n",
        "fr_dataset = pd.read_csv(\"/content/drive/MyDrive/dataset/FR_youtube_trending_data.csv\",\n",
        "                         parse_dates=['publishedAt', 'trending_date'],\n",
        "                         date_parser=dateparse)\n",
        "gb_dataset = pd.read_csv(\"/content/drive/MyDrive/dataset/GB_youtube_trending_data.csv\",\n",
        "                         parse_dates=['publishedAt', 'trending_date'],\n",
        "                         date_parser=dateparse)\n",
        "in_dataset = pd.read_csv(\"/content/drive/MyDrive/dataset/IN_youtube_trending_data.csv\",\n",
        "                         parse_dates=['publishedAt', 'trending_date'],\n",
        "                         date_parser=dateparse)\n",
        "jp_dataset = pd.read_csv(\"/content/drive/MyDrive/dataset/JP_youtube_trending_data.csv\",\n",
        "                         parse_dates=['publishedAt', 'trending_date'],\n",
        "                         date_parser=dateparse)\n",
        "kr_dataset = pd.read_csv(\"/content/drive/MyDrive/dataset/KR_youtube_trending_data.csv\",\n",
        "                         parse_dates=['publishedAt', 'trending_date'],\n",
        "                         date_parser=dateparse)\n",
        "ru_dataset = pd.read_csv(\"/content/drive/MyDrive/dataset/RU_youtube_trending_data.csv\",\n",
        "                         parse_dates=['publishedAt', 'trending_date'],\n",
        "                         date_parser=dateparse)"
      ]
    },
    {
      "cell_type": "markdown",
      "metadata": {
        "id": "dgVb9MGXLosq"
      },
      "source": [
        "A continuación agregamos una columna llamada country a cada dataset para identificar el archivo (país) del que se obtuvo cada fila. Esto será de utilidad para análisis posteriores."
      ]
    },
    {
      "cell_type": "code",
      "execution_count": null,
      "metadata": {
        "id": "CagDR93aLr1Z"
      },
      "outputs": [],
      "source": [
        "mx_dataset[\"country\"] = \"MX\"\n",
        "us_dataset[\"country\"] = \"US\"\n",
        "br_dataset[\"country\"] = \"BR\"\n",
        "ca_dataset[\"country\"] = \"CA\"\n",
        "de_dataset[\"country\"] = \"DE\"\n",
        "fr_dataset[\"country\"] = \"FR\"\n",
        "gb_dataset[\"country\"] = \"BG\"\n",
        "in_dataset[\"country\"] = \"IN\"\n",
        "jp_dataset[\"country\"] = \"JP\"\n",
        "kr_dataset[\"country\"] = \"KR\"\n",
        "ru_dataset[\"country\"] = \"RU\""
      ]
    },
    {
      "cell_type": "markdown",
      "metadata": {
        "id": "K6wTD-UiL2Ib"
      },
      "source": [
        "Finalmente, se unen todos los datos en un único dataframe para simplificar los análisis comparativos posteriores."
      ]
    },
    {
      "cell_type": "code",
      "execution_count": null,
      "metadata": {
        "id": "-_mhVhINL1v7"
      },
      "outputs": [],
      "source": [
        "dataset = pd.concat([\n",
        " mx_dataset,\n",
        " us_dataset,\n",
        " br_dataset,\n",
        " ca_dataset,\n",
        " de_dataset,\n",
        " fr_dataset,\n",
        " gb_dataset,\n",
        " in_dataset,\n",
        " jp_dataset,\n",
        " kr_dataset,\n",
        " ru_dataset,\n",
        "])"
      ]
    },
    {
      "cell_type": "code",
      "execution_count": null,
      "metadata": {
        "id": "Rk5HJeisNZgG",
        "colab": {
          "base_uri": "https://localhost:8080/",
          "height": 634
        },
        "outputId": "eec76e07-b8f8-491c-cedb-19b0366eab8a"
      },
      "outputs": [
        {
          "output_type": "execute_result",
          "data": {
            "text/plain": [
              "      video_id                                              title  \\\n",
              "0  SsWHMAhshPQ  Ovi x Natanael Cano x Aleman x Big Soto - Veng...   \n",
              "1  JOaeND0xUNk  Belinda y Christian Nodal cantan De los besos ...   \n",
              "2  SV91jnGs--s        ¿QUIÉN HACE LOS MEJORES NUGGETS? | EL GUZII   \n",
              "3  QgX0zn5nMyk  Martha Figueroa se disculpa públicamente con N...   \n",
              "4  cKaM19oAwBM  MAQUILLAJE PARA KIMBERLY LOAIZA✨ RESISTENTE AL...   \n",
              "\n",
              "          publishedAt                 channelId       channelTitle  \\\n",
              "0 2020-08-11 23:00:10  UC648rgJOboZlgcDbW00vTSA     Rancho Humilde   \n",
              "1 2020-08-11 18:03:06  UCNVrBkfp4_TG9x4h5kvLeAQ          TV Azteca   \n",
              "2 2020-08-11 19:57:02  UCuGn3ioftOo6jvHE1YK4Bfw           El Guzii   \n",
              "3 2020-08-11 15:57:47  UCJPd6seu4JK4PZjVVTWb0QA                Hoy   \n",
              "4 2020-08-11 21:55:08  UCs5w0QCxsEWz83vuQyOCnuA  Victor Guadarrama   \n",
              "\n",
              "   categoryId trending_date  \\\n",
              "0          10    2020-08-12   \n",
              "1          24    2020-08-12   \n",
              "2          26    2020-08-12   \n",
              "3          24    2020-08-12   \n",
              "4          26    2020-08-12   \n",
              "\n",
              "                                                tags  view_count   likes  \\\n",
              "0  Vengo De Nada|Aleman|Ovi|Big Soto|Trap|Ovi Nat...      741028  113999   \n",
              "1  tv azteca|videos de tv azteca|azteca uno|en su...      402507    8102   \n",
              "2  El Guzii|Guzzi|Guzy|Guzii Style|Recetas Divert...      735044   62188   \n",
              "3  Televisa|Televisa espectaculos|programa hoy te...      521751    4680   \n",
              "4  MAQUILLAJE|CELEBS|ARTE|MAKEUP|PESTAÑAS|KIMBERL...      168118   24551   \n",
              "\n",
              "   dislikes  comment_count                                  thumbnail_link  \\\n",
              "0      4380           5620  https://i.ytimg.com/vi/SsWHMAhshPQ/default.jpg   \n",
              "1       831            803  https://i.ytimg.com/vi/JOaeND0xUNk/default.jpg   \n",
              "2      1053           4100  https://i.ytimg.com/vi/SV91jnGs--s/default.jpg   \n",
              "3      3129           2285  https://i.ytimg.com/vi/QgX0zn5nMyk/default.jpg   \n",
              "4       537            782  https://i.ytimg.com/vi/cKaM19oAwBM/default.jpg   \n",
              "\n",
              "   comments_disabled  ratings_disabled  \\\n",
              "0              False             False   \n",
              "1              False             False   \n",
              "2              False             False   \n",
              "3              False             False   \n",
              "4              False             False   \n",
              "\n",
              "                                         description country  \n",
              "0  Vengo De Nada - Ovi x Natanael Cano x Aleman x...      MX  \n",
              "1  Encendieron el escenario de La Voz. TV AztecaT...      MX  \n",
              "2  Si tienes 10 kg de sobre peso tal vez te haz p...      MX  \n",
              "3  Mira aquí el contenido exclusivo que tenemos p...      MX  \n",
              "4  No olvides suscribirte y activar la campanita ...      MX  "
            ],
            "text/html": [
              "\n",
              "  <div id=\"df-0b1c61d4-7489-4b77-a132-ecb806ad184a\">\n",
              "    <div class=\"colab-df-container\">\n",
              "      <div>\n",
              "<style scoped>\n",
              "    .dataframe tbody tr th:only-of-type {\n",
              "        vertical-align: middle;\n",
              "    }\n",
              "\n",
              "    .dataframe tbody tr th {\n",
              "        vertical-align: top;\n",
              "    }\n",
              "\n",
              "    .dataframe thead th {\n",
              "        text-align: right;\n",
              "    }\n",
              "</style>\n",
              "<table border=\"1\" class=\"dataframe\">\n",
              "  <thead>\n",
              "    <tr style=\"text-align: right;\">\n",
              "      <th></th>\n",
              "      <th>video_id</th>\n",
              "      <th>title</th>\n",
              "      <th>publishedAt</th>\n",
              "      <th>channelId</th>\n",
              "      <th>channelTitle</th>\n",
              "      <th>categoryId</th>\n",
              "      <th>trending_date</th>\n",
              "      <th>tags</th>\n",
              "      <th>view_count</th>\n",
              "      <th>likes</th>\n",
              "      <th>dislikes</th>\n",
              "      <th>comment_count</th>\n",
              "      <th>thumbnail_link</th>\n",
              "      <th>comments_disabled</th>\n",
              "      <th>ratings_disabled</th>\n",
              "      <th>description</th>\n",
              "      <th>country</th>\n",
              "    </tr>\n",
              "  </thead>\n",
              "  <tbody>\n",
              "    <tr>\n",
              "      <th>0</th>\n",
              "      <td>SsWHMAhshPQ</td>\n",
              "      <td>Ovi x Natanael Cano x Aleman x Big Soto - Veng...</td>\n",
              "      <td>2020-08-11 23:00:10</td>\n",
              "      <td>UC648rgJOboZlgcDbW00vTSA</td>\n",
              "      <td>Rancho Humilde</td>\n",
              "      <td>10</td>\n",
              "      <td>2020-08-12</td>\n",
              "      <td>Vengo De Nada|Aleman|Ovi|Big Soto|Trap|Ovi Nat...</td>\n",
              "      <td>741028</td>\n",
              "      <td>113999</td>\n",
              "      <td>4380</td>\n",
              "      <td>5620</td>\n",
              "      <td>https://i.ytimg.com/vi/SsWHMAhshPQ/default.jpg</td>\n",
              "      <td>False</td>\n",
              "      <td>False</td>\n",
              "      <td>Vengo De Nada - Ovi x Natanael Cano x Aleman x...</td>\n",
              "      <td>MX</td>\n",
              "    </tr>\n",
              "    <tr>\n",
              "      <th>1</th>\n",
              "      <td>JOaeND0xUNk</td>\n",
              "      <td>Belinda y Christian Nodal cantan De los besos ...</td>\n",
              "      <td>2020-08-11 18:03:06</td>\n",
              "      <td>UCNVrBkfp4_TG9x4h5kvLeAQ</td>\n",
              "      <td>TV Azteca</td>\n",
              "      <td>24</td>\n",
              "      <td>2020-08-12</td>\n",
              "      <td>tv azteca|videos de tv azteca|azteca uno|en su...</td>\n",
              "      <td>402507</td>\n",
              "      <td>8102</td>\n",
              "      <td>831</td>\n",
              "      <td>803</td>\n",
              "      <td>https://i.ytimg.com/vi/JOaeND0xUNk/default.jpg</td>\n",
              "      <td>False</td>\n",
              "      <td>False</td>\n",
              "      <td>Encendieron el escenario de La Voz. TV AztecaT...</td>\n",
              "      <td>MX</td>\n",
              "    </tr>\n",
              "    <tr>\n",
              "      <th>2</th>\n",
              "      <td>SV91jnGs--s</td>\n",
              "      <td>¿QUIÉN HACE LOS MEJORES NUGGETS? | EL GUZII</td>\n",
              "      <td>2020-08-11 19:57:02</td>\n",
              "      <td>UCuGn3ioftOo6jvHE1YK4Bfw</td>\n",
              "      <td>El Guzii</td>\n",
              "      <td>26</td>\n",
              "      <td>2020-08-12</td>\n",
              "      <td>El Guzii|Guzzi|Guzy|Guzii Style|Recetas Divert...</td>\n",
              "      <td>735044</td>\n",
              "      <td>62188</td>\n",
              "      <td>1053</td>\n",
              "      <td>4100</td>\n",
              "      <td>https://i.ytimg.com/vi/SV91jnGs--s/default.jpg</td>\n",
              "      <td>False</td>\n",
              "      <td>False</td>\n",
              "      <td>Si tienes 10 kg de sobre peso tal vez te haz p...</td>\n",
              "      <td>MX</td>\n",
              "    </tr>\n",
              "    <tr>\n",
              "      <th>3</th>\n",
              "      <td>QgX0zn5nMyk</td>\n",
              "      <td>Martha Figueroa se disculpa públicamente con N...</td>\n",
              "      <td>2020-08-11 15:57:47</td>\n",
              "      <td>UCJPd6seu4JK4PZjVVTWb0QA</td>\n",
              "      <td>Hoy</td>\n",
              "      <td>24</td>\n",
              "      <td>2020-08-12</td>\n",
              "      <td>Televisa|Televisa espectaculos|programa hoy te...</td>\n",
              "      <td>521751</td>\n",
              "      <td>4680</td>\n",
              "      <td>3129</td>\n",
              "      <td>2285</td>\n",
              "      <td>https://i.ytimg.com/vi/QgX0zn5nMyk/default.jpg</td>\n",
              "      <td>False</td>\n",
              "      <td>False</td>\n",
              "      <td>Mira aquí el contenido exclusivo que tenemos p...</td>\n",
              "      <td>MX</td>\n",
              "    </tr>\n",
              "    <tr>\n",
              "      <th>4</th>\n",
              "      <td>cKaM19oAwBM</td>\n",
              "      <td>MAQUILLAJE PARA KIMBERLY LOAIZA✨ RESISTENTE AL...</td>\n",
              "      <td>2020-08-11 21:55:08</td>\n",
              "      <td>UCs5w0QCxsEWz83vuQyOCnuA</td>\n",
              "      <td>Victor Guadarrama</td>\n",
              "      <td>26</td>\n",
              "      <td>2020-08-12</td>\n",
              "      <td>MAQUILLAJE|CELEBS|ARTE|MAKEUP|PESTAÑAS|KIMBERL...</td>\n",
              "      <td>168118</td>\n",
              "      <td>24551</td>\n",
              "      <td>537</td>\n",
              "      <td>782</td>\n",
              "      <td>https://i.ytimg.com/vi/cKaM19oAwBM/default.jpg</td>\n",
              "      <td>False</td>\n",
              "      <td>False</td>\n",
              "      <td>No olvides suscribirte y activar la campanita ...</td>\n",
              "      <td>MX</td>\n",
              "    </tr>\n",
              "  </tbody>\n",
              "</table>\n",
              "</div>\n",
              "      <button class=\"colab-df-convert\" onclick=\"convertToInteractive('df-0b1c61d4-7489-4b77-a132-ecb806ad184a')\"\n",
              "              title=\"Convert this dataframe to an interactive table.\"\n",
              "              style=\"display:none;\">\n",
              "        \n",
              "  <svg xmlns=\"http://www.w3.org/2000/svg\" height=\"24px\"viewBox=\"0 0 24 24\"\n",
              "       width=\"24px\">\n",
              "    <path d=\"M0 0h24v24H0V0z\" fill=\"none\"/>\n",
              "    <path d=\"M18.56 5.44l.94 2.06.94-2.06 2.06-.94-2.06-.94-.94-2.06-.94 2.06-2.06.94zm-11 1L8.5 8.5l.94-2.06 2.06-.94-2.06-.94L8.5 2.5l-.94 2.06-2.06.94zm10 10l.94 2.06.94-2.06 2.06-.94-2.06-.94-.94-2.06-.94 2.06-2.06.94z\"/><path d=\"M17.41 7.96l-1.37-1.37c-.4-.4-.92-.59-1.43-.59-.52 0-1.04.2-1.43.59L10.3 9.45l-7.72 7.72c-.78.78-.78 2.05 0 2.83L4 21.41c.39.39.9.59 1.41.59.51 0 1.02-.2 1.41-.59l7.78-7.78 2.81-2.81c.8-.78.8-2.07 0-2.86zM5.41 20L4 18.59l7.72-7.72 1.47 1.35L5.41 20z\"/>\n",
              "  </svg>\n",
              "      </button>\n",
              "      \n",
              "  <style>\n",
              "    .colab-df-container {\n",
              "      display:flex;\n",
              "      flex-wrap:wrap;\n",
              "      gap: 12px;\n",
              "    }\n",
              "\n",
              "    .colab-df-convert {\n",
              "      background-color: #E8F0FE;\n",
              "      border: none;\n",
              "      border-radius: 50%;\n",
              "      cursor: pointer;\n",
              "      display: none;\n",
              "      fill: #1967D2;\n",
              "      height: 32px;\n",
              "      padding: 0 0 0 0;\n",
              "      width: 32px;\n",
              "    }\n",
              "\n",
              "    .colab-df-convert:hover {\n",
              "      background-color: #E2EBFA;\n",
              "      box-shadow: 0px 1px 2px rgba(60, 64, 67, 0.3), 0px 1px 3px 1px rgba(60, 64, 67, 0.15);\n",
              "      fill: #174EA6;\n",
              "    }\n",
              "\n",
              "    [theme=dark] .colab-df-convert {\n",
              "      background-color: #3B4455;\n",
              "      fill: #D2E3FC;\n",
              "    }\n",
              "\n",
              "    [theme=dark] .colab-df-convert:hover {\n",
              "      background-color: #434B5C;\n",
              "      box-shadow: 0px 1px 3px 1px rgba(0, 0, 0, 0.15);\n",
              "      filter: drop-shadow(0px 1px 2px rgba(0, 0, 0, 0.3));\n",
              "      fill: #FFFFFF;\n",
              "    }\n",
              "  </style>\n",
              "\n",
              "      <script>\n",
              "        const buttonEl =\n",
              "          document.querySelector('#df-0b1c61d4-7489-4b77-a132-ecb806ad184a button.colab-df-convert');\n",
              "        buttonEl.style.display =\n",
              "          google.colab.kernel.accessAllowed ? 'block' : 'none';\n",
              "\n",
              "        async function convertToInteractive(key) {\n",
              "          const element = document.querySelector('#df-0b1c61d4-7489-4b77-a132-ecb806ad184a');\n",
              "          const dataTable =\n",
              "            await google.colab.kernel.invokeFunction('convertToInteractive',\n",
              "                                                     [key], {});\n",
              "          if (!dataTable) return;\n",
              "\n",
              "          const docLinkHtml = 'Like what you see? Visit the ' +\n",
              "            '<a target=\"_blank\" href=https://colab.research.google.com/notebooks/data_table.ipynb>data table notebook</a>'\n",
              "            + ' to learn more about interactive tables.';\n",
              "          element.innerHTML = '';\n",
              "          dataTable['output_type'] = 'display_data';\n",
              "          await google.colab.output.renderOutput(dataTable, element);\n",
              "          const docLink = document.createElement('div');\n",
              "          docLink.innerHTML = docLinkHtml;\n",
              "          element.appendChild(docLink);\n",
              "        }\n",
              "      </script>\n",
              "    </div>\n",
              "  </div>\n",
              "  "
            ]
          },
          "metadata": {},
          "execution_count": 10
        }
      ],
      "source": [
        "dataset.head()"
      ]
    },
    {
      "cell_type": "markdown",
      "metadata": {
        "id": "AABrSqxyMlLJ"
      },
      "source": [
        "### Cantidad de videos en trending por país\n",
        "\n",
        "El siguiente gráfico muestra la cantidad de videos en trending por cada país, es decir, la cantidad de filas que contiene cada uno de los archivos leídos."
      ]
    },
    {
      "cell_type": "code",
      "execution_count": null,
      "metadata": {
        "id": "tIJ3y5AOMmrx",
        "colab": {
          "base_uri": "https://localhost:8080/",
          "height": 580
        },
        "outputId": "127a1158-f7c9-4f1d-e1c1-fe6db3f218db"
      },
      "outputs": [
        {
          "output_type": "execute_result",
          "data": {
            "text/plain": [
              "<matplotlib.axes._subplots.AxesSubplot at 0x7f225358c6d0>"
            ]
          },
          "metadata": {},
          "execution_count": 57
        },
        {
          "output_type": "display_data",
          "data": {
            "text/plain": [
              "<Figure size 900x600 with 1 Axes>"
            ],
            "image/png": "[encoded data removed]"
          },
          "metadata": {
            "needs_background": "light"
          }
        }
      ],
      "source": [
        "sns.countplot(y=\"country\", data=dataset, order=dataset['country'].value_counts().index)"
      ]
    },
    {
      "cell_type": "markdown",
      "metadata": {
        "id": "6hCNnte_Nq7a"
      },
      "source": [
        "Se puede observar que la mayoría de países tiene una cantidad parecida de videos. Esto indica que los conjuntos de datos de cada país tienen semejante cantidad de datos, excepto en los casos de Rusia, Corea e India. Los valores exactos de cantidad de videos por cada país se muestran en la siguiente tabla:"
      ]
    },
    {
      "cell_type": "code",
      "execution_count": null,
      "metadata": {
        "id": "c4jKHPTfNr9i",
        "colab": {
          "base_uri": "https://localhost:8080/",
          "height": 394
        },
        "outputId": "3bf290ff-47bf-4ec9-b883-d63ca301f6f6"
      },
      "outputs": [
        {
          "output_type": "execute_result",
          "data": {
            "text/plain": [
              "   country  amount\n",
              "0       BG  121595\n",
              "1       BR  121592\n",
              "2       CA  121544\n",
              "3       DE  121543\n",
              "4       FR  121591\n",
              "5       IN  115660\n",
              "6       JP  121587\n",
              "7       KR  118554\n",
              "8       MX  121399\n",
              "9       RU  119665\n",
              "10      US  121591"
            ],
            "text/html": [
              "\n",
              "  <div id=\"df-630b2702-282a-4d61-96b1-9dc133dcda54\">\n",
              "    <div class=\"colab-df-container\">\n",
              "      <div>\n",
              "<style scoped>\n",
              "    .dataframe tbody tr th:only-of-type {\n",
              "        vertical-align: middle;\n",
              "    }\n",
              "\n",
              "    .dataframe tbody tr th {\n",
              "        vertical-align: top;\n",
              "    }\n",
              "\n",
              "    .dataframe thead th {\n",
              "        text-align: right;\n",
              "    }\n",
              "</style>\n",
              "<table border=\"1\" class=\"dataframe\">\n",
              "  <thead>\n",
              "    <tr style=\"text-align: right;\">\n",
              "      <th></th>\n",
              "      <th>country</th>\n",
              "      <th>amount</th>\n",
              "    </tr>\n",
              "  </thead>\n",
              "  <tbody>\n",
              "    <tr>\n",
              "      <th>0</th>\n",
              "      <td>BG</td>\n",
              "      <td>121595</td>\n",
              "    </tr>\n",
              "    <tr>\n",
              "      <th>1</th>\n",
              "      <td>BR</td>\n",
              "      <td>121592</td>\n",
              "    </tr>\n",
              "    <tr>\n",
              "      <th>2</th>\n",
              "      <td>CA</td>\n",
              "      <td>121544</td>\n",
              "    </tr>\n",
              "    <tr>\n",
              "      <th>3</th>\n",
              "      <td>DE</td>\n",
              "      <td>121543</td>\n",
              "    </tr>\n",
              "    <tr>\n",
              "      <th>4</th>\n",
              "      <td>FR</td>\n",
              "      <td>121591</td>\n",
              "    </tr>\n",
              "    <tr>\n",
              "      <th>5</th>\n",
              "      <td>IN</td>\n",
              "      <td>115660</td>\n",
              "    </tr>\n",
              "    <tr>\n",
              "      <th>6</th>\n",
              "      <td>JP</td>\n",
              "      <td>121587</td>\n",
              "    </tr>\n",
              "    <tr>\n",
              "      <th>7</th>\n",
              "      <td>KR</td>\n",
              "      <td>118554</td>\n",
              "    </tr>\n",
              "    <tr>\n",
              "      <th>8</th>\n",
              "      <td>MX</td>\n",
              "      <td>121399</td>\n",
              "    </tr>\n",
              "    <tr>\n",
              "      <th>9</th>\n",
              "      <td>RU</td>\n",
              "      <td>119665</td>\n",
              "    </tr>\n",
              "    <tr>\n",
              "      <th>10</th>\n",
              "      <td>US</td>\n",
              "      <td>121591</td>\n",
              "    </tr>\n",
              "  </tbody>\n",
              "</table>\n",
              "</div>\n",
              "      <button class=\"colab-df-convert\" onclick=\"convertToInteractive('df-630b2702-282a-4d61-96b1-9dc133dcda54')\"\n",
              "              title=\"Convert this dataframe to an interactive table.\"\n",
              "              style=\"display:none;\">\n",
              "        \n",
              "  <svg xmlns=\"http://www.w3.org/2000/svg\" height=\"24px\"viewBox=\"0 0 24 24\"\n",
              "       width=\"24px\">\n",
              "    <path d=\"M0 0h24v24H0V0z\" fill=\"none\"/>\n",
              "    <path d=\"M18.56 5.44l.94 2.06.94-2.06 2.06-.94-2.06-.94-.94-2.06-.94 2.06-2.06.94zm-11 1L8.5 8.5l.94-2.06 2.06-.94-2.06-.94L8.5 2.5l-.94 2.06-2.06.94zm10 10l.94 2.06.94-2.06 2.06-.94-2.06-.94-.94-2.06-.94 2.06-2.06.94z\"/><path d=\"M17.41 7.96l-1.37-1.37c-.4-.4-.92-.59-1.43-.59-.52 0-1.04.2-1.43.59L10.3 9.45l-7.72 7.72c-.78.78-.78 2.05 0 2.83L4 21.41c.39.39.9.59 1.41.59.51 0 1.02-.2 1.41-.59l7.78-7.78 2.81-2.81c.8-.78.8-2.07 0-2.86zM5.41 20L4 18.59l7.72-7.72 1.47 1.35L5.41 20z\"/>\n",
              "  </svg>\n",
              "      </button>\n",
              "      \n",
              "  <style>\n",
              "    .colab-df-container {\n",
              "      display:flex;\n",
              "      flex-wrap:wrap;\n",
              "      gap: 12px;\n",
              "    }\n",
              "\n",
              "    .colab-df-convert {\n",
              "      background-color: #E8F0FE;\n",
              "      border: none;\n",
              "      border-radius: 50%;\n",
              "      cursor: pointer;\n",
              "      display: none;\n",
              "      fill: #1967D2;\n",
              "      height: 32px;\n",
              "      padding: 0 0 0 0;\n",
              "      width: 32px;\n",
              "    }\n",
              "\n",
              "    .colab-df-convert:hover {\n",
              "      background-color: #E2EBFA;\n",
              "      box-shadow: 0px 1px 2px rgba(60, 64, 67, 0.3), 0px 1px 3px 1px rgba(60, 64, 67, 0.15);\n",
              "      fill: #174EA6;\n",
              "    }\n",
              "\n",
              "    [theme=dark] .colab-df-convert {\n",
              "      background-color: #3B4455;\n",
              "      fill: #D2E3FC;\n",
              "    }\n",
              "\n",
              "    [theme=dark] .colab-df-convert:hover {\n",
              "      background-color: #434B5C;\n",
              "      box-shadow: 0px 1px 3px 1px rgba(0, 0, 0, 0.15);\n",
              "      filter: drop-shadow(0px 1px 2px rgba(0, 0, 0, 0.3));\n",
              "      fill: #FFFFFF;\n",
              "    }\n",
              "  </style>\n",
              "\n",
              "      <script>\n",
              "        const buttonEl =\n",
              "          document.querySelector('#df-630b2702-282a-4d61-96b1-9dc133dcda54 button.colab-df-convert');\n",
              "        buttonEl.style.display =\n",
              "          google.colab.kernel.accessAllowed ? 'block' : 'none';\n",
              "\n",
              "        async function convertToInteractive(key) {\n",
              "          const element = document.querySelector('#df-630b2702-282a-4d61-96b1-9dc133dcda54');\n",
              "          const dataTable =\n",
              "            await google.colab.kernel.invokeFunction('convertToInteractive',\n",
              "                                                     [key], {});\n",
              "          if (!dataTable) return;\n",
              "\n",
              "          const docLinkHtml = 'Like what you see? Visit the ' +\n",
              "            '<a target=\"_blank\" href=https://colab.research.google.com/notebooks/data_table.ipynb>data table notebook</a>'\n",
              "            + ' to learn more about interactive tables.';\n",
              "          element.innerHTML = '';\n",
              "          dataTable['output_type'] = 'display_data';\n",
              "          await google.colab.output.renderOutput(dataTable, element);\n",
              "          const docLink = document.createElement('div');\n",
              "          docLink.innerHTML = docLinkHtml;\n",
              "          element.appendChild(docLink);\n",
              "        }\n",
              "      </script>\n",
              "    </div>\n",
              "  </div>\n",
              "  "
            ]
          },
          "metadata": {},
          "execution_count": 58
        }
      ],
      "source": [
        "dataset.groupby(\"country\").agg(amount = pd.NamedAgg(column='country', aggfunc='count')).reset_index()"
      ]
    },
    {
      "cell_type": "markdown",
      "metadata": {
        "id": "7WfqGp98OweQ"
      },
      "source": [
        "### Cantidad de visitas por pais\n",
        "\n",
        "La cantidad de visitas de todos los videos en la lista de trendings por país se presenta en el siguiente gráfico:"
      ]
    },
    {
      "cell_type": "code",
      "execution_count": null,
      "metadata": {
        "id": "0tFSXactOxWY",
        "colab": {
          "base_uri": "https://localhost:8080/",
          "height": 580
        },
        "outputId": "a50c870a-7c19-45a1-e8a6-f30f1d0996d9"
      },
      "outputs": [
        {
          "output_type": "execute_result",
          "data": {
            "text/plain": [
              "<matplotlib.axes._subplots.AxesSubplot at 0x7f22534a3090>"
            ]
          },
          "metadata": {},
          "execution_count": 59
        },
        {
          "output_type": "display_data",
          "data": {
            "text/plain": [
              "<Figure size 900x600 with 1 Axes>"
            ],
            "image/png": "[encoded data removed]"
          },
          "metadata": {
            "needs_background": "light"
          }
        }
      ],
      "source": [
        "view_count = dataset.groupby(\"country\").agg(views = (\"view_count\", sum)).sort_values(by=\"views\", ascending=False).reset_index()\n",
        "sns.barplot(x=\"views\", y=\"country\", data=view_count)"
      ]
    },
    {
      "cell_type": "markdown",
      "metadata": {
        "id": "7jKKGuFfPW_g"
      },
      "source": [
        "Los valores reales por país se muestran en la siguiente tabla:"
      ]
    },
    {
      "cell_type": "code",
      "execution_count": null,
      "metadata": {
        "id": "gWL7s9RrPXzO",
        "colab": {
          "base_uri": "https://localhost:8080/",
          "height": 394
        },
        "outputId": "cf0bba9f-2ddc-41ef-bba6-d834c9459526"
      },
      "outputs": [
        {
          "output_type": "execute_result",
          "data": {
            "text/plain": [
              "   country         views\n",
              "0       IN  358915195319\n",
              "1       US  328297983860\n",
              "2       CA  324491580308\n",
              "3       BG  283134799392\n",
              "4       MX  273102109265\n",
              "5       DE  212396451128\n",
              "6       KR  189795663834\n",
              "7       BR  189308405016\n",
              "8       JP  150921711511\n",
              "9       FR  127797915943\n",
              "10      RU   85778790178"
            ],
            "text/html": [
              "\n",
              "  <div id=\"df-c9094d45-32bb-4998-aa4f-519cf0d80517\">\n",
              "    <div class=\"colab-df-container\">\n",
              "      <div>\n",
              "<style scoped>\n",
              "    .dataframe tbody tr th:only-of-type {\n",
              "        vertical-align: middle;\n",
              "    }\n",
              "\n",
              "    .dataframe tbody tr th {\n",
              "        vertical-align: top;\n",
              "    }\n",
              "\n",
              "    .dataframe thead th {\n",
              "        text-align: right;\n",
              "    }\n",
              "</style>\n",
              "<table border=\"1\" class=\"dataframe\">\n",
              "  <thead>\n",
              "    <tr style=\"text-align: right;\">\n",
              "      <th></th>\n",
              "      <th>country</th>\n",
              "      <th>views</th>\n",
              "    </tr>\n",
              "  </thead>\n",
              "  <tbody>\n",
              "    <tr>\n",
              "      <th>0</th>\n",
              "      <td>IN</td>\n",
              "      <td>358915195319</td>\n",
              "    </tr>\n",
              "    <tr>\n",
              "      <th>1</th>\n",
              "      <td>US</td>\n",
              "      <td>328297983860</td>\n",
              "    </tr>\n",
              "    <tr>\n",
              "      <th>2</th>\n",
              "      <td>CA</td>\n",
              "      <td>324491580308</td>\n",
              "    </tr>\n",
              "    <tr>\n",
              "      <th>3</th>\n",
              "      <td>BG</td>\n",
              "      <td>283134799392</td>\n",
              "    </tr>\n",
              "    <tr>\n",
              "      <th>4</th>\n",
              "      <td>MX</td>\n",
              "      <td>273102109265</td>\n",
              "    </tr>\n",
              "    <tr>\n",
              "      <th>5</th>\n",
              "      <td>DE</td>\n",
              "      <td>212396451128</td>\n",
              "    </tr>\n",
              "    <tr>\n",
              "      <th>6</th>\n",
              "      <td>KR</td>\n",
              "      <td>189795663834</td>\n",
              "    </tr>\n",
              "    <tr>\n",
              "      <th>7</th>\n",
              "      <td>BR</td>\n",
              "      <td>189308405016</td>\n",
              "    </tr>\n",
              "    <tr>\n",
              "      <th>8</th>\n",
              "      <td>JP</td>\n",
              "      <td>150921711511</td>\n",
              "    </tr>\n",
              "    <tr>\n",
              "      <th>9</th>\n",
              "      <td>FR</td>\n",
              "      <td>127797915943</td>\n",
              "    </tr>\n",
              "    <tr>\n",
              "      <th>10</th>\n",
              "      <td>RU</td>\n",
              "      <td>85778790178</td>\n",
              "    </tr>\n",
              "  </tbody>\n",
              "</table>\n",
              "</div>\n",
              "      <button class=\"colab-df-convert\" onclick=\"convertToInteractive('df-c9094d45-32bb-4998-aa4f-519cf0d80517')\"\n",
              "              title=\"Convert this dataframe to an interactive table.\"\n",
              "              style=\"display:none;\">\n",
              "        \n",
              "  <svg xmlns=\"http://www.w3.org/2000/svg\" height=\"24px\"viewBox=\"0 0 24 24\"\n",
              "       width=\"24px\">\n",
              "    <path d=\"M0 0h24v24H0V0z\" fill=\"none\"/>\n",
              "    <path d=\"M18.56 5.44l.94 2.06.94-2.06 2.06-.94-2.06-.94-.94-2.06-.94 2.06-2.06.94zm-11 1L8.5 8.5l.94-2.06 2.06-.94-2.06-.94L8.5 2.5l-.94 2.06-2.06.94zm10 10l.94 2.06.94-2.06 2.06-.94-2.06-.94-.94-2.06-.94 2.06-2.06.94z\"/><path d=\"M17.41 7.96l-1.37-1.37c-.4-.4-.92-.59-1.43-.59-.52 0-1.04.2-1.43.59L10.3 9.45l-7.72 7.72c-.78.78-.78 2.05 0 2.83L4 21.41c.39.39.9.59 1.41.59.51 0 1.02-.2 1.41-.59l7.78-7.78 2.81-2.81c.8-.78.8-2.07 0-2.86zM5.41 20L4 18.59l7.72-7.72 1.47 1.35L5.41 20z\"/>\n",
              "  </svg>\n",
              "      </button>\n",
              "      \n",
              "  <style>\n",
              "    .colab-df-container {\n",
              "      display:flex;\n",
              "      flex-wrap:wrap;\n",
              "      gap: 12px;\n",
              "    }\n",
              "\n",
              "    .colab-df-convert {\n",
              "      background-color: #E8F0FE;\n",
              "      border: none;\n",
              "      border-radius: 50%;\n",
              "      cursor: pointer;\n",
              "      display: none;\n",
              "      fill: #1967D2;\n",
              "      height: 32px;\n",
              "      padding: 0 0 0 0;\n",
              "      width: 32px;\n",
              "    }\n",
              "\n",
              "    .colab-df-convert:hover {\n",
              "      background-color: #E2EBFA;\n",
              "      box-shadow: 0px 1px 2px rgba(60, 64, 67, 0.3), 0px 1px 3px 1px rgba(60, 64, 67, 0.15);\n",
              "      fill: #174EA6;\n",
              "    }\n",
              "\n",
              "    [theme=dark] .colab-df-convert {\n",
              "      background-color: #3B4455;\n",
              "      fill: #D2E3FC;\n",
              "    }\n",
              "\n",
              "    [theme=dark] .colab-df-convert:hover {\n",
              "      background-color: #434B5C;\n",
              "      box-shadow: 0px 1px 3px 1px rgba(0, 0, 0, 0.15);\n",
              "      filter: drop-shadow(0px 1px 2px rgba(0, 0, 0, 0.3));\n",
              "      fill: #FFFFFF;\n",
              "    }\n",
              "  </style>\n",
              "\n",
              "      <script>\n",
              "        const buttonEl =\n",
              "          document.querySelector('#df-c9094d45-32bb-4998-aa4f-519cf0d80517 button.colab-df-convert');\n",
              "        buttonEl.style.display =\n",
              "          google.colab.kernel.accessAllowed ? 'block' : 'none';\n",
              "\n",
              "        async function convertToInteractive(key) {\n",
              "          const element = document.querySelector('#df-c9094d45-32bb-4998-aa4f-519cf0d80517');\n",
              "          const dataTable =\n",
              "            await google.colab.kernel.invokeFunction('convertToInteractive',\n",
              "                                                     [key], {});\n",
              "          if (!dataTable) return;\n",
              "\n",
              "          const docLinkHtml = 'Like what you see? Visit the ' +\n",
              "            '<a target=\"_blank\" href=https://colab.research.google.com/notebooks/data_table.ipynb>data table notebook</a>'\n",
              "            + ' to learn more about interactive tables.';\n",
              "          element.innerHTML = '';\n",
              "          dataTable['output_type'] = 'display_data';\n",
              "          await google.colab.output.renderOutput(dataTable, element);\n",
              "          const docLink = document.createElement('div');\n",
              "          docLink.innerHTML = docLinkHtml;\n",
              "          element.appendChild(docLink);\n",
              "        }\n",
              "      </script>\n",
              "    </div>\n",
              "  </div>\n",
              "  "
            ]
          },
          "metadata": {},
          "execution_count": 60
        }
      ],
      "source": [
        "view_count"
      ]
    },
    {
      "cell_type": "markdown",
      "metadata": {
        "id": "xaGW3LIbPyvD"
      },
      "source": [
        "Los resultados de este análisis son interesantes, ya que el país que más visitas totales acumula es India, el país cuyo conjunto de datos contiene la menor cantidad de registros de dataset completo."
      ]
    },
    {
      "cell_type": "markdown",
      "metadata": {
        "id": "7zQtogQqPzWa"
      },
      "source": [
        "### Canales con más videos en la lista de tendencias\n",
        "\n",
        "El siguiente gráfico muestra el top 10 de los canales que tienen más videos en las listas de tendencias de todos los países.\n",
        "Este análisis contempla el periodo temporal total del conjunto de datos."
      ]
    },
    {
      "cell_type": "code",
      "execution_count": null,
      "metadata": {
        "id": "keEIAFL_P3Ia",
        "colab": {
          "base_uri": "https://localhost:8080/",
          "height": 1000
        },
        "outputId": "65c55e6e-1dfb-498f-f155-c5bef08c611c"
      },
      "outputs": [
        {
          "output_type": "execute_result",
          "data": {
            "text/plain": [
              "<matplotlib.axes._subplots.AxesSubplot at 0x7f225f5f72d0>"
            ]
          },
          "metadata": {},
          "execution_count": 61
        },
        {
          "output_type": "stream",
          "name": "stderr",
          "text": [
            "/usr/local/lib/python3.7/dist-packages/matplotlib/backends/backend_agg.py:214: RuntimeWarning: Glyph 26481 missing from current font.\n",
            "  font.set_text(s, 0.0, flags=flags)\n",
            "/usr/local/lib/python3.7/dist-packages/matplotlib/backends/backend_agg.py:214: RuntimeWarning: Glyph 28023 missing from current font.\n",
            "  font.set_text(s, 0.0, flags=flags)\n",
            "/usr/local/lib/python3.7/dist-packages/matplotlib/backends/backend_agg.py:214: RuntimeWarning: Glyph 12458 missing from current font.\n",
            "  font.set_text(s, 0.0, flags=flags)\n",
            "/usr/local/lib/python3.7/dist-packages/matplotlib/backends/backend_agg.py:214: RuntimeWarning: Glyph 12531 missing from current font.\n",
            "  font.set_text(s, 0.0, flags=flags)\n",
            "/usr/local/lib/python3.7/dist-packages/matplotlib/backends/backend_agg.py:214: RuntimeWarning: Glyph 12456 missing from current font.\n",
            "  font.set_text(s, 0.0, flags=flags)\n",
            "/usr/local/lib/python3.7/dist-packages/matplotlib/backends/backend_agg.py:214: RuntimeWarning: Glyph 12450 missing from current font.\n",
            "  font.set_text(s, 0.0, flags=flags)\n",
            "/usr/local/lib/python3.7/dist-packages/matplotlib/backends/backend_agg.py:183: RuntimeWarning: Glyph 26481 missing from current font.\n",
            "  font.set_text(s, 0, flags=flags)\n",
            "/usr/local/lib/python3.7/dist-packages/matplotlib/backends/backend_agg.py:183: RuntimeWarning: Glyph 28023 missing from current font.\n",
            "  font.set_text(s, 0, flags=flags)\n",
            "/usr/local/lib/python3.7/dist-packages/matplotlib/backends/backend_agg.py:183: RuntimeWarning: Glyph 12458 missing from current font.\n",
            "  font.set_text(s, 0, flags=flags)\n",
            "/usr/local/lib/python3.7/dist-packages/matplotlib/backends/backend_agg.py:183: RuntimeWarning: Glyph 12531 missing from current font.\n",
            "  font.set_text(s, 0, flags=flags)\n",
            "/usr/local/lib/python3.7/dist-packages/matplotlib/backends/backend_agg.py:183: RuntimeWarning: Glyph 12456 missing from current font.\n",
            "  font.set_text(s, 0, flags=flags)\n",
            "/usr/local/lib/python3.7/dist-packages/matplotlib/backends/backend_agg.py:183: RuntimeWarning: Glyph 12450 missing from current font.\n",
            "  font.set_text(s, 0, flags=flags)\n"
          ]
        },
        {
          "output_type": "display_data",
          "data": {
            "text/plain": [
              "<Figure size 900x600 with 1 Axes>"
            ],
            "image/png": "[encoded data removed]"
          },
          "metadata": {
            "needs_background": "light"
          }
        }
      ],
      "source": [
        "plt.rc('axes', unicode_minus=False)\n",
        "top_10_global = dataset.groupby(\"channelTitle\").agg( freq = pd.NamedAgg(column=\"channelTitle\", aggfunc=\"count\")).sort_values(by=\"freq\", ascending=False).reset_index()[0:10]\n",
        "sns.barplot(x=\"freq\", y=\"channelTitle\", data=top_10_global)"
      ]
    },
    {
      "cell_type": "markdown",
      "metadata": {
        "id": "G-Q-hVZZbuHK"
      },
      "source": [
        "Lo interesante de este gráfico es ver la cantidad de videos en la lista de tendencias que tiene cada canal. Se puede notar que el top 3 tienen una diferencia pequeña en la cantidad de videos comparándolo con el resto de canales."
      ]
    },
    {
      "cell_type": "markdown",
      "metadata": {
        "id": "2FjUq4Ohbu3p"
      },
      "source": [
        "# Preguntas y problemas"
      ]
    },
    {
      "cell_type": "markdown",
      "metadata": {
        "id": "jfnh1Tc6b00p"
      },
      "source": [
        "## Preguntas\n",
        "\n",
        "En base a los resultados obtenidos de los análisis realizados y teniendo en cuenta la motivación descrita al inicio de este documento, nos planteamos dar respuesta a las siguientes preguntas:\n",
        "\n",
        "1. Predecir la fecha en la que un video entrará a la lista de tendencias de YouTube.\n",
        " \n",
        "2. ¿Existe una cultura general de Youtube que determina las tendencias de los videos, o depende netamente de la cultura del país de dónde se origina?\n",
        ">\n",
        ">*Argumentación*: Se entiende como cultura general de Youtube a una serie de características presentes en los videos/canales que gustan a las personas de diferentes nacionalidades, género, etc. Se entiende además como tendencias a los videos que logran una mayor cantidad de reproducciones, vistas y likes. en comparación a los demás en la plataforma.\n",
        "\n",
        "3. Si es posible agrupar el conjunto de datos en base a ciertas características ¿Cuáles son las características de cada grupo?\n",
        "\n"
      ]
    },
    {
      "cell_type": "markdown",
      "metadata": {
        "id": "d4qxLJGKb7Ss"
      },
      "source": [
        "## Problemas\n",
        "\n",
        "No existe una estandarización del concepto “interacción” para un determinado vídeo. Ya que un video “famoso” se compone por una cierta cantidad de interacciones, que están formadas por likes, dislikes, visitas y comentarios. No se identifica cuál de estos criterios tiene mayor o igual valor a los otros."
      ]
    },
    {
      "cell_type": "markdown",
      "metadata": {
        "id": "6KJkSfb5Edd9"
      },
      "source": [
        "# Mejoras Hito 1"
      ]
    },
    {
      "cell_type": "markdown",
      "source": [
        "- Ordenamiento de visualizaciones de frecuencias.\n",
        "- Utilización del estándar normas APA para las referencias.\n",
        "- Cambio y reformulación de las preguntas.\n",
        "- Agregamos nueva exploración de datos para los atributos que representan fechas."
      ],
      "metadata": {
        "id": "i6DSDkXmZkZg"
      }
    },
    {
      "cell_type": "markdown",
      "metadata": {
        "id": "6XA_rfRAE38E"
      },
      "source": [
        "# Propuesta experimental"
      ]
    },
    {
      "cell_type": "markdown",
      "source": [
        "## Propuesta experimental: Pregunta 1"
      ],
      "metadata": {
        "id": "dkJ7sRyPZyOx"
      }
    },
    {
      "cell_type": "markdown",
      "source": [
        "Para predecir la fecha en la que un modelo entrara a la lista de tendencias de YouTube, primero haremos un tratamiento de los datos para separar las características que representen fechas, siendo estas las columnas: `publishedAt` y `trending_date`. Las separaremos en columnas que contengan el día y el mes por separado. El dato del año no se utilizará en la generación del modelo, ya que solo se tienen datos de los años 2020, 2021 y 2022. Además, este dato no se repetirá en el futuro (como si se repiten los números de los días cada mes, o el número del mes cada año) lo que provocara que el modelo sea menos generalizable para datos futuros.\n",
        "\n",
        "Los datos serán normalizados, ya que las características numéricas tienen distintas escalas, como en el caso de cantidad de visitas y el día (en números) que se subió el video. En esta tarea usaremos la clase `MinMaxScaler` de la librería Scikit-Learn debido a su facilidad de uso.  \n",
        "\n",
        "Puesto que esta tarea busca la predicción de la fecha de entrada a la lista de tendencias, utilizaremos técnicas de clasificación para entrenar un modelo que sea capaz de predecir la fecha deseada. \n",
        "\n",
        "Para seleccionar el algoritmo a utilizar compararemos los resultados de los siguientes algoritmos: Decision Trees, K-NN y SVM. Utilizaremos al menos 2 configuraciones distintas de hiperparámetros para cada algoritmo haciendo uso de la funcionalidad `GridSearchCV` que provee la librería Scikit-Learn. De estos seleccionaremos el algoritmo que se empleó en el modelo que presente el mejor rendimiento. Para comparar los algoritmos utilizaremos las métricas: Accuracy, Precision, Recall y F1-score, ya que estas son fácilmente obtenibles a través de un simple método de la librería Scikit-Learn.\n",
        "\n",
        "En el entrenamiento de los modelos utilizaremos todas las características numéricas y categóricas del conjunto de datos. Algunas de las características que dejaremos fuera serán: *video_id*, *title*, *channelTitle*, *tags*, *thumbnail_link* y *description*. Debido a que tenemos una gran cantidad de datos, separaremos el conjunto de datos en una proporción de 70%-30% para el entrenamiento y testeo del modelo respectivamente.\n",
        "\n",
        "Una vez hayamos seleccionado el algoritmo a utilizar, entrenaremos otro modelo con el mismo algoritmo, debido a que el día y el mes en que entra a la lista de tendencias se encuentran en diferentes columnas, el primer modelo realizara la predicción del día y el segundo del mes en que entra a la lista de tendencias.\n",
        "\n",
        "Finalmente, se generará un método que permita efectuar la predicción de la fecha, incluyendo día y mes, ingresando un dato, para facilitar la predicción de nuevos datos.\n",
        "\n",
        "Si el segundo modelo entrenado no da un buen rendimiento o equivalente al primero, se volverá a realizar el proceso de selección de algoritmos descrito anteriormente, en este caso seleccionando un nuevo algoritmo para la predicción del dato deseado (sea mes o día).\n"
      ],
      "metadata": {
        "id": "JLGIXdcDZ7Bv"
      }
    },
    {
      "cell_type": "markdown",
      "source": [
        "## Propuesta experimental: Pregunta 2"
      ],
      "metadata": {
        "id": "UChZMIo4Z8Ud"
      }
    },
    {
      "cell_type": "markdown",
      "source": [
        "Una de las preguntas propuestas para el proyecto está relacionado a identificar algún tipo de cultura general en YouTube. Como cultura general, se hace referencia a un conjunto de videos que poseen ciertas características que hacen que sean populares en cualquier parte del mundo. Esto quiere decir, que de haber una cultura general en YouTube, existirían videos que serían de los más populares en todos los países del conjunto de datos.\n",
        "\n",
        "Para identificar si existe una cultura general de YouTube en los videos que se encuentran en tendencias se utilizarán técnicas de visualización de datos, ya que se buscará identificar cuáles son los videos más vistos por cada país. \n",
        "\n",
        "En caso de existir una cultura general de YouTube, los videos más vistos se repetirán entre los distintos países. Ese será el punto de partida para identificar si existe o no.\n",
        "\n",
        "Primero, se generará un gráfico de barras para los 10 videos más vistos por cada país, identificando el nombre del video y las visualizaciones que posea. \n",
        "\n",
        "Se identificará si existen videos que se encuentren en todos los gráficos. En caso de que existan, estos videos serán identificados como videos gustados de forma general. \n",
        "\n",
        "En la situación de no existir vídeos que se vayan repitiendo entre países, se concluirá que no existe una cultura general de YouTube para los videos en tendencia. En caso de existir, se buscará entender desde qué momento los videos han entrado en tendencia para cada país, utilizando un gráfico de dispersión por cada vídeo con la fecha en la que entraron a tendencias en cada país.\n",
        "\n",
        "Finalmente, se analizará la fecha de entrada de los videos para cada país, y se comentarán los resultados.\n",
        "\n",
        "La fecha de entrada a las tendencias resulta interesante, ya que nos puede dar una idea de si un video que se considere popular para la cultura general en YouTube es popular en todos los países al mismo tiempo, o si la popularidad de los videos es generada en diferentes tiempos para cada país en donde es popular.\n"
      ],
      "metadata": {
        "id": "6PJnP7bsZ_R1"
      }
    },
    {
      "cell_type": "markdown",
      "source": [
        "## Propuesta experimental: Pregunta 3"
      ],
      "metadata": {
        "id": "z8IIAz_UaAtL"
      }
    },
    {
      "cell_type": "markdown",
      "source": [
        "Para identificar cuáles son las características sobre las cuales se podría realizar el agrupamiento de los datos se pretende la utilización de técnicas de clustering.\n",
        "\n",
        "Las técnicas de clustering escogidas para la aplicación de esta propuesta son tres: `KMeans`, `AgglomerativeClustering` y `DBSCAN`. Las tres técnicas pertenecen a la librería `sklearn.cluster`.\n",
        "\n",
        "Se aplicarán estas tres técnicas a nuestro dataset para poder obtener distintos clústers (la cantidad varía según cada técnica). Los clústers obtenidos serán sometidos a distintas técnicas de evaluación. Dentro de las técnicas de evaluación que serán aplicadas están: `Matriz de similitud`, `silhouette_score` (de la librería `sklearn.metrics`), `adjusted_mutual_info_score` y `normalized_mutual_info_score` (de la librería `sklearn.metrics`).\n",
        "\n",
        "Según la evaluación de los clústers, y por ende de las técnicas aplicadas, se logrará obtener una evaluación de las posibles “características en común” que presentan los clústers, identificando así si realmente se presentan características de los videos que puedan asociarlos entre sí.\n",
        "\n",
        "En el caso de que estos grupos presenten características en común, entonces se escogerá la técnica de clustering, que entregó esos grupos como resultado, como la correcta y se expondrán los resultados. Analizando las características en común.\n",
        "\n",
        "En el caso contrario, en el cual no se encuentra ningún grupo, después de haber aplicado todas las formas de clústering consideradas, que presente características en común, entonces se puede concluir de que no existen grupos de vídeos, de tendencia, en común.\n"
      ],
      "metadata": {
        "id": "lnOBeMR2aEaj"
      }
    },
    {
      "cell_type": "markdown",
      "source": [
        "# Resultado preliminar"
      ],
      "metadata": {
        "id": "UwRvNxZcUYbK"
      }
    },
    {
      "cell_type": "markdown",
      "metadata": {
        "id": "yDPOmyy0bJY6"
      },
      "source": [
        "**Preparación del conjunto de datos**"
      ]
    },
    {
      "cell_type": "markdown",
      "source": [
        "Separamos los datos de las columnas *publishedAt* y *trending_date* a diferentes columnas que contienen el día y el mes de cada fecha.\n",
        "Se excluye el año, ya que no se repite de manera cíclica como los días o meses, lo que lo hace un dato que es poco generalizable para futuras predicciones del modelo."
      ],
      "metadata": {
        "id": "0myZNBVAfgmI"
      }
    },
    {
      "cell_type": "code",
      "execution_count": null,
      "metadata": {
        "id": "IbjU-gGibVm9",
        "colab": {
          "base_uri": "https://localhost:8080/",
          "height": 664
        },
        "outputId": "e55ec533-2ea1-4d1b-ea8e-e6285e659524"
      },
      "outputs": [
        {
          "output_type": "execute_result",
          "data": {
            "text/plain": [
              "      video_id                                              title  \\\n",
              "0  SsWHMAhshPQ  Ovi x Natanael Cano x Aleman x Big Soto - Veng...   \n",
              "1  JOaeND0xUNk  Belinda y Christian Nodal cantan De los besos ...   \n",
              "2  SV91jnGs--s        ¿QUIÉN HACE LOS MEJORES NUGGETS? | EL GUZII   \n",
              "3  QgX0zn5nMyk  Martha Figueroa se disculpa públicamente con N...   \n",
              "4  cKaM19oAwBM  MAQUILLAJE PARA KIMBERLY LOAIZA✨ RESISTENTE AL...   \n",
              "\n",
              "          publishedAt                 channelId       channelTitle  \\\n",
              "0 2020-08-11 23:00:10  UC648rgJOboZlgcDbW00vTSA     Rancho Humilde   \n",
              "1 2020-08-11 18:03:06  UCNVrBkfp4_TG9x4h5kvLeAQ          TV Azteca   \n",
              "2 2020-08-11 19:57:02  UCuGn3ioftOo6jvHE1YK4Bfw           El Guzii   \n",
              "3 2020-08-11 15:57:47  UCJPd6seu4JK4PZjVVTWb0QA                Hoy   \n",
              "4 2020-08-11 21:55:08  UCs5w0QCxsEWz83vuQyOCnuA  Victor Guadarrama   \n",
              "\n",
              "   categoryId trending_date  \\\n",
              "0          10    2020-08-12   \n",
              "1          24    2020-08-12   \n",
              "2          26    2020-08-12   \n",
              "3          24    2020-08-12   \n",
              "4          26    2020-08-12   \n",
              "\n",
              "                                                tags  view_count   likes  ...  \\\n",
              "0  Vengo De Nada|Aleman|Ovi|Big Soto|Trap|Ovi Nat...      741028  113999  ...   \n",
              "1  tv azteca|videos de tv azteca|azteca uno|en su...      402507    8102  ...   \n",
              "2  El Guzii|Guzzi|Guzy|Guzii Style|Recetas Divert...      735044   62188  ...   \n",
              "3  Televisa|Televisa espectaculos|programa hoy te...      521751    4680  ...   \n",
              "4  MAQUILLAJE|CELEBS|ARTE|MAKEUP|PESTAÑAS|KIMBERL...      168118   24551  ...   \n",
              "\n",
              "   comment_count                                  thumbnail_link  \\\n",
              "0           5620  https://i.ytimg.com/vi/SsWHMAhshPQ/default.jpg   \n",
              "1            803  https://i.ytimg.com/vi/JOaeND0xUNk/default.jpg   \n",
              "2           4100  https://i.ytimg.com/vi/SV91jnGs--s/default.jpg   \n",
              "3           2285  https://i.ytimg.com/vi/QgX0zn5nMyk/default.jpg   \n",
              "4            782  https://i.ytimg.com/vi/cKaM19oAwBM/default.jpg   \n",
              "\n",
              "  comments_disabled  ratings_disabled  \\\n",
              "0             False             False   \n",
              "1             False             False   \n",
              "2             False             False   \n",
              "3             False             False   \n",
              "4             False             False   \n",
              "\n",
              "                                         description country publish_day  \\\n",
              "0  Vengo De Nada - Ovi x Natanael Cano x Aleman x...      MX          11   \n",
              "1  Encendieron el escenario de La Voz. TV AztecaT...      MX          11   \n",
              "2  Si tienes 10 kg de sobre peso tal vez te haz p...      MX          11   \n",
              "3  Mira aquí el contenido exclusivo que tenemos p...      MX          11   \n",
              "4  No olvides suscribirte y activar la campanita ...      MX          11   \n",
              "\n",
              "   publish_month  trending_day  trending_month  \n",
              "0              8            12               8  \n",
              "1              8            12               8  \n",
              "2              8            12               8  \n",
              "3              8            12               8  \n",
              "4              8            12               8  \n",
              "\n",
              "[5 rows x 21 columns]"
            ],
            "text/html": [
              "\n",
              "  <div id=\"df-6ec16c56-77f2-4367-abfd-49c551ef75f1\">\n",
              "    <div class=\"colab-df-container\">\n",
              "      <div>\n",
              "<style scoped>\n",
              "    .dataframe tbody tr th:only-of-type {\n",
              "        vertical-align: middle;\n",
              "    }\n",
              "\n",
              "    .dataframe tbody tr th {\n",
              "        vertical-align: top;\n",
              "    }\n",
              "\n",
              "    .dataframe thead th {\n",
              "        text-align: right;\n",
              "    }\n",
              "</style>\n",
              "<table border=\"1\" class=\"dataframe\">\n",
              "  <thead>\n",
              "    <tr style=\"text-align: right;\">\n",
              "      <th></th>\n",
              "      <th>video_id</th>\n",
              "      <th>title</th>\n",
              "      <th>publishedAt</th>\n",
              "      <th>channelId</th>\n",
              "      <th>channelTitle</th>\n",
              "      <th>categoryId</th>\n",
              "      <th>trending_date</th>\n",
              "      <th>tags</th>\n",
              "      <th>view_count</th>\n",
              "      <th>likes</th>\n",
              "      <th>...</th>\n",
              "      <th>comment_count</th>\n",
              "      <th>thumbnail_link</th>\n",
              "      <th>comments_disabled</th>\n",
              "      <th>ratings_disabled</th>\n",
              "      <th>description</th>\n",
              "      <th>country</th>\n",
              "      <th>publish_day</th>\n",
              "      <th>publish_month</th>\n",
              "      <th>trending_day</th>\n",
              "      <th>trending_month</th>\n",
              "    </tr>\n",
              "  </thead>\n",
              "  <tbody>\n",
              "    <tr>\n",
              "      <th>0</th>\n",
              "      <td>SsWHMAhshPQ</td>\n",
              "      <td>Ovi x Natanael Cano x Aleman x Big Soto - Veng...</td>\n",
              "      <td>2020-08-11 23:00:10</td>\n",
              "      <td>UC648rgJOboZlgcDbW00vTSA</td>\n",
              "      <td>Rancho Humilde</td>\n",
              "      <td>10</td>\n",
              "      <td>2020-08-12</td>\n",
              "      <td>Vengo De Nada|Aleman|Ovi|Big Soto|Trap|Ovi Nat...</td>\n",
              "      <td>741028</td>\n",
              "      <td>113999</td>\n",
              "      <td>...</td>\n",
              "      <td>5620</td>\n",
              "      <td>https://i.ytimg.com/vi/SsWHMAhshPQ/default.jpg</td>\n",
              "      <td>False</td>\n",
              "      <td>False</td>\n",
              "      <td>Vengo De Nada - Ovi x Natanael Cano x Aleman x...</td>\n",
              "      <td>MX</td>\n",
              "      <td>11</td>\n",
              "      <td>8</td>\n",
              "      <td>12</td>\n",
              "      <td>8</td>\n",
              "    </tr>\n",
              "    <tr>\n",
              "      <th>1</th>\n",
              "      <td>JOaeND0xUNk</td>\n",
              "      <td>Belinda y Christian Nodal cantan De los besos ...</td>\n",
              "      <td>2020-08-11 18:03:06</td>\n",
              "      <td>UCNVrBkfp4_TG9x4h5kvLeAQ</td>\n",
              "      <td>TV Azteca</td>\n",
              "      <td>24</td>\n",
              "      <td>2020-08-12</td>\n",
              "      <td>tv azteca|videos de tv azteca|azteca uno|en su...</td>\n",
              "      <td>402507</td>\n",
              "      <td>8102</td>\n",
              "      <td>...</td>\n",
              "      <td>803</td>\n",
              "      <td>https://i.ytimg.com/vi/JOaeND0xUNk/default.jpg</td>\n",
              "      <td>False</td>\n",
              "      <td>False</td>\n",
              "      <td>Encendieron el escenario de La Voz. TV AztecaT...</td>\n",
              "      <td>MX</td>\n",
              "      <td>11</td>\n",
              "      <td>8</td>\n",
              "      <td>12</td>\n",
              "      <td>8</td>\n",
              "    </tr>\n",
              "    <tr>\n",
              "      <th>2</th>\n",
              "      <td>SV91jnGs--s</td>\n",
              "      <td>¿QUIÉN HACE LOS MEJORES NUGGETS? | EL GUZII</td>\n",
              "      <td>2020-08-11 19:57:02</td>\n",
              "      <td>UCuGn3ioftOo6jvHE1YK4Bfw</td>\n",
              "      <td>El Guzii</td>\n",
              "      <td>26</td>\n",
              "      <td>2020-08-12</td>\n",
              "      <td>El Guzii|Guzzi|Guzy|Guzii Style|Recetas Divert...</td>\n",
              "      <td>735044</td>\n",
              "      <td>62188</td>\n",
              "      <td>...</td>\n",
              "      <td>4100</td>\n",
              "      <td>https://i.ytimg.com/vi/SV91jnGs--s/default.jpg</td>\n",
              "      <td>False</td>\n",
              "      <td>False</td>\n",
              "      <td>Si tienes 10 kg de sobre peso tal vez te haz p...</td>\n",
              "      <td>MX</td>\n",
              "      <td>11</td>\n",
              "      <td>8</td>\n",
              "      <td>12</td>\n",
              "      <td>8</td>\n",
              "    </tr>\n",
              "    <tr>\n",
              "      <th>3</th>\n",
              "      <td>QgX0zn5nMyk</td>\n",
              "      <td>Martha Figueroa se disculpa públicamente con N...</td>\n",
              "      <td>2020-08-11 15:57:47</td>\n",
              "      <td>UCJPd6seu4JK4PZjVVTWb0QA</td>\n",
              "      <td>Hoy</td>\n",
              "      <td>24</td>\n",
              "      <td>2020-08-12</td>\n",
              "      <td>Televisa|Televisa espectaculos|programa hoy te...</td>\n",
              "      <td>521751</td>\n",
              "      <td>4680</td>\n",
              "      <td>...</td>\n",
              "      <td>2285</td>\n",
              "      <td>https://i.ytimg.com/vi/QgX0zn5nMyk/default.jpg</td>\n",
              "      <td>False</td>\n",
              "      <td>False</td>\n",
              "      <td>Mira aquí el contenido exclusivo que tenemos p...</td>\n",
              "      <td>MX</td>\n",
              "      <td>11</td>\n",
              "      <td>8</td>\n",
              "      <td>12</td>\n",
              "      <td>8</td>\n",
              "    </tr>\n",
              "    <tr>\n",
              "      <th>4</th>\n",
              "      <td>cKaM19oAwBM</td>\n",
              "      <td>MAQUILLAJE PARA KIMBERLY LOAIZA✨ RESISTENTE AL...</td>\n",
              "      <td>2020-08-11 21:55:08</td>\n",
              "      <td>UCs5w0QCxsEWz83vuQyOCnuA</td>\n",
              "      <td>Victor Guadarrama</td>\n",
              "      <td>26</td>\n",
              "      <td>2020-08-12</td>\n",
              "      <td>MAQUILLAJE|CELEBS|ARTE|MAKEUP|PESTAÑAS|KIMBERL...</td>\n",
              "      <td>168118</td>\n",
              "      <td>24551</td>\n",
              "      <td>...</td>\n",
              "      <td>782</td>\n",
              "      <td>https://i.ytimg.com/vi/cKaM19oAwBM/default.jpg</td>\n",
              "      <td>False</td>\n",
              "      <td>False</td>\n",
              "      <td>No olvides suscribirte y activar la campanita ...</td>\n",
              "      <td>MX</td>\n",
              "      <td>11</td>\n",
              "      <td>8</td>\n",
              "      <td>12</td>\n",
              "      <td>8</td>\n",
              "    </tr>\n",
              "  </tbody>\n",
              "</table>\n",
              "<p>5 rows × 21 columns</p>\n",
              "</div>\n",
              "      <button class=\"colab-df-convert\" onclick=\"convertToInteractive('df-6ec16c56-77f2-4367-abfd-49c551ef75f1')\"\n",
              "              title=\"Convert this dataframe to an interactive table.\"\n",
              "              style=\"display:none;\">\n",
              "        \n",
              "  <svg xmlns=\"http://www.w3.org/2000/svg\" height=\"24px\"viewBox=\"0 0 24 24\"\n",
              "       width=\"24px\">\n",
              "    <path d=\"M0 0h24v24H0V0z\" fill=\"none\"/>\n",
              "    <path d=\"M18.56 5.44l.94 2.06.94-2.06 2.06-.94-2.06-.94-.94-2.06-.94 2.06-2.06.94zm-11 1L8.5 8.5l.94-2.06 2.06-.94-2.06-.94L8.5 2.5l-.94 2.06-2.06.94zm10 10l.94 2.06.94-2.06 2.06-.94-2.06-.94-.94-2.06-.94 2.06-2.06.94z\"/><path d=\"M17.41 7.96l-1.37-1.37c-.4-.4-.92-.59-1.43-.59-.52 0-1.04.2-1.43.59L10.3 9.45l-7.72 7.72c-.78.78-.78 2.05 0 2.83L4 21.41c.39.39.9.59 1.41.59.51 0 1.02-.2 1.41-.59l7.78-7.78 2.81-2.81c.8-.78.8-2.07 0-2.86zM5.41 20L4 18.59l7.72-7.72 1.47 1.35L5.41 20z\"/>\n",
              "  </svg>\n",
              "      </button>\n",
              "      \n",
              "  <style>\n",
              "    .colab-df-container {\n",
              "      display:flex;\n",
              "      flex-wrap:wrap;\n",
              "      gap: 12px;\n",
              "    }\n",
              "\n",
              "    .colab-df-convert {\n",
              "      background-color: #E8F0FE;\n",
              "      border: none;\n",
              "      border-radius: 50%;\n",
              "      cursor: pointer;\n",
              "      display: none;\n",
              "      fill: #1967D2;\n",
              "      height: 32px;\n",
              "      padding: 0 0 0 0;\n",
              "      width: 32px;\n",
              "    }\n",
              "\n",
              "    .colab-df-convert:hover {\n",
              "      background-color: #E2EBFA;\n",
              "      box-shadow: 0px 1px 2px rgba(60, 64, 67, 0.3), 0px 1px 3px 1px rgba(60, 64, 67, 0.15);\n",
              "      fill: #174EA6;\n",
              "    }\n",
              "\n",
              "    [theme=dark] .colab-df-convert {\n",
              "      background-color: #3B4455;\n",
              "      fill: #D2E3FC;\n",
              "    }\n",
              "\n",
              "    [theme=dark] .colab-df-convert:hover {\n",
              "      background-color: #434B5C;\n",
              "      box-shadow: 0px 1px 3px 1px rgba(0, 0, 0, 0.15);\n",
              "      filter: drop-shadow(0px 1px 2px rgba(0, 0, 0, 0.3));\n",
              "      fill: #FFFFFF;\n",
              "    }\n",
              "  </style>\n",
              "\n",
              "      <script>\n",
              "        const buttonEl =\n",
              "          document.querySelector('#df-6ec16c56-77f2-4367-abfd-49c551ef75f1 button.colab-df-convert');\n",
              "        buttonEl.style.display =\n",
              "          google.colab.kernel.accessAllowed ? 'block' : 'none';\n",
              "\n",
              "        async function convertToInteractive(key) {\n",
              "          const element = document.querySelector('#df-6ec16c56-77f2-4367-abfd-49c551ef75f1');\n",
              "          const dataTable =\n",
              "            await google.colab.kernel.invokeFunction('convertToInteractive',\n",
              "                                                     [key], {});\n",
              "          if (!dataTable) return;\n",
              "\n",
              "          const docLinkHtml = 'Like what you see? Visit the ' +\n",
              "            '<a target=\"_blank\" href=https://colab.research.google.com/notebooks/data_table.ipynb>data table notebook</a>'\n",
              "            + ' to learn more about interactive tables.';\n",
              "          element.innerHTML = '';\n",
              "          dataTable['output_type'] = 'display_data';\n",
              "          await google.colab.output.renderOutput(dataTable, element);\n",
              "          const docLink = document.createElement('div');\n",
              "          docLink.innerHTML = docLinkHtml;\n",
              "          element.appendChild(docLink);\n",
              "        }\n",
              "      </script>\n",
              "    </div>\n",
              "  </div>\n",
              "  "
            ]
          },
          "metadata": {},
          "execution_count": 6
        }
      ],
      "source": [
        "dataset['publish_day'] = dataset.publishedAt.dt.day\n",
        "dataset['publish_month'] = dataset.publishedAt.dt.month\n",
        "dataset['trending_day'] = dataset.trending_date.dt.day\n",
        "dataset['trending_month'] = dataset.trending_date.dt.month\n",
        "dataset.head()"
      ]
    },
    {
      "cell_type": "markdown",
      "source": [
        "**Preparación de los conjuntos de pruebas y entrenamiento**"
      ],
      "metadata": {
        "id": "PrWvn4_F7wUa"
      }
    },
    {
      "cell_type": "markdown",
      "source": [
        "Teniendo en cuenta los resultados obtenidos en pruebas preliminares, hemos decidido utilizar una muestra menor del conjunto de datos, ya que si utilizamos todos los datos que tenemos los procesos de entrenamiento de los modelos tomaban un tiempo excesivo para terminar la ejecución.\n",
        "\n",
        "La muestra que usaremos tiene un tamaño del 30% del conjunto de datos original y es obtenida de manera aleatoria, aunque usamos el parámetro `random_state` para asegurar la reproducibilidad del estudio.\n"
      ],
      "metadata": {
        "id": "6RO5IKMch4EG"
      }
    },
    {
      "cell_type": "code",
      "source": [
        "sample_dataset = dataset.sample(frac = 0.3, random_state = 11)\n",
        "sample_dataset.shape"
      ],
      "metadata": {
        "colab": {
          "base_uri": "https://localhost:8080/"
        },
        "id": "OLBggbBEVujW",
        "outputId": "18ce8972-97e8-44eb-dd0f-bf3f0f8a9ebb"
      },
      "execution_count": null,
      "outputs": [
        {
          "output_type": "execute_result",
          "data": {
            "text/plain": [
              "(397896, 21)"
            ]
          },
          "metadata": {},
          "execution_count": 42
        }
      ]
    },
    {
      "cell_type": "markdown",
      "source": [
        "Seleccionamos las columnas que utilizaremos para el conjunto de entrenamiento en la variable `X` y en la variable `y` almacenamos las etiquetas de clase."
      ],
      "metadata": {
        "id": "LiHzKsYA8MbW"
      }
    },
    {
      "cell_type": "code",
      "execution_count": null,
      "metadata": {
        "id": "G_HkbkNCjgfv"
      },
      "outputs": [],
      "source": [
        "columns = ['categoryId', 'view_count', 'likes', 'dislikes', 'comment_count', 'comments_disabled',\n",
        "           'ratings_disabled', 'publish_day', 'publish_month', 'trending_day']\n",
        "\n",
        "X = sample_dataset[columns]\n",
        "y = sample_dataset['trending_month']"
      ]
    },
    {
      "cell_type": "markdown",
      "source": [
        "Separamos el conjunto de datos en una proporción de 70%-30% para los conjuntos de entrenamiento y de pruebas respectivamente.\n",
        "Utilizamos el parámetro `stratify` para asegurarnos que los subconjuntos generados mantengan las mismas proporciones de las etiquetas de clase. También usamos el parámetro `random_state` para asegurar la reproducibilidad del estudio."
      ],
      "metadata": {
        "id": "2ePSPI7EVMGf"
      }
    },
    {
      "cell_type": "code",
      "source": [
        "from sklearn.model_selection import train_test_split\n",
        "\n",
        "X_train, X_test, y_train, y_test = train_test_split(X, y,\n",
        "                                                    test_size=.30,\n",
        "                                                    stratify=y,\n",
        "                                                    random_state=11)"
      ],
      "metadata": {
        "id": "Fleq5gW0FuIo"
      },
      "execution_count": null,
      "outputs": []
    },
    {
      "cell_type": "markdown",
      "source": [
        "Normalizamos los datos utilizando la clase `MinMaxScaler` para que estos estén a una misma escala obteniendo valores entre 0 y 1."
      ],
      "metadata": {
        "id": "L0asCbWx90Fm"
      }
    },
    {
      "cell_type": "code",
      "source": [
        "from sklearn.preprocessing import MinMaxScaler\n",
        "\n",
        "month_scaler = MinMaxScaler().fit(X_train)\n",
        "X_train_norm = month_scaler.transform(X_train)\n",
        "X_test_norm = month_scaler.transform(X_test)"
      ],
      "metadata": {
        "id": "NcmwAvff8htk"
      },
      "execution_count": null,
      "outputs": []
    },
    {
      "cell_type": "markdown",
      "source": [
        "**Entrenamiento de los modelos para predecir el mes**"
      ],
      "metadata": {
        "id": "33edDzD6Uybn"
      }
    },
    {
      "cell_type": "markdown",
      "source": [
        "Primero definiremos los algoritmos que utilizaremos y los parámetros a probar.\n",
        "Utilizaremos la métrica `f1_weighted` como valor de comparación para seleccionar los mejores parámetros utilizando la clase `GridSearchCV`"
      ],
      "metadata": {
        "id": "Bd0SIwO0INUm"
      }
    },
    {
      "cell_type": "code",
      "source": [
        "from sklearn.tree import DecisionTreeClassifier\n",
        "from sklearn.neighbors import KNeighborsClassifier\n",
        "from sklearn.svm import SVC\n",
        "from sklearn.model_selection import GridSearchCV\n",
        "\n",
        "score = 'f1_weighted'\n",
        "\n",
        "dt_params = {'criterion': ['gini', 'entropy'], 'max_depth': [2, 5, 7, 10]}\n",
        "month_dt = GridSearchCV(DecisionTreeClassifier(random_state = 11), \n",
        "                   param_grid = dt_params, \n",
        "                   cv = 3,\n",
        "                   scoring = score)\n",
        "\n",
        "knn_params = {'n_neighbors': [5, 7, 10], 'weights': ['uniform','distance']}\n",
        "month_knn = GridSearchCV(KNeighborsClassifier(), \n",
        "                   param_grid = knn_params, \n",
        "                   cv = 3,\n",
        "                   scoring = score)\n",
        "\n",
        "svm_params = {'C': [1, 10], 'gamma': [0.01, 0.001]}\n",
        "month_svm = GridSearchCV(SVC(random_state = 11, max_iter = 50), \n",
        "                   param_grid = svm_params, \n",
        "                   cv = 3,\n",
        "                   scoring = score)"
      ],
      "metadata": {
        "id": "u1gZFVrk-6xf"
      },
      "execution_count": null,
      "outputs": []
    },
    {
      "cell_type": "code",
      "source": [
        "month_dt.fit(X_train_norm, y_train) \n",
        "print(\"Decision tree:\", month_dt.best_params_)"
      ],
      "metadata": {
        "colab": {
          "base_uri": "https://localhost:8080/"
        },
        "outputId": "0a6f7556-4d2a-4470-91fa-c21dd4cf8b67",
        "id": "loTR74vJQ2bK"
      },
      "execution_count": null,
      "outputs": [
        {
          "output_type": "stream",
          "name": "stdout",
          "text": [
            "Decision tree: {'criterion': 'entropy', 'max_depth': 10}\n"
          ]
        }
      ]
    },
    {
      "cell_type": "code",
      "source": [
        "month_knn.fit(X_train_norm, y_train)\n",
        "print(\"K-nearest neighbors:\", month_knn.best_params_)"
      ],
      "metadata": {
        "colab": {
          "base_uri": "https://localhost:8080/"
        },
        "outputId": "51f45be1-b31e-47d8-9f31-474ea75beec9",
        "id": "rUI3CQdvRZMq"
      },
      "execution_count": null,
      "outputs": [
        {
          "output_type": "stream",
          "name": "stdout",
          "text": [
            "K-nearest neighbors: {'n_neighbors': 5, 'weights': 'distance'}\n"
          ]
        }
      ]
    },
    {
      "cell_type": "markdown",
      "source": [
        "Para el entrenamiento del modelo que utiliza Support Vector Machines se limitó la cantidad de iteraciones que se realizan, ya que en una prueba anterior el algoritmo estuvo ejecutándose por más de 30 min."
      ],
      "metadata": {
        "id": "b8TkGuCQLQBs"
      }
    },
    {
      "cell_type": "code",
      "source": [
        "from warnings import filterwarnings\n",
        "filterwarnings('ignore')\n",
        "\n",
        "month_svm.fit(X_train_norm, y_train) \n",
        "print(\"Support Vector Machines:\", month_svm.best_params_)"
      ],
      "metadata": {
        "id": "dz0toVo7Wj-U",
        "colab": {
          "base_uri": "https://localhost:8080/"
        },
        "outputId": "b289b453-3e36-4fe0-88f3-0834edc28720"
      },
      "execution_count": null,
      "outputs": [
        {
          "output_type": "stream",
          "name": "stdout",
          "text": [
            "Support Vector Machines: {'C': 10, 'gamma': 0.01}\n"
          ]
        }
      ]
    },
    {
      "cell_type": "markdown",
      "source": [
        "**Resultado de las predicciones**"
      ],
      "metadata": {
        "id": "fjiKVwX0U20M"
      }
    },
    {
      "cell_type": "code",
      "source": [
        "from sklearn.metrics import accuracy_score\n",
        "from sklearn.metrics import classification_report"
      ],
      "metadata": {
        "id": "YLThBeH3pcC0"
      },
      "execution_count": null,
      "outputs": []
    },
    {
      "cell_type": "code",
      "source": [
        "month_dt_y_pred = month_dt.predict(X_test_norm)  \n",
        "print(\"-------------------- Decision Trees --------------------\")\n",
        "print(\"Accuracy: \", accuracy_score(y_test, month_dt_y_pred))\n",
        "print(classification_report(y_test, month_dt_y_pred))"
      ],
      "metadata": {
        "colab": {
          "base_uri": "https://localhost:8080/"
        },
        "outputId": "bdbfa074-bde6-4173-9ad0-523964f575a6",
        "id": "WAOXwcDgRSor"
      },
      "execution_count": null,
      "outputs": [
        {
          "output_type": "stream",
          "name": "stdout",
          "text": [
            "-------------------- Decision Trees --------------------\n",
            "Accuracy:  0.9994387152443264\n",
            "              precision    recall  f1-score   support\n",
            "\n",
            "           1       1.00      1.00      1.00     12247\n",
            "           2       1.00      1.00      1.00     10771\n",
            "           3       1.00      1.00      1.00     12397\n",
            "           4       1.00      1.00      1.00      7222\n",
            "           5       1.00      1.00      1.00      5046\n",
            "           6       1.00      1.00      1.00      8752\n",
            "           7       1.00      1.00      1.00      6144\n",
            "           8       1.00      1.00      1.00      9929\n",
            "           9       1.00      1.00      1.00     11668\n",
            "          10       1.00      1.00      1.00     12014\n",
            "          11       1.00      1.00      1.00     11451\n",
            "          12       1.00      1.00      1.00     11728\n",
            "\n",
            "    accuracy                           1.00    119369\n",
            "   macro avg       1.00      1.00      1.00    119369\n",
            "weighted avg       1.00      1.00      1.00    119369\n",
            "\n"
          ]
        }
      ]
    },
    {
      "cell_type": "code",
      "source": [
        "month_knn_y_pred = month_knn.predict(X_test_norm)  \n",
        "print(\"-------------------- K-Nearest Neighbors --------------------\")\n",
        "print(\"Accuracy: \", accuracy_score(y_test, month_knn_y_pred))\n",
        "print(classification_report(y_test, month_knn_y_pred))"
      ],
      "metadata": {
        "colab": {
          "base_uri": "https://localhost:8080/"
        },
        "outputId": "e7e26138-0ecb-489e-9c42-2fef80c645e4",
        "id": "Ou-vYlzvUS08"
      },
      "execution_count": null,
      "outputs": [
        {
          "output_type": "stream",
          "name": "stdout",
          "text": [
            "-------------------- K-Nearest Neighbors --------------------\n",
            "Accuracy:  0.9976040680578709\n",
            "              precision    recall  f1-score   support\n",
            "\n",
            "           1       1.00      1.00      1.00     12247\n",
            "           2       1.00      1.00      1.00     10771\n",
            "           3       1.00      1.00      1.00     12397\n",
            "           4       1.00      0.99      1.00      7222\n",
            "           5       1.00      0.99      0.99      5046\n",
            "           6       1.00      1.00      1.00      8752\n",
            "           7       1.00      1.00      1.00      6144\n",
            "           8       1.00      1.00      1.00      9929\n",
            "           9       1.00      1.00      1.00     11668\n",
            "          10       1.00      1.00      1.00     12014\n",
            "          11       1.00      1.00      1.00     11451\n",
            "          12       1.00      1.00      1.00     11728\n",
            "\n",
            "    accuracy                           1.00    119369\n",
            "   macro avg       1.00      1.00      1.00    119369\n",
            "weighted avg       1.00      1.00      1.00    119369\n",
            "\n"
          ]
        }
      ]
    },
    {
      "cell_type": "code",
      "source": [
        "month_svm_y_pred = month_svm.predict(X_test_norm)  \n",
        "print(\"-------------------- Support Vector Machines --------------------\")\n",
        "print(\"Accuracy: \", accuracy_score(y_test, month_svm_y_pred))\n",
        "print(classification_report(y_test, month_svm_y_pred))"
      ],
      "metadata": {
        "id": "tDcDKJgtpwhP",
        "colab": {
          "base_uri": "https://localhost:8080/"
        },
        "outputId": "d20ac505-d3b5-4517-ddcd-c59908454589"
      },
      "execution_count": null,
      "outputs": [
        {
          "output_type": "stream",
          "name": "stdout",
          "text": [
            "-------------------- Support Vector Machines --------------------\n",
            "Accuracy:  0.450351431276127\n",
            "              precision    recall  f1-score   support\n",
            "\n",
            "           1       0.00      0.00      0.00     12247\n",
            "           2       0.27      0.38      0.31     10771\n",
            "           3       0.50      0.65      0.56     12397\n",
            "           4       0.04      0.02      0.03      7222\n",
            "           5       0.19      0.33      0.24      5046\n",
            "           6       0.07      0.04      0.05      8752\n",
            "           7       0.26      0.44      0.33      6144\n",
            "           8       0.60      0.41      0.49      9929\n",
            "           9       0.64      0.91      0.76     11668\n",
            "          10       0.86      0.50      0.63     12014\n",
            "          11       0.47      0.57      0.52     11451\n",
            "          12       0.59      0.82      0.69     11728\n",
            "\n",
            "    accuracy                           0.45    119369\n",
            "   macro avg       0.37      0.42      0.38    119369\n",
            "weighted avg       0.41      0.45      0.41    119369\n",
            "\n"
          ]
        }
      ]
    },
    {
      "cell_type": "markdown",
      "source": [
        "Como se puede observar en las métricas de clasificación, el modelo entrenado con el algoritmo SVM fue el que tuvo los peores resultados, lo cual es consecuente con la limitación de iteraciones que impusimos para el entrenamiento de este modelo. Si bien es probable que se pudiesen obtener un mejor rendimiento del modelo si no limitásemos la cantidad de iteraciones, el tiempo de entrenamiento aumenta considerablemente y es mucho más tardío en comparación a los demás modelos entrenados.\n",
        "\n",
        "El modelo a elegir es el entrenado con el algoritmo Decision Trees, el cual tiene métricas de clasificación parecidas a las del modelo de K-NN, pero el primero tomó menos de un minuto para el entrenamiento del modelo, mientras que el segundo se tardó alrededor de 10 min."
      ],
      "metadata": {
        "id": "UX8mfTq1enlg"
      }
    },
    {
      "cell_type": "markdown",
      "source": [
        "**Entrenamiento del modelo para predecir el día**"
      ],
      "metadata": {
        "id": "Psw2eJ_LhNgg"
      }
    },
    {
      "cell_type": "markdown",
      "source": [
        "Para el entrenamiento del modelo que predecirá el día en que un video entra a la lista de tendencias, utilizaremos el algoritmo DecisionTrees con los parámetros que se obtuvieron en el paso anterior `criterion = 'entropy'` y `max_depth = 10`"
      ],
      "metadata": {
        "id": "MKtFjTXCjmMK"
      }
    },
    {
      "cell_type": "code",
      "source": [
        "columns = ['categoryId', 'view_count', 'likes', 'dislikes', 'comment_count', 'comments_disabled',\n",
        "           'ratings_disabled', 'publish_day', 'publish_month', 'trending_month']\n",
        "\n",
        "X = sample_dataset[columns]\n",
        "y = sample_dataset['trending_day']\n",
        "\n",
        "\n",
        "X_train, X_test, y_train, y_test = train_test_split(X, y,\n",
        "                                                    test_size=.30,\n",
        "                                                    stratify=y,\n",
        "                                                    random_state=11)\n",
        "\n",
        "day_scaler = MinMaxScaler().fit(X_train)\n",
        "X_train_norm = day_scaler.transform(X_train)\n",
        "X_test_norm = day_scaler.transform(X_test)\n",
        "\n",
        "day_dt = DecisionTreeClassifier(random_state = 11)\n",
        "day_dt.fit(X_train_norm, y_train)\n",
        "\n",
        "day_dt_y_pred = day_dt.predict(X_test_norm)  \n",
        "print(\"-------------------- Decision Trees --------------------\")\n",
        "print(\"Accuracy: \", accuracy_score(y_test, day_dt_y_pred))\n",
        "print(classification_report(y_test, day_dt_y_pred))"
      ],
      "metadata": {
        "id": "bt59xHychmX5",
        "colab": {
          "base_uri": "https://localhost:8080/"
        },
        "outputId": "f4962ee8-c281-4389-bd1f-6021b434c566"
      },
      "execution_count": null,
      "outputs": [
        {
          "output_type": "stream",
          "name": "stdout",
          "text": [
            "-------------------- Decision Trees --------------------\n",
            "Accuracy:  0.25282108420109073\n",
            "              precision    recall  f1-score   support\n",
            "\n",
            "           1       0.38      0.35      0.36      4076\n",
            "           2       0.31      0.31      0.31      4339\n",
            "           3       0.25      0.25      0.25      4104\n",
            "           4       0.24      0.24      0.24      3904\n",
            "           5       0.23      0.23      0.23      4136\n",
            "           6       0.23      0.23      0.23      3914\n",
            "           7       0.25      0.25      0.25      4138\n",
            "           8       0.24      0.24      0.24      3888\n",
            "           9       0.22      0.22      0.22      3937\n",
            "          10       0.22      0.22      0.22      3917\n",
            "          11       0.24      0.25      0.24      3956\n",
            "          12       0.24      0.24      0.24      4101\n",
            "          13       0.24      0.24      0.24      4134\n",
            "          14       0.26      0.26      0.26      4053\n",
            "          15       0.24      0.24      0.24      4132\n",
            "          16       0.24      0.25      0.25      4117\n",
            "          17       0.25      0.24      0.24      4138\n",
            "          18       0.23      0.24      0.23      3699\n",
            "          19       0.24      0.24      0.24      3901\n",
            "          20       0.23      0.22      0.23      3949\n",
            "          21       0.24      0.24      0.24      3951\n",
            "          22       0.23      0.23      0.23      3763\n",
            "          23       0.22      0.22      0.22      3730\n",
            "          24       0.25      0.25      0.25      3959\n",
            "          25       0.24      0.23      0.23      3802\n",
            "          26       0.22      0.22      0.22      3497\n",
            "          27       0.25      0.25      0.25      3733\n",
            "          28       0.24      0.25      0.24      3153\n",
            "          29       0.27      0.28      0.27      3349\n",
            "          30       0.33      0.33      0.33      3361\n",
            "          31       0.44      0.44      0.44      2538\n",
            "\n",
            "    accuracy                           0.25    119369\n",
            "   macro avg       0.26      0.25      0.25    119369\n",
            "weighted avg       0.25      0.25      0.25    119369\n",
            "\n"
          ]
        }
      ]
    },
    {
      "cell_type": "markdown",
      "source": [
        "Vemos que no se obtienen resultados favorables con los parámetros anteriores, por lo tanto, volveremos a realizar el proceso para comparar los distintos algoritmos."
      ],
      "metadata": {
        "id": "Du_09nC_pyb1"
      }
    },
    {
      "cell_type": "code",
      "source": [
        "score = 'f1_weighted'\n",
        "\n",
        "dt_params = {'criterion': ['gini', 'entropy'], 'max_depth': [2, 5, 7, 10]}\n",
        "day_dt = GridSearchCV(DecisionTreeClassifier(random_state = 11), \n",
        "                   param_grid = dt_params, \n",
        "                   cv = 3,\n",
        "                   scoring = score)\n",
        "\n",
        "knn_params = {'n_neighbors': [5, 7, 10], 'weights': ['uniform','distance']}\n",
        "day_knn = GridSearchCV(KNeighborsClassifier(), \n",
        "                   param_grid = knn_params, \n",
        "                   cv = 3,\n",
        "                   scoring = score)\n",
        "\n",
        "svm_params = {'C': [1, 10], 'gamma': [0.01, 0.001]}\n",
        "day_svm = GridSearchCV(SVC(random_state = 11, max_iter = 50), \n",
        "                   param_grid = svm_params, \n",
        "                   cv = 3,\n",
        "                   scoring = score)"
      ],
      "metadata": {
        "id": "ulUi2fZYqRhp"
      },
      "execution_count": null,
      "outputs": []
    },
    {
      "cell_type": "code",
      "source": [
        "day_dt.fit(X_train_norm, y_train) \n",
        "print(\"Decision tree:\", day_dt.best_params_)"
      ],
      "metadata": {
        "colab": {
          "base_uri": "https://localhost:8080/"
        },
        "id": "c2nerDkVqi75",
        "outputId": "0825e2fb-88f5-4241-da25-6bade1ac61f5"
      },
      "execution_count": null,
      "outputs": [
        {
          "output_type": "stream",
          "name": "stdout",
          "text": [
            "Decision tree: {'criterion': 'gini', 'max_depth': 10}\n"
          ]
        }
      ]
    },
    {
      "cell_type": "code",
      "source": [
        "day_knn.fit(X_train_norm, y_train)\n",
        "print(\"K-nearest neighbors:\", day_knn.best_params_)"
      ],
      "metadata": {
        "colab": {
          "base_uri": "https://localhost:8080/"
        },
        "id": "ZiCax9N0qoEm",
        "outputId": "59d36d37-7b2c-412b-af64-7e417216dbe4"
      },
      "execution_count": null,
      "outputs": [
        {
          "output_type": "stream",
          "name": "stdout",
          "text": [
            "K-nearest neighbors: {'n_neighbors': 10, 'weights': 'distance'}\n"
          ]
        }
      ]
    },
    {
      "cell_type": "code",
      "source": [
        "day_svm.fit(X_train_norm, y_train) \n",
        "print(\"Support Vector Machines:\", day_svm.best_params_)"
      ],
      "metadata": {
        "colab": {
          "base_uri": "https://localhost:8080/"
        },
        "id": "H51vyASNqwxR",
        "outputId": "2e427534-2049-4d8b-86a5-ce0e7faa538b"
      },
      "execution_count": null,
      "outputs": [
        {
          "output_type": "stream",
          "name": "stdout",
          "text": [
            "Support Vector Machines: {'C': 1, 'gamma': 0.01}\n"
          ]
        }
      ]
    },
    {
      "cell_type": "code",
      "source": [
        "from sklearn.metrics import f1_score"
      ],
      "metadata": {
        "id": "iFBmh3Aeq_iA"
      },
      "execution_count": null,
      "outputs": []
    },
    {
      "cell_type": "code",
      "source": [
        "day_dt_y_pred = day_dt.predict(X_test_norm)  \n",
        "print(\"-------------------- Decision Trees --------------------\")\n",
        "print(\"Accuracy: \", accuracy_score(y_test, day_dt_y_pred))\n",
        "print(\"F1: \", f1_score(y_test, day_dt_y_pred, average = 'weighted'))"
      ],
      "metadata": {
        "colab": {
          "base_uri": "https://localhost:8080/"
        },
        "id": "p21UzZd8q1DO",
        "outputId": "5cfcb753-0952-4a96-9ff0-fac288642977"
      },
      "execution_count": null,
      "outputs": [
        {
          "output_type": "stream",
          "name": "stdout",
          "text": [
            "-------------------- Decision Trees --------------------\n",
            "Accuracy:  0.20331911970444588\n",
            "F1:  0.19671178590480773\n"
          ]
        }
      ]
    },
    {
      "cell_type": "code",
      "source": [
        "day_knn_y_pred = day_knn.predict(X_test_norm)  \n",
        "print(\"-------------------- K-Nearest Neighbors --------------------\")\n",
        "print(\"Accuracy: \", accuracy_score(y_test, day_knn_y_pred))\n",
        "print(\"F1: \", f1_score(y_test, day_knn_y_pred, average = 'weighted'))"
      ],
      "metadata": {
        "colab": {
          "base_uri": "https://localhost:8080/"
        },
        "id": "cHyh60DNrKiV",
        "outputId": "c2cef3a3-5138-4aee-e33a-b8429e92e4a3"
      },
      "execution_count": null,
      "outputs": [
        {
          "output_type": "stream",
          "name": "stdout",
          "text": [
            "-------------------- K-Nearest Neighbors --------------------\n",
            "Accuracy:  0.24834756092452814\n",
            "F1:  0.2483610083878921\n"
          ]
        }
      ]
    },
    {
      "cell_type": "code",
      "source": [
        "day_svm_y_pred = day_svm.predict(X_test_norm)  \n",
        "print(\"-------------------- Support Vector Machines --------------------\")\n",
        "print(\"Accuracy: \", accuracy_score(y_test, day_svm_y_pred))\n",
        "print(\"F1: \", f1_score(y_test, day_svm_y_pred, average = 'weighted'))"
      ],
      "metadata": {
        "colab": {
          "base_uri": "https://localhost:8080/"
        },
        "id": "LYDduYJgrXOc",
        "outputId": "dd9d6aa9-a4e9-4008-cd16-2dea2065ba2c"
      },
      "execution_count": null,
      "outputs": [
        {
          "output_type": "stream",
          "name": "stdout",
          "text": [
            "-------------------- Support Vector Machines --------------------\n",
            "Accuracy:  0.03511799545945765\n",
            "F1:  0.013366933813444743\n"
          ]
        }
      ]
    },
    {
      "cell_type": "markdown",
      "source": [
        "Se observa que ninguno de los modelos entrenados obtiene buenos resultados en las métricas de clasificación observadas (exactitud y F1). El modelo entrenado con K-NN fue el que obtuvo los mejores resultados, pero estos siguen siendo demasiado bajos como para intentar predecir el día y acertar con cierta regularidad."
      ],
      "metadata": {
        "id": "Uko6WS7zOqy2"
      }
    },
    {
      "cell_type": "markdown",
      "source": [
        "Para asegurarnos de que los modelos tuvieron malos resultados debido a que utilizamos una muestra del conjunto de datos, y aprovechándonos de que al utilizar el algoritmo Decision Trees el tiempo de entrenamiento del modelo no aumenta significativamente al aumentar la cantidad de datos, volveremos a entrenar un modelo con Decision Trees pero esta vez utilizando todo el conjunto de datos."
      ],
      "metadata": {
        "id": "Sekv9mZ1QfvN"
      }
    },
    {
      "cell_type": "code",
      "source": [
        "columns = ['categoryId', 'view_count', 'likes', 'dislikes', 'comment_count', 'comments_disabled',\n",
        "           'ratings_disabled', 'publish_day', 'publish_month', 'trending_month']\n",
        "\n",
        "X = dataset[columns]\n",
        "y = dataset['trending_day']\n",
        "\n",
        "\n",
        "X_train, X_test, y_train, y_test = train_test_split(X, y,\n",
        "                                                    test_size=.30,\n",
        "                                                    stratify=y,\n",
        "                                                    random_state=11)\n",
        "\n",
        "day_scaler = MinMaxScaler().fit(X_train)\n",
        "X_train_norm = day_scaler.transform(X_train)\n",
        "X_test_norm = day_scaler.transform(X_test)\n",
        "\n",
        "score = 'f1_weighted'\n",
        "\n",
        "dt_params = {'criterion': ['gini', 'entropy'], 'max_depth': [2, 5, 7, 10]}\n",
        "day_dt = GridSearchCV(DecisionTreeClassifier(random_state = 11), \n",
        "                   param_grid = dt_params, \n",
        "                   cv = 3,\n",
        "                   scoring = score)\n",
        "                \n",
        "day_dt.fit(X_train_norm, y_train) \n",
        "print(\"Decision tree:\", day_dt.best_params_)\n",
        "\n",
        "day_dt_y_pred = day_dt.predict(X_test_norm)  \n",
        "print(\"-------------------- Decision Trees --------------------\")\n",
        "print(\"Accuracy: \", accuracy_score(y_test, day_dt_y_pred))\n",
        "print(\"F1: \", f1_score(y_test, day_dt_y_pred, average = 'weighted'))"
      ],
      "metadata": {
        "colab": {
          "base_uri": "https://localhost:8080/"
        },
        "id": "_mnkWd8QWKzq",
        "outputId": "d6bdfdd9-8b99-4c87-ea80-c2cdfd8a03ee"
      },
      "execution_count": null,
      "outputs": [
        {
          "output_type": "stream",
          "name": "stdout",
          "text": [
            "Decision tree: {'criterion': 'gini', 'max_depth': 10}\n",
            "-------------------- Decision Trees --------------------\n",
            "Accuracy:  0.20742051334893202\n",
            "F1:  0.20406952320873875\n"
          ]
        }
      ]
    },
    {
      "cell_type": "markdown",
      "source": [
        "Vemos que las métricas de clasificación tuvieron una mejora ínfima respecto del mismo modelo entrenado utilizando una muestra más pequeña."
      ],
      "metadata": {
        "id": "fzKJpx4uXRHy"
      }
    },
    {
      "cell_type": "markdown",
      "source": [
        "**Conclusión**"
      ],
      "metadata": {
        "id": "DajTj4A0Z3RS"
      }
    },
    {
      "cell_type": "markdown",
      "source": [
        "No es posible predecir la fecha en la que un video entrara a la lista de tendencias de YouTube. Si bien, de los modelos entrenados se puede predecir con bastante exactitud el mes en el que un video entrara a la lista de tendencias, consideramos que la predicción de este dato no es de gran importancia o utilidad, ya que, como se muestra a continuación, solo el 15% de los videos incluidos en los datos entra a la lista de tendencias en un mes diferente al que se subió a la plataforma."
      ],
      "metadata": {
        "id": "0mRC2MVVZ50M"
      }
    },
    {
      "cell_type": "code",
      "source": [
        "different = dataset.loc[dataset['publish_month'] != dataset['trending_month']].shape[0]\n",
        "total = dataset.loc[dataset['publish_month'] == dataset['trending_month']].shape[0]\n",
        "\n",
        "print(different*100/total, \"%\")"
      ],
      "metadata": {
        "colab": {
          "base_uri": "https://localhost:8080/"
        },
        "id": "6361_TZCYya9",
        "outputId": "f6c2c297-cc3a-4433-fc83-49bd8038fbe5"
      },
      "execution_count": null,
      "outputs": [
        {
          "output_type": "stream",
          "name": "stdout",
          "text": [
            "15.203533443065792 %\n"
          ]
        }
      ]
    },
    {
      "cell_type": "markdown",
      "metadata": {
        "id": "d6RsOUalb8M_"
      },
      "source": [
        "# Repositorio GitHub\n",
        "\n",
        "El proyecto se documenta en un repositorio de GitHub, donde se podrá acceder en el siguiente link:\n",
        "\n",
        "[Repositorio de Github](https://github.com/Jjaraa/yt-trending)"
      ]
    },
    {
      "cell_type": "markdown",
      "metadata": {
        "id": "ptUM3yOIb-AA"
      },
      "source": [
        "# Lista de presentaciones\n",
        "\n",
        "Se agregarán los links para acceder a los videos de las presentaciones del proyecto en la lista a continuación:\n",
        "\n",
        "[Presentación Hito 1](https://drive.google.com/file/d/1FtXd9IpnTddy92ABYJQkYAO-QjKWWMUk/view?usp=sharing)"
      ]
    },
    {
      "cell_type": "markdown",
      "metadata": {
        "id": "XwkNtRwOcEDW"
      },
      "source": [
        "# Responsabilidades del grupo de trabajo\n",
        "\n",
        "**Sebastian Pardo**: Estuvo a cargo de la redacción de las secciones: Introducción y Preguntas y Problemas. Se encargó del desarrollo del análisis inicial del archivo *MX_category_id.json*, la matriz de correlación del dataset de Mexico y los gráficos: *Cantidad de videos por categoría*, *Visitas vs likes*, *Visitas vs dislikes*, *Visitas vs comentarios*, *Top 10 canales con mas videos*, *Matriz de correlación entre los atributos*, *Cantidad de videos en trending por país*, *Cantidad de visitas por país* y *Canales con mas videos en la lista de tentendias (global)* . Finalmente se hizo cargo del desarrollo de la subsección *Análisis comparativo de todos los países*. Para el hito 2 se encargó de traspasar el informe a un Jupyter Notebook. El desarrollo de la propuesta experimental para la pregunta 1 y la seccion \"Resultado preliminar\"\n",
        "\n",
        "**Mauricio Campos**: Se encargó de redactar y explicar cada columna del dataset usado para el desarrollo del informe (mx_dataset y MX_category_id). También se encargó del desarrollo exploratorio de la sección *Cantidad de videos por categoria*. \n",
        "\n",
        "**Jonathan Jara**: Se encargó del análisis de las subsecciones de *Visitas vs likes*, *Visitas vs dislikes*, *Visitas vs comentarios*, de planificar la estructura de trabajo con el versionamiento en el repositorio, de la estructura general del informe, creación de secciones y subsecciones, argumentación de la sección Preguntas y Problemas para las preguntas y planteamiento para el problema identificado. También se encargó de sintentizar los resultados del analisis exploratorio para las subsecciones analizadas por el en la subseccion *Resumen final de visitas*. Para el hito 2 se encargó de crear la propuesta 2 en el informe, de resumir el resultado preliminar en la presentación, de contextualizar el proyecto en la presentación y de describir terminologías como cultura general de Youtube y videos en tendencias para la presentación e informe.\n"
      ]
    },
    {
      "cell_type": "markdown",
      "metadata": {
        "id": "11iNFlhTcIiB"
      },
      "source": [
        "# Referencias\n",
        "\n",
        "[1] Statista. (2022, March 8). Global social networks ranked by number of users 2022. https://www.statista.com/statistics/272014/global-social-networks-ranked-by-number-of-users/\n",
        "\n",
        "[2] Statista. (2021, July 20). Youtube users in the World 2017–2025. https://www.statista.com/forecasts/1144088/youtube-users-in-the-world\n",
        "\n",
        "[3] Statista. (2022b, April 28). Media usage in an online minute 2021. https://www.statista.com/statistics/195140/new-user-generated-content-uploaded-by-users-per-minute/\n",
        "\n",
        "[4] Statista. (2022b, April 4). Hours of video uploaded to YouTube every minute 2007–2020. https://www.statista.com/statistics/259477/hours-of-video-uploaded-to-youtube-every-minute/\n",
        "\n",
        "[5] Google, LLC. (n.d.). Tendencias de YouTube - Ayuda de YouTube. Ayuda de YouTube. https://support.google.com/youtube/answer/7239739?hl=es-419\n",
        "\n"
      ]
    },
    {
      "cell_type": "code",
      "source": [
        "%%shell\n",
        "jupyter nbconvert --to html yt_trending.ipynb"
      ],
      "metadata": {
        "colab": {
          "base_uri": "https://localhost:8080/"
        },
        "id": "pt-p68HGyQFI",
        "outputId": "0402b5e5-a989-4655-ea11-708ceb041f43"
      },
      "execution_count": null,
      "outputs": [
        {
          "output_type": "stream",
          "name": "stdout",
          "text": [
            "[NbConvertApp] Converting notebook yt_trending.ipynb to html\n",
            "[NbConvertApp] Writing 1115999 bytes to yt_trending.html\n"
          ]
        },
        {
          "output_type": "execute_result",
          "data": {
            "text/plain": [
              ""
            ]
          },
          "metadata": {},
          "execution_count": 1
        }
      ]
    }
  ],
  "metadata": {
    "colab": {
      "collapsed_sections": [],
      "name": "yt-trending.ipynb",
      "provenance": [],
      "include_colab_link": true
    },
    "kernelspec": {
      "display_name": "Python 3",
      "name": "python3"
    },
    "language_info": {
      "name": "python"
    }
  },
  "nbformat": 4,
  "nbformat_minor": 0
}